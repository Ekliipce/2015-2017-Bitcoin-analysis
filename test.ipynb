{
 "cells": [
  {
   "attachments": {},
   "cell_type": "markdown",
   "metadata": {},
   "source": [
    "## Imports"
   ]
  },
  {
   "cell_type": "code",
   "execution_count": 261,
   "metadata": {},
   "outputs": [],
   "source": [
    "# Make the good imports\n",
    "import numpy as np\n",
    "import pandas as pd\n",
    "import matplotlib.pyplot as plt\n",
    "import plotly.express as px"
   ]
  },
  {
   "attachments": {},
   "cell_type": "markdown",
   "metadata": {},
   "source": [
    "## Loading our DataFrame"
   ]
  },
  {
   "cell_type": "code",
   "execution_count": 262,
   "metadata": {},
   "outputs": [
    {
     "data": {
      "text/html": [
       "<div>\n",
       "<style scoped>\n",
       "    .dataframe tbody tr th:only-of-type {\n",
       "        vertical-align: middle;\n",
       "    }\n",
       "\n",
       "    .dataframe tbody tr th {\n",
       "        vertical-align: top;\n",
       "    }\n",
       "\n",
       "    .dataframe thead th {\n",
       "        text-align: right;\n",
       "    }\n",
       "</style>\n",
       "<table border=\"1\" class=\"dataframe\">\n",
       "  <thead>\n",
       "    <tr style=\"text-align: right;\">\n",
       "      <th></th>\n",
       "      <th>year</th>\n",
       "      <th>month</th>\n",
       "      <th>day</th>\n",
       "      <th>identity</th>\n",
       "      <th>received</th>\n",
       "      <th>nb_received</th>\n",
       "      <th>date</th>\n",
       "      <th>sum_fee</th>\n",
       "      <th>mean_fee_for100</th>\n",
       "      <th>nb_transactions</th>\n",
       "      <th>sent</th>\n",
       "      <th>self_spent</th>\n",
       "      <th>self_spent_estimated</th>\n",
       "      <th>nb_spent</th>\n",
       "      <th>spent</th>\n",
       "    </tr>\n",
       "  </thead>\n",
       "  <tbody>\n",
       "    <tr>\n",
       "      <th>90398</th>\n",
       "      <td>0.0</td>\n",
       "      <td>0.0</td>\n",
       "      <td>0.0</td>\n",
       "      <td>BTCJam.com</td>\n",
       "      <td>0.0</td>\n",
       "      <td>0.0</td>\n",
       "      <td>2017-06-17</td>\n",
       "      <td>145053.0</td>\n",
       "      <td>8.643929</td>\n",
       "      <td>1.0</td>\n",
       "      <td>1387984.0</td>\n",
       "      <td>0.0</td>\n",
       "      <td>0.0</td>\n",
       "      <td>2.0</td>\n",
       "      <td>1387984.0</td>\n",
       "    </tr>\n",
       "    <tr>\n",
       "      <th>90399</th>\n",
       "      <td>0.0</td>\n",
       "      <td>0.0</td>\n",
       "      <td>0.0</td>\n",
       "      <td>7277</td>\n",
       "      <td>0.0</td>\n",
       "      <td>0.0</td>\n",
       "      <td>2017-06-18</td>\n",
       "      <td>26600900.0</td>\n",
       "      <td>49.327293</td>\n",
       "      <td>266.0</td>\n",
       "      <td>725280.0</td>\n",
       "      <td>0.0</td>\n",
       "      <td>0.0</td>\n",
       "      <td>532.0</td>\n",
       "      <td>725280.0</td>\n",
       "    </tr>\n",
       "    <tr>\n",
       "      <th>90400</th>\n",
       "      <td>0.0</td>\n",
       "      <td>0.0</td>\n",
       "      <td>0.0</td>\n",
       "      <td>70063369</td>\n",
       "      <td>0.0</td>\n",
       "      <td>0.0</td>\n",
       "      <td>2017-06-22</td>\n",
       "      <td>284134.0</td>\n",
       "      <td>0.301961</td>\n",
       "      <td>1.0</td>\n",
       "      <td>93527891.0</td>\n",
       "      <td>0.0</td>\n",
       "      <td>0.0</td>\n",
       "      <td>1.0</td>\n",
       "      <td>93527891.0</td>\n",
       "    </tr>\n",
       "    <tr>\n",
       "      <th>90401</th>\n",
       "      <td>0.0</td>\n",
       "      <td>0.0</td>\n",
       "      <td>0.0</td>\n",
       "      <td>Loanbase.com</td>\n",
       "      <td>0.0</td>\n",
       "      <td>0.0</td>\n",
       "      <td>2017-06-29</td>\n",
       "      <td>131862.0</td>\n",
       "      <td>1.415791</td>\n",
       "      <td>1.0</td>\n",
       "      <td>9049938.0</td>\n",
       "      <td>0.0</td>\n",
       "      <td>0.0</td>\n",
       "      <td>2.0</td>\n",
       "      <td>9049938.0</td>\n",
       "    </tr>\n",
       "    <tr>\n",
       "      <th>90402</th>\n",
       "      <td>0.0</td>\n",
       "      <td>0.0</td>\n",
       "      <td>0.0</td>\n",
       "      <td>7277</td>\n",
       "      <td>0.0</td>\n",
       "      <td>0.0</td>\n",
       "      <td>2017-06-29</td>\n",
       "      <td>39601350.0</td>\n",
       "      <td>49.327299</td>\n",
       "      <td>396.0</td>\n",
       "      <td>1079730.0</td>\n",
       "      <td>0.0</td>\n",
       "      <td>0.0</td>\n",
       "      <td>792.0</td>\n",
       "      <td>1079730.0</td>\n",
       "    </tr>\n",
       "  </tbody>\n",
       "</table>\n",
       "</div>"
      ],
      "text/plain": [
       "       year  month  day      identity  received  nb_received        date  \\\n",
       "90398   0.0    0.0  0.0    BTCJam.com       0.0          0.0  2017-06-17   \n",
       "90399   0.0    0.0  0.0          7277       0.0          0.0  2017-06-18   \n",
       "90400   0.0    0.0  0.0      70063369       0.0          0.0  2017-06-22   \n",
       "90401   0.0    0.0  0.0  Loanbase.com       0.0          0.0  2017-06-29   \n",
       "90402   0.0    0.0  0.0          7277       0.0          0.0  2017-06-29   \n",
       "\n",
       "          sum_fee  mean_fee_for100  nb_transactions        sent  self_spent  \\\n",
       "90398    145053.0         8.643929              1.0   1387984.0         0.0   \n",
       "90399  26600900.0        49.327293            266.0    725280.0         0.0   \n",
       "90400    284134.0         0.301961              1.0  93527891.0         0.0   \n",
       "90401    131862.0         1.415791              1.0   9049938.0         0.0   \n",
       "90402  39601350.0        49.327299            396.0   1079730.0         0.0   \n",
       "\n",
       "       self_spent_estimated  nb_spent       spent  \n",
       "90398                   0.0       2.0   1387984.0  \n",
       "90399                   0.0     532.0    725280.0  \n",
       "90400                   0.0       1.0  93527891.0  \n",
       "90401                   0.0       2.0   9049938.0  \n",
       "90402                   0.0     792.0   1079730.0  "
      ]
     },
     "execution_count": 262,
     "metadata": {},
     "output_type": "execute_result"
    }
   ],
   "source": [
    "#load the data\n",
    "df = pd.read_csv('timeseries/blockchain_by_actor.csv', index_col=0, parse_dates=True)\n",
    "df.tail()\n",
    "\n"
   ]
  },
  {
   "attachments": {},
   "cell_type": "markdown",
   "metadata": {},
   "source": [
    "We notice that there is a problem with the year, month, day columns and on several data types in the raw DataFrame.\n",
    "Let's clean it in order to work in good conditions."
   ]
  },
  {
   "attachments": {},
   "cell_type": "markdown",
   "metadata": {},
   "source": [
    "## Cleaning our data"
   ]
  },
  {
   "cell_type": "code",
   "execution_count": 263,
   "metadata": {},
   "outputs": [
    {
     "data": {
      "text/plain": [
       "year                    float64\n",
       "month                   float64\n",
       "day                     float64\n",
       "identity                 object\n",
       "received                float64\n",
       "nb_received             float64\n",
       "date                     object\n",
       "sum_fee                 float64\n",
       "mean_fee_for100         float64\n",
       "nb_transactions         float64\n",
       "sent                    float64\n",
       "self_spent              float64\n",
       "self_spent_estimated    float64\n",
       "nb_spent                float64\n",
       "spent                   float64\n",
       "dtype: object"
      ]
     },
     "execution_count": 263,
     "metadata": {},
     "output_type": "execute_result"
    }
   ],
   "source": [
    "df.dtypes"
   ]
  },
  {
   "cell_type": "code",
   "execution_count": 264,
   "metadata": {},
   "outputs": [],
   "source": [
    "# convert year, month and day to int\n",
    "df['year'] = df['year'].astype(int)\n",
    "df['month'] = df['month'].astype(int)\n",
    "df['day'] = df['day'].astype(int)\n",
    "\n",
    "# convert the date to datetime in year-month-day format\n",
    "df['date'] = pd.to_datetime(df['date'], format='%Y-%m-%d')\n",
    "\n",
    "# convert identity to string\n",
    "df['identity'] = df['identity'].astype(str)\n",
    "\n",
    "# convert nb_transactions, nb_received, nb_spent to int\n",
    "df['nb_transactions'] = df['nb_transactions'].astype(int)\n",
    "df['nb_received'] = df['nb_received'].astype(int)\n",
    "df['nb_spent'] = df['nb_spent'].astype(int)\n"
   ]
  },
  {
   "cell_type": "code",
   "execution_count": 265,
   "metadata": {},
   "outputs": [],
   "source": [
    "# get the year, month and day from the date\n",
    "df['year'] = df['date'].dt.year\n",
    "df['month'] = df['date'].dt.month\n",
    "df['day'] = df['date'].dt.day"
   ]
  },
  {
   "cell_type": "code",
   "execution_count": 266,
   "metadata": {},
   "outputs": [],
   "source": [
    "# save the df to a csv file\n",
    "df.to_csv('timeseries/blockchain_by_actor_cleaned.csv')"
   ]
  },
  {
   "attachments": {},
   "cell_type": "markdown",
   "metadata": {},
   "source": [
    "# Analysis"
   ]
  },
  {
   "cell_type": "code",
   "execution_count": 267,
   "metadata": {},
   "outputs": [
    {
     "data": {
      "application/vnd.plotly.v1+json": {
       "config": {
        "plotlyServerURL": "https://plot.ly"
       },
       "data": [
        {
         "alignmentgroup": "True",
         "hovertemplate": "identity=%{x}<br>Spent=%{y}<extra></extra>",
         "legendgroup": "",
         "marker": {
          "color": "#636efa",
          "pattern": {
           "shape": ""
          }
         },
         "name": "",
         "offsetgroup": "",
         "orientation": "v",
         "showlegend": false,
         "textposition": "auto",
         "type": "bar",
         "x": [
          "ePay.info_CoinJoinMess",
          "Huobi.com",
          "Bitstamp.net",
          "Poloniex.com",
          "BTCC.com",
          "CoinTrader.net_LocalBitcoins.com",
          "BTC-e.com",
          "OKCoin.com",
          "Xapo.com",
          "107",
          "0",
          "BtcTrade.com",
          "71554939",
          "69697250",
          "HaoBTC.com",
          "57",
          "396",
          "122",
          "417",
          "61",
          "Bitcoin.de",
          "421",
          "BX.in.th",
          "70063369",
          "175",
          "Matbea.com",
          "289",
          "BitcoinFog",
          "5162",
          "898",
          "821",
          "SlushPool.com",
          "Bter.com",
          "BitBargain.co.uk",
          "CoinJar.com",
          "354",
          "CoinGaming.io",
          "523",
          "MercadoBitcoin.com.br",
          "YoBit.net",
          "CoinPayments.net",
          "LuckyB.it",
          "Bit-x.com",
          "469",
          "154",
          "1226",
          "101",
          "BitZillions.com",
          "348",
          "999Dice.com",
          "SatoshiDice.com",
          "CoinCafe.com",
          "BTCJam.com",
          "TheRockTrading.com",
          "Paymium.com",
          "CoinMotion.com",
          "Loanbase.com",
          "SecondsTrade.com",
          "FortuneJack.com",
          "35",
          "69827719",
          "871",
          "SatoshiMines.com",
          "HappyCoins.com",
          "Rollin.io",
          "SimpleCoin.cz",
          "61400549",
          "Vaultoro.com",
          "74278522",
          "700",
          "Cryptonator.com",
          "269",
          "73832915",
          "FYBSG.com",
          "69984672",
          "PocketDice.io",
          "CoinSpot.com.au",
          "69383113",
          "1567",
          "1070",
          "1805",
          "227",
          "SafeDice.com",
          "16768780",
          "70927660",
          "1138",
          "641",
          "292",
          "HolyTransaction.com",
          "Bitbond.com",
          "73963652",
          "1391",
          "16621",
          "1149",
          "71842975",
          "18972",
          "72472408",
          "419",
          "74304487",
          "7277"
         ],
         "xaxis": "x",
         "y": [
          1169524135917296,
          779434828513447,
          415329798394610,
          364329527858203,
          269476739863002,
          263050716997025,
          256945707326884,
          153304238871639,
          138138853475220,
          136624149553684,
          136446148198504,
          128561300454311,
          114850329083014,
          62373001335185,
          60583446819003,
          56343580359246,
          52358674685450,
          47043413579441,
          46177135829052,
          35234506014052,
          29539611760846,
          28419944251981,
          26781945329915,
          26288000456193,
          23791715296064,
          21899695834368,
          18741584554039,
          17633045858114,
          16081897382473,
          15757619619169,
          15303456143539,
          14159940092309,
          14107671808369,
          12354125549888,
          11961096353757,
          11283923521443,
          11240896702795,
          10813245204798,
          10673617819431,
          8879588494152,
          8615754801196,
          8564433798027,
          8352651164770,
          8147922618010,
          7110920392467,
          5808766496911,
          5214318931546,
          4893515489076,
          4440837757416,
          4402424922219,
          4249373736551,
          4184490149963,
          4087484102533,
          3983099340520,
          3843282664682,
          3439767351844,
          2584523311057,
          2360637359200,
          2212875145809,
          2172502949107,
          2149379800994,
          2110657391129,
          1656622257241,
          1497977502051,
          1448641809155,
          1446137833906,
          1444186622837,
          1303785734668,
          1203938986918,
          1166369487389,
          1155253880771,
          1127045247429,
          1121922418098,
          1046976909985,
          1016630652435,
          959493698059,
          946540077068,
          897090300473,
          885648731073,
          788635642121,
          729809315704,
          682231054301,
          647040852519,
          637236894107,
          632726086361,
          610200218714,
          488709574422,
          485834004687,
          450147276434,
          428152971945,
          422464494366,
          421440695472,
          384880770929,
          317953281983,
          302829648410,
          252625445987,
          221365648217,
          74500767678,
          64713857893,
          12947695949
         ],
         "yaxis": "y"
        }
       ],
       "layout": {
        "barmode": "relative",
        "legend": {
         "tracegroupgap": 0
        },
        "template": {
         "data": {
          "bar": [
           {
            "error_x": {
             "color": "#2a3f5f"
            },
            "error_y": {
             "color": "#2a3f5f"
            },
            "marker": {
             "line": {
              "color": "#E5ECF6",
              "width": 0.5
             },
             "pattern": {
              "fillmode": "overlay",
              "size": 10,
              "solidity": 0.2
             }
            },
            "type": "bar"
           }
          ],
          "barpolar": [
           {
            "marker": {
             "line": {
              "color": "#E5ECF6",
              "width": 0.5
             },
             "pattern": {
              "fillmode": "overlay",
              "size": 10,
              "solidity": 0.2
             }
            },
            "type": "barpolar"
           }
          ],
          "carpet": [
           {
            "aaxis": {
             "endlinecolor": "#2a3f5f",
             "gridcolor": "white",
             "linecolor": "white",
             "minorgridcolor": "white",
             "startlinecolor": "#2a3f5f"
            },
            "baxis": {
             "endlinecolor": "#2a3f5f",
             "gridcolor": "white",
             "linecolor": "white",
             "minorgridcolor": "white",
             "startlinecolor": "#2a3f5f"
            },
            "type": "carpet"
           }
          ],
          "choropleth": [
           {
            "colorbar": {
             "outlinewidth": 0,
             "ticks": ""
            },
            "type": "choropleth"
           }
          ],
          "contour": [
           {
            "colorbar": {
             "outlinewidth": 0,
             "ticks": ""
            },
            "colorscale": [
             [
              0,
              "#0d0887"
             ],
             [
              0.1111111111111111,
              "#46039f"
             ],
             [
              0.2222222222222222,
              "#7201a8"
             ],
             [
              0.3333333333333333,
              "#9c179e"
             ],
             [
              0.4444444444444444,
              "#bd3786"
             ],
             [
              0.5555555555555556,
              "#d8576b"
             ],
             [
              0.6666666666666666,
              "#ed7953"
             ],
             [
              0.7777777777777778,
              "#fb9f3a"
             ],
             [
              0.8888888888888888,
              "#fdca26"
             ],
             [
              1,
              "#f0f921"
             ]
            ],
            "type": "contour"
           }
          ],
          "contourcarpet": [
           {
            "colorbar": {
             "outlinewidth": 0,
             "ticks": ""
            },
            "type": "contourcarpet"
           }
          ],
          "heatmap": [
           {
            "colorbar": {
             "outlinewidth": 0,
             "ticks": ""
            },
            "colorscale": [
             [
              0,
              "#0d0887"
             ],
             [
              0.1111111111111111,
              "#46039f"
             ],
             [
              0.2222222222222222,
              "#7201a8"
             ],
             [
              0.3333333333333333,
              "#9c179e"
             ],
             [
              0.4444444444444444,
              "#bd3786"
             ],
             [
              0.5555555555555556,
              "#d8576b"
             ],
             [
              0.6666666666666666,
              "#ed7953"
             ],
             [
              0.7777777777777778,
              "#fb9f3a"
             ],
             [
              0.8888888888888888,
              "#fdca26"
             ],
             [
              1,
              "#f0f921"
             ]
            ],
            "type": "heatmap"
           }
          ],
          "heatmapgl": [
           {
            "colorbar": {
             "outlinewidth": 0,
             "ticks": ""
            },
            "colorscale": [
             [
              0,
              "#0d0887"
             ],
             [
              0.1111111111111111,
              "#46039f"
             ],
             [
              0.2222222222222222,
              "#7201a8"
             ],
             [
              0.3333333333333333,
              "#9c179e"
             ],
             [
              0.4444444444444444,
              "#bd3786"
             ],
             [
              0.5555555555555556,
              "#d8576b"
             ],
             [
              0.6666666666666666,
              "#ed7953"
             ],
             [
              0.7777777777777778,
              "#fb9f3a"
             ],
             [
              0.8888888888888888,
              "#fdca26"
             ],
             [
              1,
              "#f0f921"
             ]
            ],
            "type": "heatmapgl"
           }
          ],
          "histogram": [
           {
            "marker": {
             "pattern": {
              "fillmode": "overlay",
              "size": 10,
              "solidity": 0.2
             }
            },
            "type": "histogram"
           }
          ],
          "histogram2d": [
           {
            "colorbar": {
             "outlinewidth": 0,
             "ticks": ""
            },
            "colorscale": [
             [
              0,
              "#0d0887"
             ],
             [
              0.1111111111111111,
              "#46039f"
             ],
             [
              0.2222222222222222,
              "#7201a8"
             ],
             [
              0.3333333333333333,
              "#9c179e"
             ],
             [
              0.4444444444444444,
              "#bd3786"
             ],
             [
              0.5555555555555556,
              "#d8576b"
             ],
             [
              0.6666666666666666,
              "#ed7953"
             ],
             [
              0.7777777777777778,
              "#fb9f3a"
             ],
             [
              0.8888888888888888,
              "#fdca26"
             ],
             [
              1,
              "#f0f921"
             ]
            ],
            "type": "histogram2d"
           }
          ],
          "histogram2dcontour": [
           {
            "colorbar": {
             "outlinewidth": 0,
             "ticks": ""
            },
            "colorscale": [
             [
              0,
              "#0d0887"
             ],
             [
              0.1111111111111111,
              "#46039f"
             ],
             [
              0.2222222222222222,
              "#7201a8"
             ],
             [
              0.3333333333333333,
              "#9c179e"
             ],
             [
              0.4444444444444444,
              "#bd3786"
             ],
             [
              0.5555555555555556,
              "#d8576b"
             ],
             [
              0.6666666666666666,
              "#ed7953"
             ],
             [
              0.7777777777777778,
              "#fb9f3a"
             ],
             [
              0.8888888888888888,
              "#fdca26"
             ],
             [
              1,
              "#f0f921"
             ]
            ],
            "type": "histogram2dcontour"
           }
          ],
          "mesh3d": [
           {
            "colorbar": {
             "outlinewidth": 0,
             "ticks": ""
            },
            "type": "mesh3d"
           }
          ],
          "parcoords": [
           {
            "line": {
             "colorbar": {
              "outlinewidth": 0,
              "ticks": ""
             }
            },
            "type": "parcoords"
           }
          ],
          "pie": [
           {
            "automargin": true,
            "type": "pie"
           }
          ],
          "scatter": [
           {
            "fillpattern": {
             "fillmode": "overlay",
             "size": 10,
             "solidity": 0.2
            },
            "type": "scatter"
           }
          ],
          "scatter3d": [
           {
            "line": {
             "colorbar": {
              "outlinewidth": 0,
              "ticks": ""
             }
            },
            "marker": {
             "colorbar": {
              "outlinewidth": 0,
              "ticks": ""
             }
            },
            "type": "scatter3d"
           }
          ],
          "scattercarpet": [
           {
            "marker": {
             "colorbar": {
              "outlinewidth": 0,
              "ticks": ""
             }
            },
            "type": "scattercarpet"
           }
          ],
          "scattergeo": [
           {
            "marker": {
             "colorbar": {
              "outlinewidth": 0,
              "ticks": ""
             }
            },
            "type": "scattergeo"
           }
          ],
          "scattergl": [
           {
            "marker": {
             "colorbar": {
              "outlinewidth": 0,
              "ticks": ""
             }
            },
            "type": "scattergl"
           }
          ],
          "scattermapbox": [
           {
            "marker": {
             "colorbar": {
              "outlinewidth": 0,
              "ticks": ""
             }
            },
            "type": "scattermapbox"
           }
          ],
          "scatterpolar": [
           {
            "marker": {
             "colorbar": {
              "outlinewidth": 0,
              "ticks": ""
             }
            },
            "type": "scatterpolar"
           }
          ],
          "scatterpolargl": [
           {
            "marker": {
             "colorbar": {
              "outlinewidth": 0,
              "ticks": ""
             }
            },
            "type": "scatterpolargl"
           }
          ],
          "scatterternary": [
           {
            "marker": {
             "colorbar": {
              "outlinewidth": 0,
              "ticks": ""
             }
            },
            "type": "scatterternary"
           }
          ],
          "surface": [
           {
            "colorbar": {
             "outlinewidth": 0,
             "ticks": ""
            },
            "colorscale": [
             [
              0,
              "#0d0887"
             ],
             [
              0.1111111111111111,
              "#46039f"
             ],
             [
              0.2222222222222222,
              "#7201a8"
             ],
             [
              0.3333333333333333,
              "#9c179e"
             ],
             [
              0.4444444444444444,
              "#bd3786"
             ],
             [
              0.5555555555555556,
              "#d8576b"
             ],
             [
              0.6666666666666666,
              "#ed7953"
             ],
             [
              0.7777777777777778,
              "#fb9f3a"
             ],
             [
              0.8888888888888888,
              "#fdca26"
             ],
             [
              1,
              "#f0f921"
             ]
            ],
            "type": "surface"
           }
          ],
          "table": [
           {
            "cells": {
             "fill": {
              "color": "#EBF0F8"
             },
             "line": {
              "color": "white"
             }
            },
            "header": {
             "fill": {
              "color": "#C8D4E3"
             },
             "line": {
              "color": "white"
             }
            },
            "type": "table"
           }
          ]
         },
         "layout": {
          "annotationdefaults": {
           "arrowcolor": "#2a3f5f",
           "arrowhead": 0,
           "arrowwidth": 1
          },
          "autotypenumbers": "strict",
          "coloraxis": {
           "colorbar": {
            "outlinewidth": 0,
            "ticks": ""
           }
          },
          "colorscale": {
           "diverging": [
            [
             0,
             "#8e0152"
            ],
            [
             0.1,
             "#c51b7d"
            ],
            [
             0.2,
             "#de77ae"
            ],
            [
             0.3,
             "#f1b6da"
            ],
            [
             0.4,
             "#fde0ef"
            ],
            [
             0.5,
             "#f7f7f7"
            ],
            [
             0.6,
             "#e6f5d0"
            ],
            [
             0.7,
             "#b8e186"
            ],
            [
             0.8,
             "#7fbc41"
            ],
            [
             0.9,
             "#4d9221"
            ],
            [
             1,
             "#276419"
            ]
           ],
           "sequential": [
            [
             0,
             "#0d0887"
            ],
            [
             0.1111111111111111,
             "#46039f"
            ],
            [
             0.2222222222222222,
             "#7201a8"
            ],
            [
             0.3333333333333333,
             "#9c179e"
            ],
            [
             0.4444444444444444,
             "#bd3786"
            ],
            [
             0.5555555555555556,
             "#d8576b"
            ],
            [
             0.6666666666666666,
             "#ed7953"
            ],
            [
             0.7777777777777778,
             "#fb9f3a"
            ],
            [
             0.8888888888888888,
             "#fdca26"
            ],
            [
             1,
             "#f0f921"
            ]
           ],
           "sequentialminus": [
            [
             0,
             "#0d0887"
            ],
            [
             0.1111111111111111,
             "#46039f"
            ],
            [
             0.2222222222222222,
             "#7201a8"
            ],
            [
             0.3333333333333333,
             "#9c179e"
            ],
            [
             0.4444444444444444,
             "#bd3786"
            ],
            [
             0.5555555555555556,
             "#d8576b"
            ],
            [
             0.6666666666666666,
             "#ed7953"
            ],
            [
             0.7777777777777778,
             "#fb9f3a"
            ],
            [
             0.8888888888888888,
             "#fdca26"
            ],
            [
             1,
             "#f0f921"
            ]
           ]
          },
          "colorway": [
           "#636efa",
           "#EF553B",
           "#00cc96",
           "#ab63fa",
           "#FFA15A",
           "#19d3f3",
           "#FF6692",
           "#B6E880",
           "#FF97FF",
           "#FECB52"
          ],
          "font": {
           "color": "#2a3f5f"
          },
          "geo": {
           "bgcolor": "white",
           "lakecolor": "white",
           "landcolor": "#E5ECF6",
           "showlakes": true,
           "showland": true,
           "subunitcolor": "white"
          },
          "hoverlabel": {
           "align": "left"
          },
          "hovermode": "closest",
          "mapbox": {
           "style": "light"
          },
          "paper_bgcolor": "white",
          "plot_bgcolor": "#E5ECF6",
          "polar": {
           "angularaxis": {
            "gridcolor": "white",
            "linecolor": "white",
            "ticks": ""
           },
           "bgcolor": "#E5ECF6",
           "radialaxis": {
            "gridcolor": "white",
            "linecolor": "white",
            "ticks": ""
           }
          },
          "scene": {
           "xaxis": {
            "backgroundcolor": "#E5ECF6",
            "gridcolor": "white",
            "gridwidth": 2,
            "linecolor": "white",
            "showbackground": true,
            "ticks": "",
            "zerolinecolor": "white"
           },
           "yaxis": {
            "backgroundcolor": "#E5ECF6",
            "gridcolor": "white",
            "gridwidth": 2,
            "linecolor": "white",
            "showbackground": true,
            "ticks": "",
            "zerolinecolor": "white"
           },
           "zaxis": {
            "backgroundcolor": "#E5ECF6",
            "gridcolor": "white",
            "gridwidth": 2,
            "linecolor": "white",
            "showbackground": true,
            "ticks": "",
            "zerolinecolor": "white"
           }
          },
          "shapedefaults": {
           "line": {
            "color": "#2a3f5f"
           }
          },
          "ternary": {
           "aaxis": {
            "gridcolor": "white",
            "linecolor": "white",
            "ticks": ""
           },
           "baxis": {
            "gridcolor": "white",
            "linecolor": "white",
            "ticks": ""
           },
           "bgcolor": "#E5ECF6",
           "caxis": {
            "gridcolor": "white",
            "linecolor": "white",
            "ticks": ""
           }
          },
          "title": {
           "x": 0.05
          },
          "xaxis": {
           "automargin": true,
           "gridcolor": "white",
           "linecolor": "white",
           "ticks": "",
           "title": {
            "standoff": 15
           },
           "zerolinecolor": "white",
           "zerolinewidth": 2
          },
          "yaxis": {
           "automargin": true,
           "gridcolor": "white",
           "linecolor": "white",
           "ticks": "",
           "title": {
            "standoff": 15
           },
           "zerolinecolor": "white",
           "zerolinewidth": 2
          }
         }
        },
        "title": {
         "text": "Biggest spenders in the bitcoin blockchain"
        },
        "xaxis": {
         "anchor": "y",
         "domain": [
          0,
          1
         ],
         "title": {
          "text": "identity"
         }
        },
        "yaxis": {
         "anchor": "x",
         "domain": [
          0,
          1
         ],
         "title": {
          "text": "Spent"
         }
        }
       }
      }
     },
     "metadata": {},
     "output_type": "display_data"
    }
   ],
   "source": [
    "# biggest spenders in df\n",
    "biggest_spenders = df.groupby('identity')['spent'].sum().sort_values(ascending=False).head(100)\n",
    "\n",
    "# plot the biggest spenders with plotly\n",
    "# with x as the identity and y as the spent\n",
    "# with a title and a label for the x and y axis\n",
    "fig = px.bar(biggest_spenders, x=biggest_spenders.index, y=biggest_spenders.values, title='Biggest spenders in the bitcoin blockchain', labels={'x':'Identity', 'y':'Spent'})\n",
    "fig.show()"
   ]
  },
  {
   "cell_type": "code",
   "execution_count": 268,
   "metadata": {},
   "outputs": [
    {
     "data": {
      "application/vnd.plotly.v1+json": {
       "config": {
        "plotlyServerURL": "https://plot.ly"
       },
       "data": [
        {
         "alignmentgroup": "True",
         "hovertemplate": "identity=%{x}<br>Received=%{y}<extra></extra>",
         "legendgroup": "",
         "marker": {
          "color": "#636efa",
          "pattern": {
           "shape": ""
          }
         },
         "name": "",
         "offsetgroup": "",
         "orientation": "v",
         "showlegend": false,
         "textposition": "auto",
         "type": "bar",
         "x": [
          "Huobi.com",
          "ePay.info_CoinJoinMess",
          "Bitstamp.net",
          "BTC-e.com",
          "OKCoin.com",
          "Poloniex.com",
          "BTCC.com",
          "CoinTrader.net_LocalBitcoins.com",
          "107",
          "Xapo.com",
          "0",
          "69697250",
          "BtcTrade.com",
          "417",
          "71554939",
          "122",
          "HaoBTC.com",
          "57",
          "396",
          "Matbea.com",
          "Bitcoin.de",
          "61",
          "175",
          "421",
          "BX.in.th",
          "289",
          "70063369",
          "5162",
          "821",
          "BitcoinFog",
          "Bter.com",
          "898",
          "SlushPool.com",
          "CoinGaming.io",
          "CoinJar.com",
          "BitBargain.co.uk",
          "523",
          "354",
          "Bit-x.com",
          "MercadoBitcoin.com.br",
          "YoBit.net",
          "CoinPayments.net",
          "1226",
          "469",
          "LuckyB.it",
          "154",
          "101",
          "TheRockTrading.com",
          "BitZillions.com",
          "999Dice.com",
          "SatoshiDice.com",
          "348",
          "Paymium.com",
          "CoinCafe.com",
          "BTCJam.com",
          "CoinMotion.com",
          "Loanbase.com",
          "871",
          "35",
          "SecondsTrade.com",
          "FortuneJack.com",
          "69827719",
          "61400549",
          "SatoshiMines.com",
          "Vaultoro.com",
          "HappyCoins.com",
          "Rollin.io",
          "SimpleCoin.cz",
          "1149",
          "700",
          "Cryptonator.com",
          "74278522",
          "269",
          "73832915",
          "FYBSG.com",
          "CoinSpot.com.au",
          "69984672",
          "1567",
          "PocketDice.io",
          "69383113",
          "1070",
          "1805",
          "227",
          "SafeDice.com",
          "16768780",
          "70927660",
          "1138",
          "641",
          "292",
          "HolyTransaction.com",
          "Bitbond.com",
          "1391",
          "73963652",
          "16621",
          "71842975",
          "18972",
          "72472408",
          "419",
          "74304487",
          "7277"
         ],
         "xaxis": "x",
         "y": [
          1313671163168167,
          1188924611100302,
          699782067916023,
          537057858587567,
          458928827459515,
          433383950575216,
          322067304343027,
          313609174487856,
          275636060618033,
          236081771252789,
          207372158918689,
          143609235700441,
          137973116958994,
          126266607979832,
          114974536230477,
          105857736420561,
          74250437241442,
          69615214804612,
          59441914427374,
          47581940645707,
          36899133418986,
          35381164079717,
          32313596247044,
          31667455593301,
          28714812242843,
          27439488080379,
          26288819359786,
          25270029263129,
          21391880891333,
          17680175205182,
          16079869834950,
          15865569880026,
          14196259734113,
          13107466197060,
          12762934533218,
          12468239114186,
          12195071992492,
          11669218135825,
          11448631763825,
          11416290602403,
          10396602309870,
          9806720770000,
          8948749778178,
          8679330387025,
          8581252481644,
          7835782897705,
          5399256037926,
          4920981036824,
          4894126124017,
          4661317005730,
          4575452422397,
          4447285515389,
          4220165033690,
          4218961212835,
          4166550626582,
          3553443084680,
          2577319987395,
          2573938248529,
          2401103665674,
          2363046616352,
          2215754327387,
          2149664336108,
          1744315712771,
          1662092098485,
          1524105560675,
          1520952341507,
          1519248760553,
          1465621114407,
          1410782854019,
          1267468359504,
          1259734724637,
          1203965534534,
          1129080850566,
          1122023225701,
          1102731752281,
          1066297190934,
          1016845981836,
          980999300168,
          959706529096,
          897207208440,
          800503469111,
          744806476823,
          690639171819,
          669505945779,
          637369433602,
          632730953679,
          611402683289,
          512652153102,
          493140309324,
          451395709571,
          427927233901,
          421963636791,
          421552386633,
          385263682296,
          302917050172,
          252891702853,
          221291730295,
          80023262417,
          64765520556,
          17472132020
         ],
         "yaxis": "y"
        }
       ],
       "layout": {
        "barmode": "relative",
        "legend": {
         "tracegroupgap": 0
        },
        "template": {
         "data": {
          "bar": [
           {
            "error_x": {
             "color": "#2a3f5f"
            },
            "error_y": {
             "color": "#2a3f5f"
            },
            "marker": {
             "line": {
              "color": "#E5ECF6",
              "width": 0.5
             },
             "pattern": {
              "fillmode": "overlay",
              "size": 10,
              "solidity": 0.2
             }
            },
            "type": "bar"
           }
          ],
          "barpolar": [
           {
            "marker": {
             "line": {
              "color": "#E5ECF6",
              "width": 0.5
             },
             "pattern": {
              "fillmode": "overlay",
              "size": 10,
              "solidity": 0.2
             }
            },
            "type": "barpolar"
           }
          ],
          "carpet": [
           {
            "aaxis": {
             "endlinecolor": "#2a3f5f",
             "gridcolor": "white",
             "linecolor": "white",
             "minorgridcolor": "white",
             "startlinecolor": "#2a3f5f"
            },
            "baxis": {
             "endlinecolor": "#2a3f5f",
             "gridcolor": "white",
             "linecolor": "white",
             "minorgridcolor": "white",
             "startlinecolor": "#2a3f5f"
            },
            "type": "carpet"
           }
          ],
          "choropleth": [
           {
            "colorbar": {
             "outlinewidth": 0,
             "ticks": ""
            },
            "type": "choropleth"
           }
          ],
          "contour": [
           {
            "colorbar": {
             "outlinewidth": 0,
             "ticks": ""
            },
            "colorscale": [
             [
              0,
              "#0d0887"
             ],
             [
              0.1111111111111111,
              "#46039f"
             ],
             [
              0.2222222222222222,
              "#7201a8"
             ],
             [
              0.3333333333333333,
              "#9c179e"
             ],
             [
              0.4444444444444444,
              "#bd3786"
             ],
             [
              0.5555555555555556,
              "#d8576b"
             ],
             [
              0.6666666666666666,
              "#ed7953"
             ],
             [
              0.7777777777777778,
              "#fb9f3a"
             ],
             [
              0.8888888888888888,
              "#fdca26"
             ],
             [
              1,
              "#f0f921"
             ]
            ],
            "type": "contour"
           }
          ],
          "contourcarpet": [
           {
            "colorbar": {
             "outlinewidth": 0,
             "ticks": ""
            },
            "type": "contourcarpet"
           }
          ],
          "heatmap": [
           {
            "colorbar": {
             "outlinewidth": 0,
             "ticks": ""
            },
            "colorscale": [
             [
              0,
              "#0d0887"
             ],
             [
              0.1111111111111111,
              "#46039f"
             ],
             [
              0.2222222222222222,
              "#7201a8"
             ],
             [
              0.3333333333333333,
              "#9c179e"
             ],
             [
              0.4444444444444444,
              "#bd3786"
             ],
             [
              0.5555555555555556,
              "#d8576b"
             ],
             [
              0.6666666666666666,
              "#ed7953"
             ],
             [
              0.7777777777777778,
              "#fb9f3a"
             ],
             [
              0.8888888888888888,
              "#fdca26"
             ],
             [
              1,
              "#f0f921"
             ]
            ],
            "type": "heatmap"
           }
          ],
          "heatmapgl": [
           {
            "colorbar": {
             "outlinewidth": 0,
             "ticks": ""
            },
            "colorscale": [
             [
              0,
              "#0d0887"
             ],
             [
              0.1111111111111111,
              "#46039f"
             ],
             [
              0.2222222222222222,
              "#7201a8"
             ],
             [
              0.3333333333333333,
              "#9c179e"
             ],
             [
              0.4444444444444444,
              "#bd3786"
             ],
             [
              0.5555555555555556,
              "#d8576b"
             ],
             [
              0.6666666666666666,
              "#ed7953"
             ],
             [
              0.7777777777777778,
              "#fb9f3a"
             ],
             [
              0.8888888888888888,
              "#fdca26"
             ],
             [
              1,
              "#f0f921"
             ]
            ],
            "type": "heatmapgl"
           }
          ],
          "histogram": [
           {
            "marker": {
             "pattern": {
              "fillmode": "overlay",
              "size": 10,
              "solidity": 0.2
             }
            },
            "type": "histogram"
           }
          ],
          "histogram2d": [
           {
            "colorbar": {
             "outlinewidth": 0,
             "ticks": ""
            },
            "colorscale": [
             [
              0,
              "#0d0887"
             ],
             [
              0.1111111111111111,
              "#46039f"
             ],
             [
              0.2222222222222222,
              "#7201a8"
             ],
             [
              0.3333333333333333,
              "#9c179e"
             ],
             [
              0.4444444444444444,
              "#bd3786"
             ],
             [
              0.5555555555555556,
              "#d8576b"
             ],
             [
              0.6666666666666666,
              "#ed7953"
             ],
             [
              0.7777777777777778,
              "#fb9f3a"
             ],
             [
              0.8888888888888888,
              "#fdca26"
             ],
             [
              1,
              "#f0f921"
             ]
            ],
            "type": "histogram2d"
           }
          ],
          "histogram2dcontour": [
           {
            "colorbar": {
             "outlinewidth": 0,
             "ticks": ""
            },
            "colorscale": [
             [
              0,
              "#0d0887"
             ],
             [
              0.1111111111111111,
              "#46039f"
             ],
             [
              0.2222222222222222,
              "#7201a8"
             ],
             [
              0.3333333333333333,
              "#9c179e"
             ],
             [
              0.4444444444444444,
              "#bd3786"
             ],
             [
              0.5555555555555556,
              "#d8576b"
             ],
             [
              0.6666666666666666,
              "#ed7953"
             ],
             [
              0.7777777777777778,
              "#fb9f3a"
             ],
             [
              0.8888888888888888,
              "#fdca26"
             ],
             [
              1,
              "#f0f921"
             ]
            ],
            "type": "histogram2dcontour"
           }
          ],
          "mesh3d": [
           {
            "colorbar": {
             "outlinewidth": 0,
             "ticks": ""
            },
            "type": "mesh3d"
           }
          ],
          "parcoords": [
           {
            "line": {
             "colorbar": {
              "outlinewidth": 0,
              "ticks": ""
             }
            },
            "type": "parcoords"
           }
          ],
          "pie": [
           {
            "automargin": true,
            "type": "pie"
           }
          ],
          "scatter": [
           {
            "fillpattern": {
             "fillmode": "overlay",
             "size": 10,
             "solidity": 0.2
            },
            "type": "scatter"
           }
          ],
          "scatter3d": [
           {
            "line": {
             "colorbar": {
              "outlinewidth": 0,
              "ticks": ""
             }
            },
            "marker": {
             "colorbar": {
              "outlinewidth": 0,
              "ticks": ""
             }
            },
            "type": "scatter3d"
           }
          ],
          "scattercarpet": [
           {
            "marker": {
             "colorbar": {
              "outlinewidth": 0,
              "ticks": ""
             }
            },
            "type": "scattercarpet"
           }
          ],
          "scattergeo": [
           {
            "marker": {
             "colorbar": {
              "outlinewidth": 0,
              "ticks": ""
             }
            },
            "type": "scattergeo"
           }
          ],
          "scattergl": [
           {
            "marker": {
             "colorbar": {
              "outlinewidth": 0,
              "ticks": ""
             }
            },
            "type": "scattergl"
           }
          ],
          "scattermapbox": [
           {
            "marker": {
             "colorbar": {
              "outlinewidth": 0,
              "ticks": ""
             }
            },
            "type": "scattermapbox"
           }
          ],
          "scatterpolar": [
           {
            "marker": {
             "colorbar": {
              "outlinewidth": 0,
              "ticks": ""
             }
            },
            "type": "scatterpolar"
           }
          ],
          "scatterpolargl": [
           {
            "marker": {
             "colorbar": {
              "outlinewidth": 0,
              "ticks": ""
             }
            },
            "type": "scatterpolargl"
           }
          ],
          "scatterternary": [
           {
            "marker": {
             "colorbar": {
              "outlinewidth": 0,
              "ticks": ""
             }
            },
            "type": "scatterternary"
           }
          ],
          "surface": [
           {
            "colorbar": {
             "outlinewidth": 0,
             "ticks": ""
            },
            "colorscale": [
             [
              0,
              "#0d0887"
             ],
             [
              0.1111111111111111,
              "#46039f"
             ],
             [
              0.2222222222222222,
              "#7201a8"
             ],
             [
              0.3333333333333333,
              "#9c179e"
             ],
             [
              0.4444444444444444,
              "#bd3786"
             ],
             [
              0.5555555555555556,
              "#d8576b"
             ],
             [
              0.6666666666666666,
              "#ed7953"
             ],
             [
              0.7777777777777778,
              "#fb9f3a"
             ],
             [
              0.8888888888888888,
              "#fdca26"
             ],
             [
              1,
              "#f0f921"
             ]
            ],
            "type": "surface"
           }
          ],
          "table": [
           {
            "cells": {
             "fill": {
              "color": "#EBF0F8"
             },
             "line": {
              "color": "white"
             }
            },
            "header": {
             "fill": {
              "color": "#C8D4E3"
             },
             "line": {
              "color": "white"
             }
            },
            "type": "table"
           }
          ]
         },
         "layout": {
          "annotationdefaults": {
           "arrowcolor": "#2a3f5f",
           "arrowhead": 0,
           "arrowwidth": 1
          },
          "autotypenumbers": "strict",
          "coloraxis": {
           "colorbar": {
            "outlinewidth": 0,
            "ticks": ""
           }
          },
          "colorscale": {
           "diverging": [
            [
             0,
             "#8e0152"
            ],
            [
             0.1,
             "#c51b7d"
            ],
            [
             0.2,
             "#de77ae"
            ],
            [
             0.3,
             "#f1b6da"
            ],
            [
             0.4,
             "#fde0ef"
            ],
            [
             0.5,
             "#f7f7f7"
            ],
            [
             0.6,
             "#e6f5d0"
            ],
            [
             0.7,
             "#b8e186"
            ],
            [
             0.8,
             "#7fbc41"
            ],
            [
             0.9,
             "#4d9221"
            ],
            [
             1,
             "#276419"
            ]
           ],
           "sequential": [
            [
             0,
             "#0d0887"
            ],
            [
             0.1111111111111111,
             "#46039f"
            ],
            [
             0.2222222222222222,
             "#7201a8"
            ],
            [
             0.3333333333333333,
             "#9c179e"
            ],
            [
             0.4444444444444444,
             "#bd3786"
            ],
            [
             0.5555555555555556,
             "#d8576b"
            ],
            [
             0.6666666666666666,
             "#ed7953"
            ],
            [
             0.7777777777777778,
             "#fb9f3a"
            ],
            [
             0.8888888888888888,
             "#fdca26"
            ],
            [
             1,
             "#f0f921"
            ]
           ],
           "sequentialminus": [
            [
             0,
             "#0d0887"
            ],
            [
             0.1111111111111111,
             "#46039f"
            ],
            [
             0.2222222222222222,
             "#7201a8"
            ],
            [
             0.3333333333333333,
             "#9c179e"
            ],
            [
             0.4444444444444444,
             "#bd3786"
            ],
            [
             0.5555555555555556,
             "#d8576b"
            ],
            [
             0.6666666666666666,
             "#ed7953"
            ],
            [
             0.7777777777777778,
             "#fb9f3a"
            ],
            [
             0.8888888888888888,
             "#fdca26"
            ],
            [
             1,
             "#f0f921"
            ]
           ]
          },
          "colorway": [
           "#636efa",
           "#EF553B",
           "#00cc96",
           "#ab63fa",
           "#FFA15A",
           "#19d3f3",
           "#FF6692",
           "#B6E880",
           "#FF97FF",
           "#FECB52"
          ],
          "font": {
           "color": "#2a3f5f"
          },
          "geo": {
           "bgcolor": "white",
           "lakecolor": "white",
           "landcolor": "#E5ECF6",
           "showlakes": true,
           "showland": true,
           "subunitcolor": "white"
          },
          "hoverlabel": {
           "align": "left"
          },
          "hovermode": "closest",
          "mapbox": {
           "style": "light"
          },
          "paper_bgcolor": "white",
          "plot_bgcolor": "#E5ECF6",
          "polar": {
           "angularaxis": {
            "gridcolor": "white",
            "linecolor": "white",
            "ticks": ""
           },
           "bgcolor": "#E5ECF6",
           "radialaxis": {
            "gridcolor": "white",
            "linecolor": "white",
            "ticks": ""
           }
          },
          "scene": {
           "xaxis": {
            "backgroundcolor": "#E5ECF6",
            "gridcolor": "white",
            "gridwidth": 2,
            "linecolor": "white",
            "showbackground": true,
            "ticks": "",
            "zerolinecolor": "white"
           },
           "yaxis": {
            "backgroundcolor": "#E5ECF6",
            "gridcolor": "white",
            "gridwidth": 2,
            "linecolor": "white",
            "showbackground": true,
            "ticks": "",
            "zerolinecolor": "white"
           },
           "zaxis": {
            "backgroundcolor": "#E5ECF6",
            "gridcolor": "white",
            "gridwidth": 2,
            "linecolor": "white",
            "showbackground": true,
            "ticks": "",
            "zerolinecolor": "white"
           }
          },
          "shapedefaults": {
           "line": {
            "color": "#2a3f5f"
           }
          },
          "ternary": {
           "aaxis": {
            "gridcolor": "white",
            "linecolor": "white",
            "ticks": ""
           },
           "baxis": {
            "gridcolor": "white",
            "linecolor": "white",
            "ticks": ""
           },
           "bgcolor": "#E5ECF6",
           "caxis": {
            "gridcolor": "white",
            "linecolor": "white",
            "ticks": ""
           }
          },
          "title": {
           "x": 0.05
          },
          "xaxis": {
           "automargin": true,
           "gridcolor": "white",
           "linecolor": "white",
           "ticks": "",
           "title": {
            "standoff": 15
           },
           "zerolinecolor": "white",
           "zerolinewidth": 2
          },
          "yaxis": {
           "automargin": true,
           "gridcolor": "white",
           "linecolor": "white",
           "ticks": "",
           "title": {
            "standoff": 15
           },
           "zerolinecolor": "white",
           "zerolinewidth": 2
          }
         }
        },
        "title": {
         "text": "Biggest receivers in the bitcoin blockchain"
        },
        "xaxis": {
         "anchor": "y",
         "domain": [
          0,
          1
         ],
         "title": {
          "text": "identity"
         }
        },
        "yaxis": {
         "anchor": "x",
         "domain": [
          0,
          1
         ],
         "title": {
          "text": "Received"
         }
        }
       }
      }
     },
     "metadata": {},
     "output_type": "display_data"
    }
   ],
   "source": [
    "# biggest receivers\n",
    "biggest_receivers = df.groupby('identity')['received'].sum().sort_values(ascending=False).head(100)\n",
    "\n",
    "fig = px.bar(biggest_receivers, x=biggest_receivers.index, y=biggest_receivers.values, title='Biggest receivers in the bitcoin blockchain', labels={'x':'Identity', 'y':'Received'})\n",
    "fig.show()"
   ]
  },
  {
   "cell_type": "code",
   "execution_count": 269,
   "metadata": {},
   "outputs": [
    {
     "data": {
      "application/vnd.plotly.v1+json": {
       "config": {
        "plotlyServerURL": "https://plot.ly"
       },
       "data": [
        {
         "domain": {
          "x": [
           0,
           0.45
          ],
          "y": [
           0,
           1
          ]
         },
         "labels": [
          "ePay.info_CoinJoinMess",
          "Huobi.com",
          "Bitstamp.net",
          "Poloniex.com",
          "BTCC.com",
          "CoinTrader.net_LocalBitcoins.com",
          "BTC-e.com",
          "OKCoin.com",
          "Xapo.com",
          "107",
          "0",
          "BtcTrade.com",
          "71554939",
          "69697250",
          "HaoBTC.com",
          "57",
          "396",
          "122",
          "417",
          "61",
          "Bitcoin.de",
          "421",
          "BX.in.th",
          "70063369",
          "175",
          "Matbea.com",
          "289",
          "BitcoinFog",
          "5162",
          "898",
          "821",
          "SlushPool.com",
          "Bter.com",
          "BitBargain.co.uk",
          "CoinJar.com",
          "354",
          "CoinGaming.io",
          "523",
          "MercadoBitcoin.com.br",
          "YoBit.net",
          "CoinPayments.net",
          "LuckyB.it",
          "Bit-x.com",
          "469",
          "154",
          "1226",
          "101",
          "BitZillions.com",
          "348",
          "999Dice.com",
          "SatoshiDice.com",
          "CoinCafe.com",
          "BTCJam.com",
          "TheRockTrading.com",
          "Paymium.com",
          "CoinMotion.com",
          "Loanbase.com",
          "SecondsTrade.com",
          "FortuneJack.com",
          "35",
          "69827719",
          "871",
          "SatoshiMines.com",
          "HappyCoins.com",
          "Rollin.io",
          "SimpleCoin.cz",
          "61400549",
          "Vaultoro.com",
          "74278522",
          "700",
          "Cryptonator.com",
          "269",
          "73832915",
          "FYBSG.com",
          "69984672",
          "PocketDice.io",
          "CoinSpot.com.au",
          "69383113",
          "1567",
          "1070",
          "1805",
          "227",
          "SafeDice.com",
          "16768780",
          "70927660",
          "1138",
          "641",
          "292",
          "HolyTransaction.com",
          "Bitbond.com",
          "73963652",
          "1391",
          "16621",
          "1149",
          "71842975",
          "18972",
          "72472408",
          "419",
          "74304487",
          "7277"
         ],
         "name": "Biggest spenders",
         "textposition": "inside",
         "type": "pie",
         "values": [
          1169524135917296,
          779434828513447,
          415329798394610,
          364329527858203,
          269476739863002,
          263050716997025,
          256945707326884,
          153304238871639,
          138138853475220,
          136624149553684,
          136446148198504,
          128561300454311,
          114850329083014,
          62373001335185,
          60583446819003,
          56343580359246,
          52358674685450,
          47043413579441,
          46177135829052,
          35234506014052,
          29539611760846,
          28419944251981,
          26781945329915,
          26288000456193,
          23791715296064,
          21899695834368,
          18741584554039,
          17633045858114,
          16081897382473,
          15757619619169,
          15303456143539,
          14159940092309,
          14107671808369,
          12354125549888,
          11961096353757,
          11283923521443,
          11240896702795,
          10813245204798,
          10673617819431,
          8879588494152,
          8615754801196,
          8564433798027,
          8352651164770,
          8147922618010,
          7110920392467,
          5808766496911,
          5214318931546,
          4893515489076,
          4440837757416,
          4402424922219,
          4249373736551,
          4184490149963,
          4087484102533,
          3983099340520,
          3843282664682,
          3439767351844,
          2584523311057,
          2360637359200,
          2212875145809,
          2172502949107,
          2149379800994,
          2110657391129,
          1656622257241,
          1497977502051,
          1448641809155,
          1446137833906,
          1444186622837,
          1303785734668,
          1203938986918,
          1166369487389,
          1155253880771,
          1127045247429,
          1121922418098,
          1046976909985,
          1016630652435,
          959493698059,
          946540077068,
          897090300473,
          885648731073,
          788635642121,
          729809315704,
          682231054301,
          647040852519,
          637236894107,
          632726086361,
          610200218714,
          488709574422,
          485834004687,
          450147276434,
          428152971945,
          422464494366,
          421440695472,
          384880770929,
          317953281983,
          302829648410,
          252625445987,
          221365648217,
          74500767678,
          64713857893,
          12947695949
         ]
        },
        {
         "domain": {
          "x": [
           0.55,
           1
          ],
          "y": [
           0,
           1
          ]
         },
         "labels": [
          "Huobi.com",
          "ePay.info_CoinJoinMess",
          "Bitstamp.net",
          "BTC-e.com",
          "OKCoin.com",
          "Poloniex.com",
          "BTCC.com",
          "CoinTrader.net_LocalBitcoins.com",
          "107",
          "Xapo.com",
          "0",
          "69697250",
          "BtcTrade.com",
          "417",
          "71554939",
          "122",
          "HaoBTC.com",
          "57",
          "396",
          "Matbea.com",
          "Bitcoin.de",
          "61",
          "175",
          "421",
          "BX.in.th",
          "289",
          "70063369",
          "5162",
          "821",
          "BitcoinFog",
          "Bter.com",
          "898",
          "SlushPool.com",
          "CoinGaming.io",
          "CoinJar.com",
          "BitBargain.co.uk",
          "523",
          "354",
          "Bit-x.com",
          "MercadoBitcoin.com.br",
          "YoBit.net",
          "CoinPayments.net",
          "1226",
          "469",
          "LuckyB.it",
          "154",
          "101",
          "TheRockTrading.com",
          "BitZillions.com",
          "999Dice.com",
          "SatoshiDice.com",
          "348",
          "Paymium.com",
          "CoinCafe.com",
          "BTCJam.com",
          "CoinMotion.com",
          "Loanbase.com",
          "871",
          "35",
          "SecondsTrade.com",
          "FortuneJack.com",
          "69827719",
          "61400549",
          "SatoshiMines.com",
          "Vaultoro.com",
          "HappyCoins.com",
          "Rollin.io",
          "SimpleCoin.cz",
          "1149",
          "700",
          "Cryptonator.com",
          "74278522",
          "269",
          "73832915",
          "FYBSG.com",
          "CoinSpot.com.au",
          "69984672",
          "1567",
          "PocketDice.io",
          "69383113",
          "1070",
          "1805",
          "227",
          "SafeDice.com",
          "16768780",
          "70927660",
          "1138",
          "641",
          "292",
          "HolyTransaction.com",
          "Bitbond.com",
          "1391",
          "73963652",
          "16621",
          "71842975",
          "18972",
          "72472408",
          "419",
          "74304487",
          "7277"
         ],
         "name": "Biggest receivers",
         "textposition": "inside",
         "type": "pie",
         "values": [
          1313671163168167,
          1188924611100302,
          699782067916023,
          537057858587567,
          458928827459515,
          433383950575216,
          322067304343027,
          313609174487856,
          275636060618033,
          236081771252789,
          207372158918689,
          143609235700441,
          137973116958994,
          126266607979832,
          114974536230477,
          105857736420561,
          74250437241442,
          69615214804612,
          59441914427374,
          47581940645707,
          36899133418986,
          35381164079717,
          32313596247044,
          31667455593301,
          28714812242843,
          27439488080379,
          26288819359786,
          25270029263129,
          21391880891333,
          17680175205182,
          16079869834950,
          15865569880026,
          14196259734113,
          13107466197060,
          12762934533218,
          12468239114186,
          12195071992492,
          11669218135825,
          11448631763825,
          11416290602403,
          10396602309870,
          9806720770000,
          8948749778178,
          8679330387025,
          8581252481644,
          7835782897705,
          5399256037926,
          4920981036824,
          4894126124017,
          4661317005730,
          4575452422397,
          4447285515389,
          4220165033690,
          4218961212835,
          4166550626582,
          3553443084680,
          2577319987395,
          2573938248529,
          2401103665674,
          2363046616352,
          2215754327387,
          2149664336108,
          1744315712771,
          1662092098485,
          1524105560675,
          1520952341507,
          1519248760553,
          1465621114407,
          1410782854019,
          1267468359504,
          1259734724637,
          1203965534534,
          1129080850566,
          1122023225701,
          1102731752281,
          1066297190934,
          1016845981836,
          980999300168,
          959706529096,
          897207208440,
          800503469111,
          744806476823,
          690639171819,
          669505945779,
          637369433602,
          632730953679,
          611402683289,
          512652153102,
          493140309324,
          451395709571,
          427927233901,
          421963636791,
          421552386633,
          385263682296,
          302917050172,
          252891702853,
          221291730295,
          80023262417,
          64765520556,
          17472132020
         ]
        }
       ],
       "layout": {
        "template": {
         "data": {
          "bar": [
           {
            "error_x": {
             "color": "#2a3f5f"
            },
            "error_y": {
             "color": "#2a3f5f"
            },
            "marker": {
             "line": {
              "color": "#E5ECF6",
              "width": 0.5
             },
             "pattern": {
              "fillmode": "overlay",
              "size": 10,
              "solidity": 0.2
             }
            },
            "type": "bar"
           }
          ],
          "barpolar": [
           {
            "marker": {
             "line": {
              "color": "#E5ECF6",
              "width": 0.5
             },
             "pattern": {
              "fillmode": "overlay",
              "size": 10,
              "solidity": 0.2
             }
            },
            "type": "barpolar"
           }
          ],
          "carpet": [
           {
            "aaxis": {
             "endlinecolor": "#2a3f5f",
             "gridcolor": "white",
             "linecolor": "white",
             "minorgridcolor": "white",
             "startlinecolor": "#2a3f5f"
            },
            "baxis": {
             "endlinecolor": "#2a3f5f",
             "gridcolor": "white",
             "linecolor": "white",
             "minorgridcolor": "white",
             "startlinecolor": "#2a3f5f"
            },
            "type": "carpet"
           }
          ],
          "choropleth": [
           {
            "colorbar": {
             "outlinewidth": 0,
             "ticks": ""
            },
            "type": "choropleth"
           }
          ],
          "contour": [
           {
            "colorbar": {
             "outlinewidth": 0,
             "ticks": ""
            },
            "colorscale": [
             [
              0,
              "#0d0887"
             ],
             [
              0.1111111111111111,
              "#46039f"
             ],
             [
              0.2222222222222222,
              "#7201a8"
             ],
             [
              0.3333333333333333,
              "#9c179e"
             ],
             [
              0.4444444444444444,
              "#bd3786"
             ],
             [
              0.5555555555555556,
              "#d8576b"
             ],
             [
              0.6666666666666666,
              "#ed7953"
             ],
             [
              0.7777777777777778,
              "#fb9f3a"
             ],
             [
              0.8888888888888888,
              "#fdca26"
             ],
             [
              1,
              "#f0f921"
             ]
            ],
            "type": "contour"
           }
          ],
          "contourcarpet": [
           {
            "colorbar": {
             "outlinewidth": 0,
             "ticks": ""
            },
            "type": "contourcarpet"
           }
          ],
          "heatmap": [
           {
            "colorbar": {
             "outlinewidth": 0,
             "ticks": ""
            },
            "colorscale": [
             [
              0,
              "#0d0887"
             ],
             [
              0.1111111111111111,
              "#46039f"
             ],
             [
              0.2222222222222222,
              "#7201a8"
             ],
             [
              0.3333333333333333,
              "#9c179e"
             ],
             [
              0.4444444444444444,
              "#bd3786"
             ],
             [
              0.5555555555555556,
              "#d8576b"
             ],
             [
              0.6666666666666666,
              "#ed7953"
             ],
             [
              0.7777777777777778,
              "#fb9f3a"
             ],
             [
              0.8888888888888888,
              "#fdca26"
             ],
             [
              1,
              "#f0f921"
             ]
            ],
            "type": "heatmap"
           }
          ],
          "heatmapgl": [
           {
            "colorbar": {
             "outlinewidth": 0,
             "ticks": ""
            },
            "colorscale": [
             [
              0,
              "#0d0887"
             ],
             [
              0.1111111111111111,
              "#46039f"
             ],
             [
              0.2222222222222222,
              "#7201a8"
             ],
             [
              0.3333333333333333,
              "#9c179e"
             ],
             [
              0.4444444444444444,
              "#bd3786"
             ],
             [
              0.5555555555555556,
              "#d8576b"
             ],
             [
              0.6666666666666666,
              "#ed7953"
             ],
             [
              0.7777777777777778,
              "#fb9f3a"
             ],
             [
              0.8888888888888888,
              "#fdca26"
             ],
             [
              1,
              "#f0f921"
             ]
            ],
            "type": "heatmapgl"
           }
          ],
          "histogram": [
           {
            "marker": {
             "pattern": {
              "fillmode": "overlay",
              "size": 10,
              "solidity": 0.2
             }
            },
            "type": "histogram"
           }
          ],
          "histogram2d": [
           {
            "colorbar": {
             "outlinewidth": 0,
             "ticks": ""
            },
            "colorscale": [
             [
              0,
              "#0d0887"
             ],
             [
              0.1111111111111111,
              "#46039f"
             ],
             [
              0.2222222222222222,
              "#7201a8"
             ],
             [
              0.3333333333333333,
              "#9c179e"
             ],
             [
              0.4444444444444444,
              "#bd3786"
             ],
             [
              0.5555555555555556,
              "#d8576b"
             ],
             [
              0.6666666666666666,
              "#ed7953"
             ],
             [
              0.7777777777777778,
              "#fb9f3a"
             ],
             [
              0.8888888888888888,
              "#fdca26"
             ],
             [
              1,
              "#f0f921"
             ]
            ],
            "type": "histogram2d"
           }
          ],
          "histogram2dcontour": [
           {
            "colorbar": {
             "outlinewidth": 0,
             "ticks": ""
            },
            "colorscale": [
             [
              0,
              "#0d0887"
             ],
             [
              0.1111111111111111,
              "#46039f"
             ],
             [
              0.2222222222222222,
              "#7201a8"
             ],
             [
              0.3333333333333333,
              "#9c179e"
             ],
             [
              0.4444444444444444,
              "#bd3786"
             ],
             [
              0.5555555555555556,
              "#d8576b"
             ],
             [
              0.6666666666666666,
              "#ed7953"
             ],
             [
              0.7777777777777778,
              "#fb9f3a"
             ],
             [
              0.8888888888888888,
              "#fdca26"
             ],
             [
              1,
              "#f0f921"
             ]
            ],
            "type": "histogram2dcontour"
           }
          ],
          "mesh3d": [
           {
            "colorbar": {
             "outlinewidth": 0,
             "ticks": ""
            },
            "type": "mesh3d"
           }
          ],
          "parcoords": [
           {
            "line": {
             "colorbar": {
              "outlinewidth": 0,
              "ticks": ""
             }
            },
            "type": "parcoords"
           }
          ],
          "pie": [
           {
            "automargin": true,
            "type": "pie"
           }
          ],
          "scatter": [
           {
            "fillpattern": {
             "fillmode": "overlay",
             "size": 10,
             "solidity": 0.2
            },
            "type": "scatter"
           }
          ],
          "scatter3d": [
           {
            "line": {
             "colorbar": {
              "outlinewidth": 0,
              "ticks": ""
             }
            },
            "marker": {
             "colorbar": {
              "outlinewidth": 0,
              "ticks": ""
             }
            },
            "type": "scatter3d"
           }
          ],
          "scattercarpet": [
           {
            "marker": {
             "colorbar": {
              "outlinewidth": 0,
              "ticks": ""
             }
            },
            "type": "scattercarpet"
           }
          ],
          "scattergeo": [
           {
            "marker": {
             "colorbar": {
              "outlinewidth": 0,
              "ticks": ""
             }
            },
            "type": "scattergeo"
           }
          ],
          "scattergl": [
           {
            "marker": {
             "colorbar": {
              "outlinewidth": 0,
              "ticks": ""
             }
            },
            "type": "scattergl"
           }
          ],
          "scattermapbox": [
           {
            "marker": {
             "colorbar": {
              "outlinewidth": 0,
              "ticks": ""
             }
            },
            "type": "scattermapbox"
           }
          ],
          "scatterpolar": [
           {
            "marker": {
             "colorbar": {
              "outlinewidth": 0,
              "ticks": ""
             }
            },
            "type": "scatterpolar"
           }
          ],
          "scatterpolargl": [
           {
            "marker": {
             "colorbar": {
              "outlinewidth": 0,
              "ticks": ""
             }
            },
            "type": "scatterpolargl"
           }
          ],
          "scatterternary": [
           {
            "marker": {
             "colorbar": {
              "outlinewidth": 0,
              "ticks": ""
             }
            },
            "type": "scatterternary"
           }
          ],
          "surface": [
           {
            "colorbar": {
             "outlinewidth": 0,
             "ticks": ""
            },
            "colorscale": [
             [
              0,
              "#0d0887"
             ],
             [
              0.1111111111111111,
              "#46039f"
             ],
             [
              0.2222222222222222,
              "#7201a8"
             ],
             [
              0.3333333333333333,
              "#9c179e"
             ],
             [
              0.4444444444444444,
              "#bd3786"
             ],
             [
              0.5555555555555556,
              "#d8576b"
             ],
             [
              0.6666666666666666,
              "#ed7953"
             ],
             [
              0.7777777777777778,
              "#fb9f3a"
             ],
             [
              0.8888888888888888,
              "#fdca26"
             ],
             [
              1,
              "#f0f921"
             ]
            ],
            "type": "surface"
           }
          ],
          "table": [
           {
            "cells": {
             "fill": {
              "color": "#EBF0F8"
             },
             "line": {
              "color": "white"
             }
            },
            "header": {
             "fill": {
              "color": "#C8D4E3"
             },
             "line": {
              "color": "white"
             }
            },
            "type": "table"
           }
          ]
         },
         "layout": {
          "annotationdefaults": {
           "arrowcolor": "#2a3f5f",
           "arrowhead": 0,
           "arrowwidth": 1
          },
          "autotypenumbers": "strict",
          "coloraxis": {
           "colorbar": {
            "outlinewidth": 0,
            "ticks": ""
           }
          },
          "colorscale": {
           "diverging": [
            [
             0,
             "#8e0152"
            ],
            [
             0.1,
             "#c51b7d"
            ],
            [
             0.2,
             "#de77ae"
            ],
            [
             0.3,
             "#f1b6da"
            ],
            [
             0.4,
             "#fde0ef"
            ],
            [
             0.5,
             "#f7f7f7"
            ],
            [
             0.6,
             "#e6f5d0"
            ],
            [
             0.7,
             "#b8e186"
            ],
            [
             0.8,
             "#7fbc41"
            ],
            [
             0.9,
             "#4d9221"
            ],
            [
             1,
             "#276419"
            ]
           ],
           "sequential": [
            [
             0,
             "#0d0887"
            ],
            [
             0.1111111111111111,
             "#46039f"
            ],
            [
             0.2222222222222222,
             "#7201a8"
            ],
            [
             0.3333333333333333,
             "#9c179e"
            ],
            [
             0.4444444444444444,
             "#bd3786"
            ],
            [
             0.5555555555555556,
             "#d8576b"
            ],
            [
             0.6666666666666666,
             "#ed7953"
            ],
            [
             0.7777777777777778,
             "#fb9f3a"
            ],
            [
             0.8888888888888888,
             "#fdca26"
            ],
            [
             1,
             "#f0f921"
            ]
           ],
           "sequentialminus": [
            [
             0,
             "#0d0887"
            ],
            [
             0.1111111111111111,
             "#46039f"
            ],
            [
             0.2222222222222222,
             "#7201a8"
            ],
            [
             0.3333333333333333,
             "#9c179e"
            ],
            [
             0.4444444444444444,
             "#bd3786"
            ],
            [
             0.5555555555555556,
             "#d8576b"
            ],
            [
             0.6666666666666666,
             "#ed7953"
            ],
            [
             0.7777777777777778,
             "#fb9f3a"
            ],
            [
             0.8888888888888888,
             "#fdca26"
            ],
            [
             1,
             "#f0f921"
            ]
           ]
          },
          "colorway": [
           "#636efa",
           "#EF553B",
           "#00cc96",
           "#ab63fa",
           "#FFA15A",
           "#19d3f3",
           "#FF6692",
           "#B6E880",
           "#FF97FF",
           "#FECB52"
          ],
          "font": {
           "color": "#2a3f5f"
          },
          "geo": {
           "bgcolor": "white",
           "lakecolor": "white",
           "landcolor": "#E5ECF6",
           "showlakes": true,
           "showland": true,
           "subunitcolor": "white"
          },
          "hoverlabel": {
           "align": "left"
          },
          "hovermode": "closest",
          "mapbox": {
           "style": "light"
          },
          "paper_bgcolor": "white",
          "plot_bgcolor": "#E5ECF6",
          "polar": {
           "angularaxis": {
            "gridcolor": "white",
            "linecolor": "white",
            "ticks": ""
           },
           "bgcolor": "#E5ECF6",
           "radialaxis": {
            "gridcolor": "white",
            "linecolor": "white",
            "ticks": ""
           }
          },
          "scene": {
           "xaxis": {
            "backgroundcolor": "#E5ECF6",
            "gridcolor": "white",
            "gridwidth": 2,
            "linecolor": "white",
            "showbackground": true,
            "ticks": "",
            "zerolinecolor": "white"
           },
           "yaxis": {
            "backgroundcolor": "#E5ECF6",
            "gridcolor": "white",
            "gridwidth": 2,
            "linecolor": "white",
            "showbackground": true,
            "ticks": "",
            "zerolinecolor": "white"
           },
           "zaxis": {
            "backgroundcolor": "#E5ECF6",
            "gridcolor": "white",
            "gridwidth": 2,
            "linecolor": "white",
            "showbackground": true,
            "ticks": "",
            "zerolinecolor": "white"
           }
          },
          "shapedefaults": {
           "line": {
            "color": "#2a3f5f"
           }
          },
          "ternary": {
           "aaxis": {
            "gridcolor": "white",
            "linecolor": "white",
            "ticks": ""
           },
           "baxis": {
            "gridcolor": "white",
            "linecolor": "white",
            "ticks": ""
           },
           "bgcolor": "#E5ECF6",
           "caxis": {
            "gridcolor": "white",
            "linecolor": "white",
            "ticks": ""
           }
          },
          "title": {
           "x": 0.05
          },
          "xaxis": {
           "automargin": true,
           "gridcolor": "white",
           "linecolor": "white",
           "ticks": "",
           "title": {
            "standoff": 15
           },
           "zerolinecolor": "white",
           "zerolinewidth": 2
          },
          "yaxis": {
           "automargin": true,
           "gridcolor": "white",
           "linecolor": "white",
           "ticks": "",
           "title": {
            "standoff": 15
           },
           "zerolinecolor": "white",
           "zerolinewidth": 2
          }
         }
        },
        "title": {
         "text": "Biggest spenders and receivers in the bitcoin blockchain"
        }
       }
      }
     },
     "metadata": {},
     "output_type": "display_data"
    }
   ],
   "source": [
    "# subplot of 2 pie plot with plotly with the biggest spenders and the biggest receivers\n",
    "\n",
    "import plotly.graph_objects as go\n",
    "from plotly.subplots import make_subplots\n",
    "\n",
    "fig = make_subplots(rows=1, cols=2, specs=[[{'type':'domain'}, {'type':'domain'}]])\n",
    "fig.add_trace(go.Pie(labels=biggest_spenders.index, values=biggest_spenders.values, name=\"Biggest spenders\"), 1, 1)\n",
    "fig.add_trace(go.Pie(labels=biggest_receivers.index, values=biggest_receivers.values, name=\"Biggest receivers\"), 1, 2)\n",
    "fig.update_traces(textposition='inside')\n",
    "fig.update_layout(title_text=\"Biggest spenders and receivers in the bitcoin blockchain\")\n",
    "fig.show()\n"
   ]
  },
  {
   "cell_type": "code",
   "execution_count": 270,
   "metadata": {},
   "outputs": [
    {
     "data": {
      "application/vnd.plotly.v1+json": {
       "config": {
        "plotlyServerURL": "https://plot.ly"
       },
       "data": [
        {
         "hovertemplate": "identity=Bitstamp.net<br>date=%{x}<br>spent=%{y}<extra></extra>",
         "legendgroup": "Bitstamp.net",
         "line": {
          "color": "#636efa",
          "dash": "solid"
         },
         "marker": {
          "symbol": "circle"
         },
         "mode": "lines",
         "name": "Bitstamp.net",
         "showlegend": true,
         "type": "scattergl",
         "x": [
          "2015-01-01T00:00:00",
          "2015-01-02T00:00:00",
          "2015-01-03T00:00:00",
          "2015-01-04T00:00:00",
          "2015-01-05T00:00:00",
          "2015-01-06T00:00:00",
          "2015-01-07T00:00:00",
          "2015-01-08T00:00:00",
          "2015-01-09T00:00:00",
          "2015-01-10T00:00:00",
          "2015-01-11T00:00:00",
          "2015-01-12T00:00:00",
          "2015-01-13T00:00:00",
          "2015-01-14T00:00:00",
          "2015-01-15T00:00:00",
          "2015-01-16T00:00:00",
          "2015-01-17T00:00:00",
          "2015-01-18T00:00:00",
          "2015-01-19T00:00:00",
          "2015-01-20T00:00:00",
          "2015-01-21T00:00:00",
          "2015-01-22T00:00:00",
          "2015-01-23T00:00:00",
          "2015-01-24T00:00:00",
          "2015-01-25T00:00:00",
          "2015-01-26T00:00:00",
          "2015-01-27T00:00:00",
          "2015-01-28T00:00:00",
          "2015-01-29T00:00:00",
          "2015-01-30T00:00:00",
          "2015-01-31T00:00:00",
          "2015-02-01T00:00:00",
          "2015-02-02T00:00:00",
          "2015-02-03T00:00:00",
          "2015-02-04T00:00:00",
          "2015-02-05T00:00:00",
          "2015-02-06T00:00:00",
          "2015-02-07T00:00:00",
          "2015-02-08T00:00:00",
          "2015-02-09T00:00:00",
          "2015-02-10T00:00:00",
          "2015-02-11T00:00:00",
          "2015-02-12T00:00:00",
          "2015-02-13T00:00:00",
          "2015-02-14T00:00:00",
          "2015-02-15T00:00:00",
          "2015-02-16T00:00:00",
          "2015-02-17T00:00:00",
          "2015-02-18T00:00:00",
          "2015-02-19T00:00:00",
          "2015-02-20T00:00:00",
          "2015-02-21T00:00:00",
          "2015-02-22T00:00:00",
          "2015-02-23T00:00:00",
          "2015-02-24T00:00:00",
          "2015-02-25T00:00:00",
          "2015-02-26T00:00:00",
          "2015-02-27T00:00:00",
          "2015-02-28T00:00:00",
          "2015-03-01T00:00:00",
          "2015-03-02T00:00:00",
          "2015-03-03T00:00:00",
          "2015-03-04T00:00:00",
          "2015-03-05T00:00:00",
          "2015-03-06T00:00:00",
          "2015-03-07T00:00:00",
          "2015-03-08T00:00:00",
          "2015-03-09T00:00:00",
          "2015-03-10T00:00:00",
          "2015-03-11T00:00:00",
          "2015-03-12T00:00:00",
          "2015-03-13T00:00:00",
          "2015-03-14T00:00:00",
          "2015-03-15T00:00:00",
          "2015-03-16T00:00:00",
          "2015-03-17T00:00:00",
          "2015-03-18T00:00:00",
          "2015-03-19T00:00:00",
          "2015-03-20T00:00:00",
          "2015-03-21T00:00:00",
          "2015-03-22T00:00:00",
          "2015-03-23T00:00:00",
          "2015-03-24T00:00:00",
          "2015-03-25T00:00:00",
          "2015-03-26T00:00:00",
          "2015-03-27T00:00:00",
          "2015-03-28T00:00:00",
          "2015-03-29T00:00:00",
          "2015-03-30T00:00:00",
          "2015-03-31T00:00:00",
          "2015-04-01T00:00:00",
          "2015-04-02T00:00:00",
          "2015-04-03T00:00:00",
          "2015-04-04T00:00:00",
          "2015-04-05T00:00:00",
          "2015-04-06T00:00:00",
          "2015-04-07T00:00:00",
          "2015-04-08T00:00:00",
          "2015-04-09T00:00:00",
          "2015-04-10T00:00:00",
          "2015-04-11T00:00:00",
          "2015-04-12T00:00:00",
          "2015-04-13T00:00:00",
          "2015-04-14T00:00:00",
          "2015-04-15T00:00:00",
          "2015-04-16T00:00:00",
          "2015-04-17T00:00:00",
          "2015-04-18T00:00:00",
          "2015-04-19T00:00:00",
          "2015-04-20T00:00:00",
          "2015-04-21T00:00:00",
          "2015-04-22T00:00:00",
          "2015-04-23T00:00:00",
          "2015-04-24T00:00:00",
          "2015-04-25T00:00:00",
          "2015-04-26T00:00:00",
          "2015-04-27T00:00:00",
          "2015-04-28T00:00:00",
          "2015-04-29T00:00:00",
          "2015-04-30T00:00:00",
          "2015-05-01T00:00:00",
          "2015-05-02T00:00:00",
          "2015-05-03T00:00:00",
          "2015-05-04T00:00:00",
          "2015-05-05T00:00:00",
          "2015-05-06T00:00:00",
          "2015-05-07T00:00:00",
          "2015-05-08T00:00:00",
          "2015-05-09T00:00:00",
          "2015-05-10T00:00:00",
          "2015-05-11T00:00:00",
          "2015-05-12T00:00:00",
          "2015-05-13T00:00:00",
          "2015-05-14T00:00:00",
          "2015-05-15T00:00:00",
          "2015-05-16T00:00:00",
          "2015-05-17T00:00:00",
          "2015-05-18T00:00:00",
          "2015-05-19T00:00:00",
          "2015-05-20T00:00:00",
          "2015-05-21T00:00:00",
          "2015-05-22T00:00:00",
          "2015-05-23T00:00:00",
          "2015-05-24T00:00:00",
          "2015-05-25T00:00:00",
          "2015-05-26T00:00:00",
          "2015-05-27T00:00:00",
          "2015-05-28T00:00:00",
          "2015-05-29T00:00:00",
          "2015-05-30T00:00:00",
          "2015-05-31T00:00:00",
          "2015-06-01T00:00:00",
          "2015-06-02T00:00:00",
          "2015-06-03T00:00:00",
          "2015-06-04T00:00:00",
          "2015-06-05T00:00:00",
          "2015-06-06T00:00:00",
          "2015-06-07T00:00:00",
          "2015-06-08T00:00:00",
          "2015-06-09T00:00:00",
          "2015-06-10T00:00:00",
          "2015-06-11T00:00:00",
          "2015-06-12T00:00:00",
          "2015-06-13T00:00:00",
          "2015-06-14T00:00:00",
          "2015-06-15T00:00:00",
          "2015-06-16T00:00:00",
          "2015-06-17T00:00:00",
          "2015-06-18T00:00:00",
          "2015-06-19T00:00:00",
          "2015-06-20T00:00:00",
          "2015-06-21T00:00:00",
          "2015-06-22T00:00:00",
          "2015-06-23T00:00:00",
          "2015-06-24T00:00:00",
          "2015-06-25T00:00:00",
          "2015-06-26T00:00:00",
          "2015-06-27T00:00:00",
          "2015-06-28T00:00:00",
          "2015-06-29T00:00:00",
          "2015-06-30T00:00:00",
          "2015-07-01T00:00:00",
          "2015-07-02T00:00:00",
          "2015-07-03T00:00:00",
          "2015-07-04T00:00:00",
          "2015-07-05T00:00:00",
          "2015-07-06T00:00:00",
          "2015-07-07T00:00:00",
          "2015-07-08T00:00:00",
          "2015-07-09T00:00:00",
          "2015-07-10T00:00:00",
          "2015-07-11T00:00:00",
          "2015-07-12T00:00:00",
          "2015-07-13T00:00:00",
          "2015-07-14T00:00:00",
          "2015-07-15T00:00:00",
          "2015-07-16T00:00:00",
          "2015-07-17T00:00:00",
          "2015-07-18T00:00:00",
          "2015-07-19T00:00:00",
          "2015-07-20T00:00:00",
          "2015-07-21T00:00:00",
          "2015-07-22T00:00:00",
          "2015-07-23T00:00:00",
          "2015-07-24T00:00:00",
          "2015-07-25T00:00:00",
          "2015-07-26T00:00:00",
          "2015-07-27T00:00:00",
          "2015-07-28T00:00:00",
          "2015-07-29T00:00:00",
          "2015-07-30T00:00:00",
          "2015-07-31T00:00:00",
          "2015-08-01T00:00:00",
          "2015-08-02T00:00:00",
          "2015-08-03T00:00:00",
          "2015-08-04T00:00:00",
          "2015-08-05T00:00:00",
          "2015-08-06T00:00:00",
          "2015-08-07T00:00:00",
          "2015-08-08T00:00:00",
          "2015-08-09T00:00:00",
          "2015-08-10T00:00:00",
          "2015-08-11T00:00:00",
          "2015-08-12T00:00:00",
          "2015-08-13T00:00:00",
          "2015-08-14T00:00:00",
          "2015-08-15T00:00:00",
          "2015-08-16T00:00:00",
          "2015-08-17T00:00:00",
          "2015-08-18T00:00:00",
          "2015-08-19T00:00:00",
          "2015-08-20T00:00:00",
          "2015-08-21T00:00:00",
          "2015-08-22T00:00:00",
          "2015-08-23T00:00:00",
          "2015-08-24T00:00:00",
          "2015-08-25T00:00:00",
          "2015-08-26T00:00:00",
          "2015-08-27T00:00:00",
          "2015-08-28T00:00:00",
          "2015-08-29T00:00:00",
          "2015-08-30T00:00:00",
          "2015-08-31T00:00:00",
          "2015-09-01T00:00:00",
          "2015-09-02T00:00:00",
          "2015-09-03T00:00:00",
          "2015-09-04T00:00:00",
          "2015-09-05T00:00:00",
          "2015-09-06T00:00:00",
          "2015-09-07T00:00:00",
          "2015-09-08T00:00:00",
          "2015-09-09T00:00:00",
          "2015-09-10T00:00:00",
          "2015-09-11T00:00:00",
          "2015-09-12T00:00:00",
          "2015-09-13T00:00:00",
          "2015-09-14T00:00:00",
          "2015-09-15T00:00:00",
          "2015-09-16T00:00:00",
          "2015-09-17T00:00:00",
          "2015-09-18T00:00:00",
          "2015-09-19T00:00:00",
          "2015-09-20T00:00:00",
          "2015-09-21T00:00:00",
          "2015-09-22T00:00:00",
          "2015-09-23T00:00:00",
          "2015-09-24T00:00:00",
          "2015-09-25T00:00:00",
          "2015-09-26T00:00:00",
          "2015-09-27T00:00:00",
          "2015-09-28T00:00:00",
          "2015-09-29T00:00:00",
          "2015-09-30T00:00:00",
          "2015-10-01T00:00:00",
          "2015-10-02T00:00:00",
          "2015-10-03T00:00:00",
          "2015-10-04T00:00:00",
          "2015-10-05T00:00:00",
          "2015-10-06T00:00:00",
          "2015-10-07T00:00:00",
          "2015-10-08T00:00:00",
          "2015-10-09T00:00:00",
          "2015-10-10T00:00:00",
          "2015-10-11T00:00:00",
          "2015-10-12T00:00:00",
          "2015-10-13T00:00:00",
          "2015-10-14T00:00:00",
          "2015-10-15T00:00:00",
          "2015-10-16T00:00:00",
          "2015-10-17T00:00:00",
          "2015-10-18T00:00:00",
          "2015-10-19T00:00:00",
          "2015-10-20T00:00:00",
          "2015-10-21T00:00:00",
          "2015-10-22T00:00:00",
          "2015-10-23T00:00:00",
          "2015-10-24T00:00:00",
          "2015-10-25T00:00:00",
          "2015-10-26T00:00:00",
          "2015-10-27T00:00:00",
          "2015-10-28T00:00:00",
          "2015-10-29T00:00:00",
          "2015-10-30T00:00:00",
          "2015-10-31T00:00:00",
          "2015-11-01T00:00:00",
          "2015-11-02T00:00:00",
          "2015-11-03T00:00:00",
          "2015-11-04T00:00:00",
          "2015-11-05T00:00:00",
          "2015-11-06T00:00:00",
          "2015-11-07T00:00:00",
          "2015-11-08T00:00:00",
          "2015-11-09T00:00:00",
          "2015-11-10T00:00:00",
          "2015-11-11T00:00:00",
          "2015-11-12T00:00:00",
          "2015-11-13T00:00:00",
          "2015-11-14T00:00:00",
          "2015-11-15T00:00:00",
          "2015-11-16T00:00:00",
          "2015-11-17T00:00:00",
          "2015-11-18T00:00:00",
          "2015-11-19T00:00:00",
          "2015-11-20T00:00:00",
          "2015-11-21T00:00:00",
          "2015-11-22T00:00:00",
          "2015-11-23T00:00:00",
          "2015-11-24T00:00:00",
          "2015-11-25T00:00:00",
          "2015-11-26T00:00:00",
          "2015-11-27T00:00:00",
          "2015-11-28T00:00:00",
          "2015-11-29T00:00:00",
          "2015-11-30T00:00:00",
          "2015-12-01T00:00:00",
          "2015-12-02T00:00:00",
          "2015-12-03T00:00:00",
          "2015-12-04T00:00:00",
          "2015-12-05T00:00:00",
          "2015-12-06T00:00:00",
          "2015-12-07T00:00:00",
          "2015-12-08T00:00:00",
          "2015-12-09T00:00:00",
          "2015-12-10T00:00:00",
          "2015-12-11T00:00:00",
          "2015-12-12T00:00:00",
          "2015-12-13T00:00:00",
          "2015-12-14T00:00:00",
          "2015-12-15T00:00:00",
          "2015-12-16T00:00:00",
          "2015-12-17T00:00:00",
          "2015-12-18T00:00:00",
          "2015-12-19T00:00:00",
          "2015-12-20T00:00:00",
          "2015-12-21T00:00:00",
          "2015-12-22T00:00:00",
          "2015-12-23T00:00:00",
          "2015-12-24T00:00:00",
          "2015-12-25T00:00:00",
          "2015-12-26T00:00:00",
          "2015-12-27T00:00:00",
          "2015-12-28T00:00:00",
          "2015-12-29T00:00:00",
          "2015-12-30T00:00:00",
          "2015-12-31T00:00:00",
          "2016-01-01T00:00:00",
          "2016-01-02T00:00:00",
          "2016-01-03T00:00:00",
          "2016-01-04T00:00:00",
          "2016-01-05T00:00:00",
          "2016-01-06T00:00:00",
          "2016-01-07T00:00:00",
          "2016-01-08T00:00:00",
          "2016-01-09T00:00:00",
          "2016-01-10T00:00:00",
          "2016-01-11T00:00:00",
          "2016-01-12T00:00:00",
          "2016-01-13T00:00:00",
          "2016-01-14T00:00:00",
          "2016-01-15T00:00:00",
          "2016-01-16T00:00:00",
          "2016-01-17T00:00:00",
          "2016-01-18T00:00:00",
          "2016-01-19T00:00:00",
          "2016-01-20T00:00:00",
          "2016-01-21T00:00:00",
          "2016-01-22T00:00:00",
          "2016-01-23T00:00:00",
          "2016-01-24T00:00:00",
          "2016-01-25T00:00:00",
          "2016-01-26T00:00:00",
          "2016-01-27T00:00:00",
          "2016-01-28T00:00:00",
          "2016-01-29T00:00:00",
          "2016-01-30T00:00:00",
          "2016-01-31T00:00:00",
          "2016-02-01T00:00:00",
          "2016-02-02T00:00:00",
          "2016-02-03T00:00:00",
          "2016-02-04T00:00:00",
          "2016-02-05T00:00:00",
          "2016-02-06T00:00:00",
          "2016-02-07T00:00:00",
          "2016-02-08T00:00:00",
          "2016-02-09T00:00:00",
          "2016-02-10T00:00:00",
          "2016-02-11T00:00:00",
          "2016-02-12T00:00:00",
          "2016-02-13T00:00:00",
          "2016-02-14T00:00:00",
          "2016-02-15T00:00:00",
          "2016-02-16T00:00:00",
          "2016-02-17T00:00:00",
          "2016-02-18T00:00:00",
          "2016-02-19T00:00:00",
          "2016-02-20T00:00:00",
          "2016-02-21T00:00:00",
          "2016-02-22T00:00:00",
          "2016-02-23T00:00:00",
          "2016-02-24T00:00:00",
          "2016-02-25T00:00:00",
          "2016-02-26T00:00:00",
          "2016-02-27T00:00:00",
          "2016-02-28T00:00:00",
          "2016-02-29T00:00:00",
          "2016-03-01T00:00:00",
          "2016-03-02T00:00:00",
          "2016-03-03T00:00:00",
          "2016-03-04T00:00:00",
          "2016-03-05T00:00:00",
          "2016-03-06T00:00:00",
          "2016-03-07T00:00:00",
          "2016-03-08T00:00:00",
          "2016-03-09T00:00:00",
          "2016-03-10T00:00:00",
          "2016-03-11T00:00:00",
          "2016-03-12T00:00:00",
          "2016-03-13T00:00:00",
          "2016-03-14T00:00:00",
          "2016-03-15T00:00:00",
          "2016-03-16T00:00:00",
          "2016-03-17T00:00:00",
          "2016-03-18T00:00:00",
          "2016-03-19T00:00:00",
          "2016-03-20T00:00:00",
          "2016-03-21T00:00:00",
          "2016-03-22T00:00:00",
          "2016-03-23T00:00:00",
          "2016-03-24T00:00:00",
          "2016-03-25T00:00:00",
          "2016-03-26T00:00:00",
          "2016-03-27T00:00:00",
          "2016-03-28T00:00:00",
          "2016-03-29T00:00:00",
          "2016-03-30T00:00:00",
          "2016-03-31T00:00:00",
          "2016-04-01T00:00:00",
          "2016-04-02T00:00:00",
          "2016-04-03T00:00:00",
          "2016-04-04T00:00:00",
          "2016-04-05T00:00:00",
          "2016-04-06T00:00:00",
          "2016-04-07T00:00:00",
          "2016-04-08T00:00:00",
          "2016-04-09T00:00:00",
          "2016-04-10T00:00:00",
          "2016-04-11T00:00:00",
          "2016-04-12T00:00:00",
          "2016-04-13T00:00:00",
          "2016-04-14T00:00:00",
          "2016-04-15T00:00:00",
          "2016-04-16T00:00:00",
          "2016-04-17T00:00:00",
          "2016-04-18T00:00:00",
          "2016-04-19T00:00:00",
          "2016-04-20T00:00:00",
          "2016-04-21T00:00:00",
          "2016-04-22T00:00:00",
          "2016-04-23T00:00:00",
          "2016-04-24T00:00:00",
          "2016-04-25T00:00:00",
          "2016-04-26T00:00:00",
          "2016-04-27T00:00:00",
          "2016-04-28T00:00:00",
          "2016-04-29T00:00:00",
          "2016-04-30T00:00:00",
          "2016-05-01T00:00:00",
          "2016-05-02T00:00:00",
          "2016-05-03T00:00:00",
          "2016-05-04T00:00:00",
          "2016-05-05T00:00:00",
          "2016-05-06T00:00:00",
          "2016-05-07T00:00:00",
          "2016-05-08T00:00:00",
          "2016-05-09T00:00:00",
          "2016-05-10T00:00:00",
          "2016-05-11T00:00:00",
          "2016-05-12T00:00:00",
          "2016-05-13T00:00:00",
          "2016-05-14T00:00:00",
          "2016-05-15T00:00:00",
          "2016-05-16T00:00:00",
          "2016-05-17T00:00:00",
          "2016-05-18T00:00:00",
          "2016-05-19T00:00:00",
          "2016-05-20T00:00:00",
          "2016-05-21T00:00:00",
          "2016-05-22T00:00:00",
          "2016-05-23T00:00:00",
          "2016-05-24T00:00:00",
          "2016-05-25T00:00:00",
          "2016-05-26T00:00:00",
          "2016-05-27T00:00:00",
          "2016-05-28T00:00:00",
          "2016-05-29T00:00:00",
          "2016-05-30T00:00:00",
          "2016-05-31T00:00:00",
          "2016-06-01T00:00:00",
          "2016-06-02T00:00:00",
          "2016-06-03T00:00:00",
          "2016-06-04T00:00:00",
          "2016-06-05T00:00:00",
          "2016-06-06T00:00:00",
          "2016-06-07T00:00:00",
          "2016-06-08T00:00:00",
          "2016-06-09T00:00:00",
          "2016-06-10T00:00:00",
          "2016-06-11T00:00:00",
          "2016-06-12T00:00:00",
          "2016-06-13T00:00:00",
          "2016-06-14T00:00:00",
          "2016-06-15T00:00:00",
          "2016-06-16T00:00:00",
          "2016-06-17T00:00:00",
          "2016-06-18T00:00:00",
          "2016-06-19T00:00:00",
          "2016-06-20T00:00:00",
          "2016-06-21T00:00:00",
          "2016-06-22T00:00:00",
          "2016-06-23T00:00:00",
          "2016-06-24T00:00:00",
          "2016-06-25T00:00:00",
          "2016-06-26T00:00:00",
          "2016-06-27T00:00:00",
          "2016-06-28T00:00:00",
          "2016-06-29T00:00:00",
          "2016-06-30T00:00:00",
          "2016-07-01T00:00:00",
          "2016-07-02T00:00:00",
          "2016-07-03T00:00:00",
          "2016-07-04T00:00:00",
          "2016-07-05T00:00:00",
          "2016-07-06T00:00:00",
          "2016-07-07T00:00:00",
          "2016-07-08T00:00:00",
          "2016-07-09T00:00:00",
          "2016-07-10T00:00:00",
          "2016-07-11T00:00:00",
          "2016-07-12T00:00:00",
          "2016-07-13T00:00:00",
          "2016-07-14T00:00:00",
          "2016-07-15T00:00:00",
          "2016-07-16T00:00:00",
          "2016-07-17T00:00:00",
          "2016-07-18T00:00:00",
          "2016-07-19T00:00:00",
          "2016-07-20T00:00:00",
          "2016-07-21T00:00:00",
          "2016-07-22T00:00:00",
          "2016-07-23T00:00:00",
          "2016-07-24T00:00:00",
          "2016-07-25T00:00:00",
          "2016-07-26T00:00:00",
          "2016-07-27T00:00:00",
          "2016-07-28T00:00:00",
          "2016-07-29T00:00:00",
          "2016-07-30T00:00:00",
          "2016-07-31T00:00:00",
          "2016-08-01T00:00:00",
          "2016-08-02T00:00:00",
          "2016-08-03T00:00:00",
          "2016-08-04T00:00:00",
          "2016-08-05T00:00:00",
          "2016-08-06T00:00:00",
          "2016-08-07T00:00:00",
          "2016-08-08T00:00:00",
          "2016-08-09T00:00:00",
          "2016-08-10T00:00:00",
          "2016-08-11T00:00:00",
          "2016-08-12T00:00:00",
          "2016-08-13T00:00:00",
          "2016-08-14T00:00:00",
          "2016-08-15T00:00:00",
          "2016-08-16T00:00:00",
          "2016-08-17T00:00:00",
          "2016-08-18T00:00:00",
          "2016-08-19T00:00:00",
          "2016-08-20T00:00:00",
          "2016-08-21T00:00:00",
          "2016-08-22T00:00:00",
          "2016-08-23T00:00:00",
          "2016-08-24T00:00:00",
          "2016-08-25T00:00:00",
          "2016-08-26T00:00:00",
          "2016-08-27T00:00:00",
          "2016-08-28T00:00:00",
          "2016-08-29T00:00:00",
          "2016-08-30T00:00:00",
          "2016-08-31T00:00:00",
          "2016-09-01T00:00:00",
          "2016-09-02T00:00:00",
          "2016-09-03T00:00:00",
          "2016-09-04T00:00:00",
          "2016-09-05T00:00:00",
          "2016-09-06T00:00:00",
          "2016-09-07T00:00:00",
          "2016-09-08T00:00:00",
          "2016-09-09T00:00:00",
          "2016-09-10T00:00:00",
          "2016-09-11T00:00:00",
          "2016-09-12T00:00:00",
          "2016-09-13T00:00:00",
          "2016-09-14T00:00:00",
          "2016-09-15T00:00:00",
          "2016-09-16T00:00:00",
          "2016-09-17T00:00:00",
          "2016-09-18T00:00:00",
          "2016-09-19T00:00:00",
          "2016-09-20T00:00:00",
          "2016-09-21T00:00:00",
          "2016-09-22T00:00:00",
          "2016-09-23T00:00:00",
          "2016-09-24T00:00:00",
          "2016-09-25T00:00:00",
          "2016-09-26T00:00:00",
          "2016-09-27T00:00:00",
          "2016-09-28T00:00:00",
          "2016-09-29T00:00:00",
          "2016-09-30T00:00:00",
          "2016-10-01T00:00:00",
          "2016-10-02T00:00:00",
          "2016-10-03T00:00:00",
          "2016-10-04T00:00:00",
          "2016-10-05T00:00:00",
          "2016-10-06T00:00:00",
          "2016-10-07T00:00:00",
          "2016-10-08T00:00:00",
          "2016-10-09T00:00:00",
          "2016-10-10T00:00:00",
          "2016-10-11T00:00:00",
          "2016-10-12T00:00:00",
          "2016-10-13T00:00:00",
          "2016-10-14T00:00:00",
          "2016-10-15T00:00:00",
          "2016-10-16T00:00:00",
          "2016-10-17T00:00:00",
          "2016-10-18T00:00:00",
          "2016-10-19T00:00:00",
          "2016-10-20T00:00:00",
          "2016-10-21T00:00:00",
          "2016-10-22T00:00:00",
          "2016-10-23T00:00:00",
          "2016-10-24T00:00:00",
          "2016-10-25T00:00:00",
          "2016-10-26T00:00:00",
          "2016-10-27T00:00:00",
          "2016-10-28T00:00:00",
          "2016-10-29T00:00:00",
          "2016-10-30T00:00:00",
          "2016-10-31T00:00:00",
          "2016-11-01T00:00:00",
          "2016-11-02T00:00:00",
          "2016-11-03T00:00:00",
          "2016-11-04T00:00:00",
          "2016-11-05T00:00:00",
          "2016-11-06T00:00:00",
          "2016-11-07T00:00:00",
          "2016-11-08T00:00:00",
          "2016-11-09T00:00:00",
          "2016-11-10T00:00:00",
          "2016-11-11T00:00:00",
          "2016-11-12T00:00:00",
          "2016-11-13T00:00:00",
          "2016-11-14T00:00:00",
          "2016-11-15T00:00:00",
          "2016-11-16T00:00:00",
          "2016-11-17T00:00:00",
          "2016-11-18T00:00:00",
          "2016-11-19T00:00:00",
          "2016-11-20T00:00:00",
          "2016-11-21T00:00:00",
          "2016-11-22T00:00:00",
          "2016-11-23T00:00:00",
          "2016-11-24T00:00:00",
          "2016-11-25T00:00:00",
          "2016-11-26T00:00:00",
          "2016-11-27T00:00:00",
          "2016-11-28T00:00:00",
          "2016-11-29T00:00:00",
          "2016-11-30T00:00:00",
          "2016-12-01T00:00:00",
          "2016-12-02T00:00:00",
          "2016-12-03T00:00:00",
          "2016-12-04T00:00:00",
          "2016-12-05T00:00:00",
          "2016-12-06T00:00:00",
          "2016-12-07T00:00:00",
          "2016-12-08T00:00:00",
          "2016-12-09T00:00:00",
          "2016-12-10T00:00:00",
          "2016-12-11T00:00:00",
          "2016-12-12T00:00:00",
          "2016-12-13T00:00:00",
          "2016-12-14T00:00:00",
          "2016-12-15T00:00:00",
          "2016-12-16T00:00:00",
          "2016-12-17T00:00:00",
          "2016-12-18T00:00:00",
          "2016-12-19T00:00:00",
          "2016-12-20T00:00:00",
          "2016-12-21T00:00:00",
          "2016-12-22T00:00:00",
          "2016-12-23T00:00:00",
          "2016-12-24T00:00:00",
          "2016-12-25T00:00:00",
          "2016-12-26T00:00:00",
          "2016-12-27T00:00:00",
          "2016-12-28T00:00:00",
          "2016-12-29T00:00:00",
          "2016-12-30T00:00:00",
          "2016-12-31T00:00:00",
          "2017-01-01T00:00:00",
          "2017-01-02T00:00:00",
          "2017-01-03T00:00:00",
          "2017-01-04T00:00:00",
          "2017-01-05T00:00:00",
          "2017-01-06T00:00:00",
          "2017-01-07T00:00:00",
          "2017-01-08T00:00:00",
          "2017-01-09T00:00:00",
          "2017-01-10T00:00:00",
          "2017-01-11T00:00:00",
          "2017-01-12T00:00:00",
          "2017-01-13T00:00:00",
          "2017-01-14T00:00:00",
          "2017-01-15T00:00:00",
          "2017-01-16T00:00:00",
          "2017-01-17T00:00:00",
          "2017-01-18T00:00:00",
          "2017-01-19T00:00:00",
          "2017-01-20T00:00:00",
          "2017-01-21T00:00:00",
          "2017-01-22T00:00:00",
          "2017-01-23T00:00:00",
          "2017-01-24T00:00:00",
          "2017-01-25T00:00:00",
          "2017-01-26T00:00:00",
          "2017-01-27T00:00:00",
          "2017-01-28T00:00:00",
          "2017-01-29T00:00:00",
          "2017-01-30T00:00:00",
          "2017-01-31T00:00:00",
          "2017-02-01T00:00:00",
          "2017-02-02T00:00:00",
          "2017-02-03T00:00:00",
          "2017-02-04T00:00:00",
          "2017-02-05T00:00:00",
          "2017-02-06T00:00:00",
          "2017-02-07T00:00:00",
          "2017-02-08T00:00:00",
          "2017-02-09T00:00:00",
          "2017-02-10T00:00:00",
          "2017-02-11T00:00:00",
          "2017-02-12T00:00:00",
          "2017-02-13T00:00:00",
          "2017-02-14T00:00:00",
          "2017-02-15T00:00:00",
          "2017-02-16T00:00:00",
          "2017-02-17T00:00:00",
          "2017-02-18T00:00:00",
          "2017-02-19T00:00:00",
          "2017-02-20T00:00:00",
          "2017-02-21T00:00:00",
          "2017-02-22T00:00:00",
          "2017-02-23T00:00:00",
          "2017-02-24T00:00:00",
          "2017-02-25T00:00:00",
          "2017-02-26T00:00:00",
          "2017-02-27T00:00:00",
          "2017-02-28T00:00:00",
          "2017-03-01T00:00:00",
          "2017-03-02T00:00:00",
          "2017-03-03T00:00:00",
          "2017-03-04T00:00:00",
          "2017-03-05T00:00:00",
          "2017-03-06T00:00:00",
          "2017-03-07T00:00:00",
          "2017-03-08T00:00:00",
          "2017-03-09T00:00:00",
          "2017-03-10T00:00:00",
          "2017-03-11T00:00:00",
          "2017-03-12T00:00:00",
          "2017-03-13T00:00:00",
          "2017-03-14T00:00:00",
          "2017-03-15T00:00:00",
          "2017-03-16T00:00:00",
          "2017-03-17T00:00:00",
          "2017-03-18T00:00:00",
          "2017-03-19T00:00:00",
          "2017-03-20T00:00:00",
          "2017-03-21T00:00:00",
          "2017-03-22T00:00:00",
          "2017-03-23T00:00:00",
          "2017-03-24T00:00:00",
          "2017-03-25T00:00:00",
          "2017-03-26T00:00:00",
          "2017-03-27T00:00:00",
          "2017-03-28T00:00:00",
          "2017-03-29T00:00:00",
          "2017-03-30T00:00:00",
          "2017-03-31T00:00:00",
          "2017-04-01T00:00:00",
          "2017-04-02T00:00:00",
          "2017-04-03T00:00:00",
          "2017-04-04T00:00:00",
          "2017-04-05T00:00:00",
          "2017-04-06T00:00:00",
          "2017-04-07T00:00:00",
          "2017-04-08T00:00:00",
          "2017-04-09T00:00:00",
          "2017-04-10T00:00:00",
          "2017-04-11T00:00:00",
          "2017-04-12T00:00:00",
          "2017-04-13T00:00:00",
          "2017-04-14T00:00:00",
          "2017-04-15T00:00:00",
          "2017-04-16T00:00:00",
          "2017-04-17T00:00:00",
          "2017-04-18T00:00:00",
          "2017-04-19T00:00:00",
          "2017-04-20T00:00:00",
          "2017-04-21T00:00:00",
          "2017-04-22T00:00:00",
          "2017-04-23T00:00:00",
          "2017-04-24T00:00:00",
          "2017-04-25T00:00:00",
          "2017-04-26T00:00:00",
          "2017-04-27T00:00:00",
          "2017-04-28T00:00:00",
          "2017-04-29T00:00:00",
          "2017-04-30T00:00:00",
          "2017-05-01T00:00:00",
          "2017-05-02T00:00:00",
          "2017-05-03T00:00:00",
          "2017-05-04T00:00:00",
          "2017-05-05T00:00:00",
          "2017-05-06T00:00:00",
          "2017-05-07T00:00:00",
          "2017-05-08T00:00:00",
          "2017-05-09T00:00:00",
          "2017-05-10T00:00:00",
          "2017-05-11T00:00:00",
          "2017-05-12T00:00:00",
          "2017-05-13T00:00:00",
          "2017-05-14T00:00:00",
          "2017-05-15T00:00:00",
          "2017-05-16T00:00:00",
          "2017-05-17T00:00:00",
          "2017-05-18T00:00:00",
          "2017-05-19T00:00:00",
          "2017-05-20T00:00:00",
          "2017-05-21T00:00:00",
          "2017-05-22T00:00:00",
          "2017-05-23T00:00:00",
          "2017-05-24T00:00:00",
          "2017-05-25T00:00:00",
          "2017-05-26T00:00:00",
          "2017-05-27T00:00:00",
          "2017-05-28T00:00:00",
          "2017-05-29T00:00:00",
          "2017-05-30T00:00:00",
          "2017-05-31T00:00:00",
          "2017-06-01T00:00:00",
          "2017-06-02T00:00:00",
          "2017-06-03T00:00:00",
          "2017-06-04T00:00:00",
          "2017-06-05T00:00:00",
          "2017-06-06T00:00:00",
          "2017-06-07T00:00:00",
          "2017-06-08T00:00:00",
          "2017-06-09T00:00:00",
          "2017-06-10T00:00:00",
          "2017-06-11T00:00:00",
          "2017-06-12T00:00:00",
          "2017-06-13T00:00:00",
          "2017-06-14T00:00:00",
          "2017-06-15T00:00:00",
          "2017-06-16T00:00:00",
          "2017-06-17T00:00:00",
          "2017-06-18T00:00:00",
          "2017-06-19T00:00:00",
          "2017-06-20T00:00:00",
          "2017-06-21T00:00:00",
          "2017-06-22T00:00:00",
          "2017-06-23T00:00:00",
          "2017-06-24T00:00:00",
          "2017-06-25T00:00:00",
          "2017-06-26T00:00:00",
          "2017-06-27T00:00:00",
          "2017-06-28T00:00:00",
          "2017-06-29T00:00:00",
          "2017-06-30T00:00:00"
         ],
         "xaxis": "x",
         "y": [
          null,
          null,
          null,
          null,
          null,
          null,
          null,
          null,
          null,
          null,
          null,
          null,
          null,
          null,
          null,
          null,
          null,
          null,
          null,
          null,
          null,
          null,
          null,
          null,
          null,
          null,
          null,
          null,
          null,
          905820361117.8667,
          917498135052.3334,
          954235579845.4333,
          961385656094.3,
          976853553937.7,
          996537469851.4333,
          1019829780020.4333,
          1033537684957.0667,
          1050443475288.1333,
          1000599469433.1,
          910733592586.4667,
          905323001751.6333,
          903643127974.6666,
          839638200216.8,
          759209418096.7,
          724007492721.5,
          699855299141.9667,
          700083791098.3,
          695865934072.7333,
          715080468798.8,
          702293359180.0333,
          681651357998.4,
          642511706177.7667,
          622173689338.1333,
          647547896325.0333,
          647197290982.6333,
          616338617292.2667,
          608661267719.2333,
          600447351989.6666,
          581010857589.3,
          559242933198.3334,
          560856283876.9333,
          531437050634.8,
          525699241040.6,
          511411699913.06665,
          503305187092.8,
          486096896467,
          475666440808.93335,
          473902654392.6,
          493672154796.3333,
          486721356239.86664,
          490656342931.4667,
          480814245294.36664,
          481340230080.73334,
          473877357639.23334,
          472968760823.3333,
          453164830673.86664,
          453732638132.3333,
          451738211832.43335,
          427456330444.26666,
          428139084699.9,
          427275390202.8333,
          431956993420.6,
          444756339386.0333,
          413049614727.56665,
          419937383460.8,
          424553088127.5333,
          419248596934.63336,
          407667238120.4,
          417061866964.5,
          430394109106.73334,
          428568199373.1,
          437897578832.6667,
          434501266266.5333,
          426668693581.8,
          419750947519.4,
          426669107444.4667,
          432242835112.43335,
          435742254711.9,
          422491574349.36664,
          423706053009.43335,
          414880236533.5333,
          406272685369.06665,
          424730941517.43335,
          468583173293.8333,
          481277477986.0333,
          487669977410.2,
          483351982398.26666,
          495088932863.1,
          486801636131.13336,
          491601847535.6,
          502045623222.7,
          499463907098,
          495155099741.56665,
          485941591837.2,
          475844849327.13336,
          475102855368.23334,
          483455616986.7,
          494402838403.3,
          494323637940.9667,
          488545931845.36664,
          483076500766.86664,
          470197254547.4,
          467010765494.6,
          479036553671.73334,
          486566843986.9,
          495355666261.23334,
          506972582600.43335,
          501616675124.13336,
          493865454003.4667,
          479748196472.2,
          486099452005.06665,
          499420632043.13336,
          490261895101.23334,
          467172909126.4,
          454995135244.56665,
          446596993163.1667,
          435466594504.3333,
          426230178992.76666,
          431908528216.93335,
          433551269375.8,
          438298489958.4667,
          447866969244.86664,
          447529427016.1667,
          444036060934.4667,
          461413284712.3333,
          470766385044.6,
          473807247593.43335,
          476072428774.1,
          475785504209.63336,
          471554603338.36664,
          470804278960.36664,
          474066571192.3,
          500019266375.23334,
          500177926994.8333,
          499778280513.73334,
          495326265497.63336,
          485713015054.3333,
          478695848148.4667,
          488116577326.8,
          504696131076.0333,
          500329712483.5333,
          499656049674.3,
          494948347761.6,
          481425857055.7,
          476255679908.76666,
          487577071437.4667,
          508197064542.8333,
          510052432150.8333,
          518776311265.76666,
          514310636302.13336,
          496656275009.63336,
          483211542813.3,
          479701851871.23334,
          488509940047.86664,
          474995670016.36664,
          467698853992.06665,
          463795834166.8333,
          452329955009.3,
          444239469742.3333,
          450843752010.23334,
          483222596483.26666,
          497889844976.7,
          497109317136.93335,
          503789068611.1667,
          514208097844.13336,
          524907253180.3333,
          543256605681.0333,
          587930550920.9,
          588607525516.2,
          590364680704.9333,
          618785478789.6,
          607371305181.4,
          602939344404.3334,
          605512028131.9667,
          617406373262.2667,
          610931623609.4,
          604194476461.1666,
          603074083524.7,
          590295837733.9,
          587161919462.8334,
          594023832380.1333,
          614092326053.2,
          630785123123.7667,
          630635759761.3,
          631407195387.3667,
          625185452649.4667,
          614842260522.6666,
          616465729725.2667,
          622282810356.7667,
          619863025488.7667,
          600711862095.6666,
          590269878416.1666,
          564151451190.1333,
          542223308220.26666,
          533085851279.4667,
          517085994566.7,
          504953310605.43335,
          466923981322.6667,
          475640478794.1667,
          461672476057.06665,
          426329542061.4667,
          433244759377.43335,
          447815500727.6667,
          455344744193.9667,
          453767363060.7,
          455630996037.63336,
          443775059830.9667,
          435456902224.8333,
          460527734434.23334,
          474896318935.2,
          494355647085.13336,
          502809934671.73334,
          490579413410.86664,
          485112949750.06665,
          481071671220.6,
          499451525597.86664,
          533454815429.1667,
          541132756983.06665,
          553772327852.8,
          573121758415.1666,
          560079055936.6333,
          548764141093.43335,
          556015229218.4333,
          571359250522.8334,
          589983708154.3667,
          593948467617.3667,
          593758802486.8334,
          590839193195.3667,
          571930816324.9333,
          580976035414.9667,
          601693748678.1,
          637586738698.2333,
          638123483983.4333,
          652813399516.3334,
          644753936815.8334,
          663924350866.7333,
          686793639815.4,
          702419279498.0667,
          695120301849.3334,
          695204815610.6666,
          675240356195.1,
          649130979582.1666,
          658320292907.1666,
          666399979883.2667,
          688921946433,
          681266770003.1666,
          655211584698.1333,
          659275730877.8,
          635945874450.8667,
          605923308934.8,
          621341352069.9333,
          633358545068.3334,
          641591587134.9667,
          642178164410.4333,
          624506703694.1666,
          617950716152.8667,
          611585515645.9333,
          621452496654.2667,
          629893434367.4,
          641187076308.8,
          644022436061.9,
          606396146015.9667,
          589185351300.2,
          572414414828.1333,
          575287498851.5667,
          556003206198.2667,
          544752902934.36664,
          533272846825.23334,
          533603465498.4,
          526358641481.6,
          518096277501.5,
          542028404324.76666,
          536680088133.2,
          533736146462.5,
          516411190155.9667,
          514841040712.86664,
          507513618103,
          495258466818.73334,
          506540316874.0333,
          518670110341.1667,
          512669451928.56665,
          527832090665.5333,
          532627735433.6,
          530614497076.23334,
          520911266876.76666,
          550619727433.8334,
          581531740136.8,
          609415164128.4,
          622144574402.3,
          616014340914.4333,
          597385421266.8,
          602073222987.2,
          629056356023,
          644447328252.5,
          661422121874.2,
          676790746414.0333,
          667510565829.2333,
          659290726906.1666,
          637654453449,
          639958331475.6333,
          647534423313.4,
          627175469742.1333,
          621266029981.5667,
          622256571139.9667,
          614466180703.3,
          602796403761.6666,
          610007741075.7667,
          616160677386.9667,
          615515211154.5667,
          613995479341,
          608264401560.0667,
          585906968819.8,
          565901924948.6,
          570532512819.6,
          581334068233.3,
          560201671078.0333,
          532827674510.3,
          497990013322.1,
          478473576907.76666,
          473351137951.5333,
          477480942204.73334,
          478224708400.43335,
          469673653013.76666,
          446732038796.3333,
          430236478868.5333,
          415606195555.7,
          412541852823.4,
          418874164973.9667,
          441808367678.3333,
          447511574939.9,
          448176869793.5333,
          455671100300.5333,
          454330712828.8333,
          449742124293.56665,
          455109308930.06665,
          477087123497.8333,
          481098638266.8333,
          479949050998.36664,
          470383719327.36664,
          472715264862.3333,
          469519799934.1,
          470276963788.76666,
          482666653615.1667,
          474912571199.8333,
          467131644849.3333,
          456303836957.43335,
          448447249684.63336,
          441779804247,
          439624638260.93335,
          437860872148.76666,
          429988081557.43335,
          424937262189.73334,
          410424858772.26666,
          411628745743.1,
          404864217181.06665,
          406585098064.3,
          408971011893.93335,
          407685965170.5333,
          391511757807.23334,
          400641410535.76666,
          419632659099.9,
          409327827867.3,
          413860871874.76666,
          417947017248.13336,
          429896337220.5333,
          416432190599.5,
          412100948409.26666,
          404767880372.43335,
          411538085078.76666,
          417775030304.2,
          421746627590.4,
          416392048295.06665,
          421939509894.6,
          422809583633.5,
          418914415310.0333,
          422751739664.6,
          434472787415.13336,
          445419427022.2,
          451454302043.3333,
          468594089979.6667,
          476492197054,
          472615236376.0333,
          467587452066.7,
          471000572682.3333,
          489790987026.86664,
          493342009280.06665,
          508788828947.9667,
          525393936674.23334,
          528173070522.4,
          509181457183.86664,
          489443790782.86664,
          503985708832.73334,
          505987306905.26666,
          511511289260.1,
          497268109904.7,
          491304184778.06665,
          487703193958.8,
          491180124711.23334,
          494062409789.8333,
          486282996878.9667,
          491291768605.36664,
          493425833742.26666,
          478541373114.9,
          467367634044.3,
          473022276240.13336,
          480424363262.8333,
          478922608968.26666,
          479552676777.63336,
          478115821541.3333,
          469750542855.8333,
          468473272945.06665,
          472826120520.63336,
          483679552262.23334,
          483676370655.9,
          473356485541.7,
          465855303537.43335,
          447474938273.13336,
          424709660948.7,
          422691334072.76666,
          418534836034.3333,
          423955322231.6667,
          411391342619.4,
          405738193531.56665,
          388336444336,
          382006713670.8,
          385831459569.63336,
          398109821235.9,
          397421744818.6667,
          390051723240.7,
          382263341454.8,
          371160014874.1667,
          366746757130.9667,
          364579085102.26666,
          372462920953.63336,
          374533259700.5,
          365105072992.1667,
          358292940891.43335,
          345372268030.5333,
          335991508820.43335,
          320342470359.6,
          313725120470.4667,
          309222144636.8,
          305855795546.23334,
          300364760456.4667,
          293551176090.73334,
          286459489033.13336,
          289628248433.5,
          297321048463.1,
          298038450445.8,
          305140984338.93335,
          296922087838.1667,
          292181703290.76666,
          287437105962.6,
          290509976721.5333,
          298404649202.1,
          297922623922.6,
          285128187806.7,
          290257365711.3333,
          288557213110.43335,
          283901491867.13336,
          295215850860.6667,
          308287570166.36664,
          311189026604.8,
          313702251344.1667,
          311027464810.36664,
          309461307341.5333,
          302331579421.93335,
          309149389658.8333,
          317582027404.63336,
          319267399545.86664,
          322752885771.1667,
          320462300416.4,
          311375268627.7,
          305135082713.4667,
          307895422898.93335,
          311036453715.8333,
          311778583623.93335,
          307417798741.26666,
          306846107936.63336,
          298794405578.1,
          293176723546.2,
          298613586621.1,
          302229824690.13336,
          305196460635.36664,
          305473114429.9,
          301987108807.1667,
          297073916767.5,
          291522607576.8,
          296032806833.13336,
          302246680378.2,
          314242842893,
          306988693005.13336,
          316938525823.7,
          309744826953.43335,
          304958140001.5333,
          313378639751.26666,
          340694048224.6,
          341406670864.1,
          335947863563.8,
          334472410181.1667,
          329794029384.76666,
          330520898823.93335,
          338161846021.13336,
          344491279284.2,
          340853963652.93335,
          339357320169.9,
          335235021773.86664,
          331482677127.6,
          338922965644,
          355780198854.2,
          381143189830.2,
          384199790887.56665,
          391880720126.2,
          396834350875.0333,
          393055658491.8,
          394408134382.36664,
          409483431766.5,
          424277220010.3,
          438392211583.56665,
          454150895053.8333,
          441818436855.1,
          436144522223.7,
          418917316699.8333,
          426290874574.1667,
          425738857246.23334,
          441840092064.6,
          432970730141.4667,
          426346803063.9,
          424910599460.73334,
          420117688528.2,
          417779102038.7,
          417176101104.1,
          413583539497.5333,
          420028926972.9,
          424668716548.1667,
          423862853001,
          419379469020.43335,
          422558176975.5333,
          409024957623.8,
          402415264617.86664,
          380361132984.13336,
          372992915694.5333,
          358156172502,
          342868414556.5333,
          339550672824.93335,
          337085499835.73334,
          328096170723.9,
          308017598410.7,
          291331172763.23334,
          268845994311.93332,
          260180273356.83334,
          270730492951,
          272147641762.1,
          264866452812.56668,
          264858201707.1,
          238991541270.76666,
          219718862705.43332,
          218107661946.33334,
          224082982567.9,
          235641772006.5,
          264349080766.9,
          270027063727.46667,
          271860670218.13333,
          259049680466.56668,
          252678057492,
          252483149445.23334,
          265694111407.53333,
          268141383614.66666,
          274973282594,
          265726009029.33334,
          264142724952.8,
          262238409194.4,
          273872468587.23334,
          282925623932.3,
          289022927494.36664,
          287716498900.2,
          288156349788.5333,
          285188114124,
          279196382563,
          283613673194.43335,
          292312589436.13336,
          282588907442.26666,
          286146602810.6667,
          286043765763.4667,
          282111568209.3,
          279164543260.5,
          287815528533.23334,
          297568135410.6,
          297113317265.3333,
          293123531048.86664,
          285605231391.26666,
          277854975093.93335,
          272768490373.46667,
          277939866876.6,
          294154474399.56665,
          297993355609.1667,
          291762128023.7,
          288523494649.06665,
          280212065577.76666,
          276680477826.63336,
          277119326961.76666,
          280055326286.5,
          278152533833.7,
          275078117960.1,
          272619944270.2,
          272783246728.03333,
          266618919536.86667,
          271536200771.36667,
          275469821885.3333,
          280402238544.8333,
          270747318234.1,
          277838551900.3,
          273039049749.96667,
          268225029379.8,
          276630567001.36664,
          281862757700.8333,
          279550011999.6,
          276562726512.0333,
          274770999864.86667,
          268967567234.33334,
          249056152998.73334,
          251057722162.53333,
          256911837769.53333,
          265368385003.06668,
          248869496509.56668,
          247565182916.93332,
          240956019613.76666,
          237196775337.73334,
          237739315346.33334,
          264277962816.86667,
          268380900029.23334,
          267621843346.96667,
          264005268283.86667,
          260816998128.2,
          254439225928.16666,
          255965283196.23334,
          264176090868.33334,
          271071227611.6,
          272811184228.16666,
          279269304201.43335,
          283575255860.86664,
          274756191730.03333,
          277640536053.6667,
          308517938598.8,
          304327449480.7,
          308287927657.23334,
          311528123078.5333,
          308082414972.8333,
          303789510688.1,
          307536804165.93335,
          313950147741.7,
          323359861985,
          328483895652.6,
          326795338298.23334,
          326306701939.13336,
          321223150329.8,
          332130070651.2,
          340471378511.6,
          344088096747.7,
          328950399684,
          328827757150.5333,
          326822840884.5,
          323243852671.26666,
          329997209041.06665,
          336466445778.6667,
          352323344814.5333,
          347208191748.5333,
          342150547858.6667,
          337634042523.26666,
          322889013464.26666,
          322517709806.73334,
          333062599800.86664,
          341594384668.73334,
          322177401225.1667,
          325819248964.2,
          319286128694.8,
          311716054356.93335,
          324547146960.5333,
          337995507313.9667,
          340535319871.8333,
          349324211159.76666,
          359632940569.93335,
          348877431477.1667,
          338482817191.1667,
          348885160707.13336,
          361615492910,
          356855818782.76666,
          357054190532.1667,
          361977053309.86664,
          350989003224.9,
          342548238969.73334,
          345155747212.1,
          352358760810.26666,
          347975651559.9,
          344605746038.8,
          330680791449.73334,
          327206471748.86664,
          321024547891.36664,
          325648078046.8,
          331474798642.1,
          328056492243.9,
          338476879989.3,
          341748732492.4667,
          333335681845.6,
          326132271170.3333,
          324447263532.9,
          332107374008.56665,
          326898872061.3333,
          318983590429.93335,
          321881329757.06665,
          304238599577.73334,
          280885548886.0333,
          286123299636.2,
          297727015715.26666,
          311028096886.73334,
          325300245538.9,
          340668856304.1667,
          341156656140.13336,
          339666412795.9,
          361383710211.56665,
          368588617805.93335,
          397629959047.1667,
          418685083483.3333,
          418613268598.43335,
          422089304243.9,
          417323338287.9667,
          423696076106.2,
          433282709192.3,
          439960967204.7,
          443005045315.8333,
          445848005986.2,
          431557445522.6,
          424074052917.4,
          430220456220.9667,
          438058793277.5333,
          451398109447.93335,
          449456433066.5333,
          444194013005.8333,
          436842169707.93335,
          425910452502.5333,
          432886046132.63336,
          437821609097.1667,
          439953073869.7,
          432004387453.06665,
          431673153708.3,
          403771372728.8,
          381615668998.36664,
          378563598078.23334,
          376695038170.86664,
          361555585542.36664,
          379289804620.23334,
          355037559023.56665,
          326627990300.8333,
          321450442888.56665,
          319310271906,
          327441045833.63336,
          326909879678.7,
          341039264880.23334,
          333049081977.26666,
          324183578034.36664,
          318339276233.63336,
          314886701293.9,
          311367113663.86664,
          308453727058.5333,
          309366746526.1,
          310530135640.26666,
          307546339799.1667,
          301730511779.93335,
          306786294019.13336,
          318806468770.8,
          318742888896.6667,
          321608933649.7,
          318107883538.9,
          316011261474.8333,
          293930329868.43335,
          302906316604.6667,
          317703372849.06665,
          319515341971.7,
          317843909051.7,
          325397206252.8333,
          314606803677.0333,
          310961895284.76666,
          320509442310.76666,
          328118010338,
          333713350550.5333,
          338333635166.7,
          350412228246.2,
          338613484449.56665,
          343435014742.8,
          355854064830.0333,
          372831649376.0333,
          388961295485.73334,
          398354799257.86664,
          411120862185.5333,
          417362645201.4,
          408948892998.3333,
          418435244343.73334,
          436433775618.26666,
          449424157778.4,
          451610731071.36664,
          451699861158.06665,
          453357451727.9,
          451731812249.43335,
          466465789119.4,
          473831818189.43335,
          474412540484.13336,
          467257264369.93335,
          465928571290.93335,
          464919594137,
          451635778111.5333,
          444236104357.8333,
          447152403231.26666,
          444084536234.93335,
          446846324652.43335,
          463914187916.63336,
          456477599910,
          437822703501.4,
          430340046735.6,
          435972718650.06665,
          443813719132.4,
          435228614138.8,
          423243627772.06665,
          411171734684.1667,
          394961598220.1,
          385771806275.1667,
          384171886442.23334,
          379923097643.36664,
          367648224679.56665,
          358425340120.26666,
          352185063672.63336,
          354628035063.93335,
          354396571386.76666,
          359267194372.6,
          350171934264.93335,
          360355191244.0333,
          369980578016.3333,
          382194556780.1,
          386584764498.3333,
          410704359154.06665,
          428659936494.8333,
          447359878338.1667,
          451775477952.9667,
          462469110220.43335,
          459112756308.63336,
          433226362545.26666,
          447110498076.36664,
          477398327464.0333,
          509513164030.36664,
          523472021438.93335,
          528689371635.6,
          535582408622.5333,
          541892818056.6667,
          570137830284.1666,
          595453285195.5,
          617552954978.2,
          643407666469.1333,
          659975055110.4667,
          671403157185.4333,
          673692442288.6,
          674740885516.6666,
          685496105658.4667,
          693630546741.5,
          709960342047.9333,
          716513790164.1666,
          708960744337.5,
          701538801483.8667,
          693326557188.3667,
          706048395232.8,
          689001976877.6,
          687952426988.7333,
          678859178055.4,
          678266841202.3667,
          668879679058.4,
          691259553346.1666,
          719739173425.1333,
          731637192123.5,
          734710593229.2333,
          716691033952.9,
          698049827768.1333,
          678950437073.5333,
          682764333324.3334,
          693381913266.9,
          681281557198.7333,
          670070420365.3667,
          656129755940.1333,
          640364233397.2667,
          629056090858.3667,
          643162533037.0667,
          656440547459.2,
          660266576606.1333,
          652493171863.6,
          655661880353.6666
         ],
         "yaxis": "y"
        },
        {
         "hovertemplate": "identity=Huobi.com<br>date=%{x}<br>spent=%{y}<extra></extra>",
         "legendgroup": "Huobi.com",
         "line": {
          "color": "#EF553B",
          "dash": "solid"
         },
         "marker": {
          "symbol": "circle"
         },
         "mode": "lines",
         "name": "Huobi.com",
         "showlegend": true,
         "type": "scattergl",
         "x": [
          "2015-01-01T00:00:00",
          "2015-01-02T00:00:00",
          "2015-01-03T00:00:00",
          "2015-01-04T00:00:00",
          "2015-01-05T00:00:00",
          "2015-01-06T00:00:00",
          "2015-01-07T00:00:00",
          "2015-01-08T00:00:00",
          "2015-01-09T00:00:00",
          "2015-01-10T00:00:00",
          "2015-01-11T00:00:00",
          "2015-01-12T00:00:00",
          "2015-01-13T00:00:00",
          "2015-01-14T00:00:00",
          "2015-01-15T00:00:00",
          "2015-01-16T00:00:00",
          "2015-01-17T00:00:00",
          "2015-01-18T00:00:00",
          "2015-01-19T00:00:00",
          "2015-01-20T00:00:00",
          "2015-01-21T00:00:00",
          "2015-01-22T00:00:00",
          "2015-01-23T00:00:00",
          "2015-01-24T00:00:00",
          "2015-01-25T00:00:00",
          "2015-01-26T00:00:00",
          "2015-01-27T00:00:00",
          "2015-01-28T00:00:00",
          "2015-01-29T00:00:00",
          "2015-01-30T00:00:00",
          "2015-01-31T00:00:00",
          "2015-02-01T00:00:00",
          "2015-02-02T00:00:00",
          "2015-02-03T00:00:00",
          "2015-02-04T00:00:00",
          "2015-02-05T00:00:00",
          "2015-02-06T00:00:00",
          "2015-02-07T00:00:00",
          "2015-02-08T00:00:00",
          "2015-02-09T00:00:00",
          "2015-02-10T00:00:00",
          "2015-02-11T00:00:00",
          "2015-02-12T00:00:00",
          "2015-02-13T00:00:00",
          "2015-02-14T00:00:00",
          "2015-02-15T00:00:00",
          "2015-02-16T00:00:00",
          "2015-02-17T00:00:00",
          "2015-02-18T00:00:00",
          "2015-02-19T00:00:00",
          "2015-02-20T00:00:00",
          "2015-02-21T00:00:00",
          "2015-02-22T00:00:00",
          "2015-02-23T00:00:00",
          "2015-02-24T00:00:00",
          "2015-02-25T00:00:00",
          "2015-02-26T00:00:00",
          "2015-02-27T00:00:00",
          "2015-02-28T00:00:00",
          "2015-03-01T00:00:00",
          "2015-03-02T00:00:00",
          "2015-03-03T00:00:00",
          "2015-03-04T00:00:00",
          "2015-03-05T00:00:00",
          "2015-03-06T00:00:00",
          "2015-03-07T00:00:00",
          "2015-03-08T00:00:00",
          "2015-03-09T00:00:00",
          "2015-03-10T00:00:00",
          "2015-03-11T00:00:00",
          "2015-03-12T00:00:00",
          "2015-03-13T00:00:00",
          "2015-03-14T00:00:00",
          "2015-03-15T00:00:00",
          "2015-03-16T00:00:00",
          "2015-03-17T00:00:00",
          "2015-03-18T00:00:00",
          "2015-03-19T00:00:00",
          "2015-03-20T00:00:00",
          "2015-03-21T00:00:00",
          "2015-03-22T00:00:00",
          "2015-03-23T00:00:00",
          "2015-03-24T00:00:00",
          "2015-03-25T00:00:00",
          "2015-03-26T00:00:00",
          "2015-03-27T00:00:00",
          "2015-03-28T00:00:00",
          "2015-03-29T00:00:00",
          "2015-03-30T00:00:00",
          "2015-03-31T00:00:00",
          "2015-04-01T00:00:00",
          "2015-04-02T00:00:00",
          "2015-04-03T00:00:00",
          "2015-04-04T00:00:00",
          "2015-04-05T00:00:00",
          "2015-04-06T00:00:00",
          "2015-04-07T00:00:00",
          "2015-04-08T00:00:00",
          "2015-04-09T00:00:00",
          "2015-04-10T00:00:00",
          "2015-04-11T00:00:00",
          "2015-04-12T00:00:00",
          "2015-04-13T00:00:00",
          "2015-04-14T00:00:00",
          "2015-04-15T00:00:00",
          "2015-04-16T00:00:00",
          "2015-04-17T00:00:00",
          "2015-04-18T00:00:00",
          "2015-04-19T00:00:00",
          "2015-04-20T00:00:00",
          "2015-04-21T00:00:00",
          "2015-04-22T00:00:00",
          "2015-04-23T00:00:00",
          "2015-04-24T00:00:00",
          "2015-04-25T00:00:00",
          "2015-04-26T00:00:00",
          "2015-04-27T00:00:00",
          "2015-04-28T00:00:00",
          "2015-04-29T00:00:00",
          "2015-04-30T00:00:00",
          "2015-05-01T00:00:00",
          "2015-05-02T00:00:00",
          "2015-05-03T00:00:00",
          "2015-05-04T00:00:00",
          "2015-05-05T00:00:00",
          "2015-05-06T00:00:00",
          "2015-05-07T00:00:00",
          "2015-05-08T00:00:00",
          "2015-05-09T00:00:00",
          "2015-05-10T00:00:00",
          "2015-05-11T00:00:00",
          "2015-05-12T00:00:00",
          "2015-05-13T00:00:00",
          "2015-05-14T00:00:00",
          "2015-05-15T00:00:00",
          "2015-05-16T00:00:00",
          "2015-05-17T00:00:00",
          "2015-05-18T00:00:00",
          "2015-05-19T00:00:00",
          "2015-05-20T00:00:00",
          "2015-05-21T00:00:00",
          "2015-05-22T00:00:00",
          "2015-05-23T00:00:00",
          "2015-05-24T00:00:00",
          "2015-05-25T00:00:00",
          "2015-05-26T00:00:00",
          "2015-05-27T00:00:00",
          "2015-05-28T00:00:00",
          "2015-05-29T00:00:00",
          "2015-05-30T00:00:00",
          "2015-05-31T00:00:00",
          "2015-06-01T00:00:00",
          "2015-06-02T00:00:00",
          "2015-06-03T00:00:00",
          "2015-06-04T00:00:00",
          "2015-06-05T00:00:00",
          "2015-06-06T00:00:00",
          "2015-06-07T00:00:00",
          "2015-06-08T00:00:00",
          "2015-06-09T00:00:00",
          "2015-06-10T00:00:00",
          "2015-06-11T00:00:00",
          "2015-06-12T00:00:00",
          "2015-06-13T00:00:00",
          "2015-06-14T00:00:00",
          "2015-06-15T00:00:00",
          "2015-06-16T00:00:00",
          "2015-06-17T00:00:00",
          "2015-06-18T00:00:00",
          "2015-06-19T00:00:00",
          "2015-06-20T00:00:00",
          "2015-06-21T00:00:00",
          "2015-06-22T00:00:00",
          "2015-06-23T00:00:00",
          "2015-06-24T00:00:00",
          "2015-06-25T00:00:00",
          "2015-06-26T00:00:00",
          "2015-06-27T00:00:00",
          "2015-06-28T00:00:00",
          "2015-06-29T00:00:00",
          "2015-06-30T00:00:00",
          "2015-07-01T00:00:00",
          "2015-07-02T00:00:00",
          "2015-07-03T00:00:00",
          "2015-07-04T00:00:00",
          "2015-07-05T00:00:00",
          "2015-07-06T00:00:00",
          "2015-07-07T00:00:00",
          "2015-07-08T00:00:00",
          "2015-07-09T00:00:00",
          "2015-07-10T00:00:00",
          "2015-07-11T00:00:00",
          "2015-07-12T00:00:00",
          "2015-07-13T00:00:00",
          "2015-07-14T00:00:00",
          "2015-07-15T00:00:00",
          "2015-07-16T00:00:00",
          "2015-07-17T00:00:00",
          "2015-07-18T00:00:00",
          "2015-07-19T00:00:00",
          "2015-07-20T00:00:00",
          "2015-07-21T00:00:00",
          "2015-07-22T00:00:00",
          "2015-07-23T00:00:00",
          "2015-07-24T00:00:00",
          "2015-07-25T00:00:00",
          "2015-07-26T00:00:00",
          "2015-07-27T00:00:00",
          "2015-07-28T00:00:00",
          "2015-07-29T00:00:00",
          "2015-07-30T00:00:00",
          "2015-07-31T00:00:00",
          "2015-08-01T00:00:00",
          "2015-08-02T00:00:00",
          "2015-08-03T00:00:00",
          "2015-08-04T00:00:00",
          "2015-08-05T00:00:00",
          "2015-08-06T00:00:00",
          "2015-08-07T00:00:00",
          "2015-08-08T00:00:00",
          "2015-08-09T00:00:00",
          "2015-08-10T00:00:00",
          "2015-08-11T00:00:00",
          "2015-08-12T00:00:00",
          "2015-08-13T00:00:00",
          "2015-08-14T00:00:00",
          "2015-08-15T00:00:00",
          "2015-08-16T00:00:00",
          "2015-08-17T00:00:00",
          "2015-08-18T00:00:00",
          "2015-08-19T00:00:00",
          "2015-08-20T00:00:00",
          "2015-08-21T00:00:00",
          "2015-08-22T00:00:00",
          "2015-08-23T00:00:00",
          "2015-08-24T00:00:00",
          "2015-08-25T00:00:00",
          "2015-08-26T00:00:00",
          "2015-08-27T00:00:00",
          "2015-08-28T00:00:00",
          "2015-08-29T00:00:00",
          "2015-08-30T00:00:00",
          "2015-08-31T00:00:00",
          "2015-09-01T00:00:00",
          "2015-09-02T00:00:00",
          "2015-09-03T00:00:00",
          "2015-09-04T00:00:00",
          "2015-09-05T00:00:00",
          "2015-09-06T00:00:00",
          "2015-09-07T00:00:00",
          "2015-09-08T00:00:00",
          "2015-09-09T00:00:00",
          "2015-09-10T00:00:00",
          "2015-09-11T00:00:00",
          "2015-09-12T00:00:00",
          "2015-09-13T00:00:00",
          "2015-09-14T00:00:00",
          "2015-09-15T00:00:00",
          "2015-09-16T00:00:00",
          "2015-09-17T00:00:00",
          "2015-09-18T00:00:00",
          "2015-09-19T00:00:00",
          "2015-09-20T00:00:00",
          "2015-09-21T00:00:00",
          "2015-09-22T00:00:00",
          "2015-09-23T00:00:00",
          "2015-09-24T00:00:00",
          "2015-09-25T00:00:00",
          "2015-09-26T00:00:00",
          "2015-09-27T00:00:00",
          "2015-09-28T00:00:00",
          "2015-09-29T00:00:00",
          "2015-09-30T00:00:00",
          "2015-10-01T00:00:00",
          "2015-10-02T00:00:00",
          "2015-10-03T00:00:00",
          "2015-10-04T00:00:00",
          "2015-10-05T00:00:00",
          "2015-10-06T00:00:00",
          "2015-10-07T00:00:00",
          "2015-10-08T00:00:00",
          "2015-10-09T00:00:00",
          "2015-10-10T00:00:00",
          "2015-10-11T00:00:00",
          "2015-10-12T00:00:00",
          "2015-10-13T00:00:00",
          "2015-10-14T00:00:00",
          "2015-10-15T00:00:00",
          "2015-10-16T00:00:00",
          "2015-10-17T00:00:00",
          "2015-10-18T00:00:00",
          "2015-10-19T00:00:00",
          "2015-10-20T00:00:00",
          "2015-10-21T00:00:00",
          "2015-10-22T00:00:00",
          "2015-10-23T00:00:00",
          "2015-10-24T00:00:00",
          "2015-10-25T00:00:00",
          "2015-10-26T00:00:00",
          "2015-10-27T00:00:00",
          "2015-10-28T00:00:00",
          "2015-10-29T00:00:00",
          "2015-10-30T00:00:00",
          "2015-10-31T00:00:00",
          "2015-11-01T00:00:00",
          "2015-11-02T00:00:00",
          "2015-11-03T00:00:00",
          "2015-11-04T00:00:00",
          "2015-11-05T00:00:00",
          "2015-11-06T00:00:00",
          "2015-11-07T00:00:00",
          "2015-11-08T00:00:00",
          "2015-11-09T00:00:00",
          "2015-11-10T00:00:00",
          "2015-11-11T00:00:00",
          "2015-11-12T00:00:00",
          "2015-11-13T00:00:00",
          "2015-11-14T00:00:00",
          "2015-11-15T00:00:00",
          "2015-11-16T00:00:00",
          "2015-11-17T00:00:00",
          "2015-11-18T00:00:00",
          "2015-11-19T00:00:00",
          "2015-11-20T00:00:00",
          "2015-11-21T00:00:00",
          "2015-11-22T00:00:00",
          "2015-11-23T00:00:00",
          "2015-11-24T00:00:00",
          "2015-11-25T00:00:00",
          "2015-11-26T00:00:00",
          "2015-11-27T00:00:00",
          "2015-11-28T00:00:00",
          "2015-11-29T00:00:00",
          "2015-11-30T00:00:00",
          "2015-12-01T00:00:00",
          "2015-12-02T00:00:00",
          "2015-12-03T00:00:00",
          "2015-12-04T00:00:00",
          "2015-12-05T00:00:00",
          "2015-12-06T00:00:00",
          "2015-12-07T00:00:00",
          "2015-12-08T00:00:00",
          "2015-12-09T00:00:00",
          "2015-12-10T00:00:00",
          "2015-12-11T00:00:00",
          "2015-12-12T00:00:00",
          "2015-12-13T00:00:00",
          "2015-12-14T00:00:00",
          "2015-12-15T00:00:00",
          "2015-12-16T00:00:00",
          "2015-12-17T00:00:00",
          "2015-12-18T00:00:00",
          "2015-12-19T00:00:00",
          "2015-12-20T00:00:00",
          "2015-12-21T00:00:00",
          "2015-12-22T00:00:00",
          "2015-12-23T00:00:00",
          "2015-12-24T00:00:00",
          "2015-12-25T00:00:00",
          "2015-12-26T00:00:00",
          "2015-12-27T00:00:00",
          "2015-12-28T00:00:00",
          "2015-12-29T00:00:00",
          "2015-12-30T00:00:00",
          "2015-12-31T00:00:00",
          "2016-01-01T00:00:00",
          "2016-01-02T00:00:00",
          "2016-01-03T00:00:00",
          "2016-01-04T00:00:00",
          "2016-01-05T00:00:00",
          "2016-01-06T00:00:00",
          "2016-01-07T00:00:00",
          "2016-01-08T00:00:00",
          "2016-01-09T00:00:00",
          "2016-01-10T00:00:00",
          "2016-01-11T00:00:00",
          "2016-01-12T00:00:00",
          "2016-01-13T00:00:00",
          "2016-01-14T00:00:00",
          "2016-01-15T00:00:00",
          "2016-01-16T00:00:00",
          "2016-01-17T00:00:00",
          "2016-01-18T00:00:00",
          "2016-01-19T00:00:00",
          "2016-01-20T00:00:00",
          "2016-01-21T00:00:00",
          "2016-01-22T00:00:00",
          "2016-01-23T00:00:00",
          "2016-01-24T00:00:00",
          "2016-01-25T00:00:00",
          "2016-01-26T00:00:00",
          "2016-01-27T00:00:00",
          "2016-01-28T00:00:00",
          "2016-01-29T00:00:00",
          "2016-01-30T00:00:00",
          "2016-01-31T00:00:00",
          "2016-02-01T00:00:00",
          "2016-02-02T00:00:00",
          "2016-02-03T00:00:00",
          "2016-02-04T00:00:00",
          "2016-02-05T00:00:00",
          "2016-02-06T00:00:00",
          "2016-02-07T00:00:00",
          "2016-02-08T00:00:00",
          "2016-02-09T00:00:00",
          "2016-02-10T00:00:00",
          "2016-02-11T00:00:00",
          "2016-02-12T00:00:00",
          "2016-02-13T00:00:00",
          "2016-02-14T00:00:00",
          "2016-02-15T00:00:00",
          "2016-02-16T00:00:00",
          "2016-02-17T00:00:00",
          "2016-02-18T00:00:00",
          "2016-02-19T00:00:00",
          "2016-02-20T00:00:00",
          "2016-02-21T00:00:00",
          "2016-02-22T00:00:00",
          "2016-02-23T00:00:00",
          "2016-02-24T00:00:00",
          "2016-02-25T00:00:00",
          "2016-02-26T00:00:00",
          "2016-02-27T00:00:00",
          "2016-02-28T00:00:00",
          "2016-02-29T00:00:00",
          "2016-03-01T00:00:00",
          "2016-03-02T00:00:00",
          "2016-03-03T00:00:00",
          "2016-03-04T00:00:00",
          "2016-03-05T00:00:00",
          "2016-03-06T00:00:00",
          "2016-03-07T00:00:00",
          "2016-03-08T00:00:00",
          "2016-03-09T00:00:00",
          "2016-03-10T00:00:00",
          "2016-03-11T00:00:00",
          "2016-03-12T00:00:00",
          "2016-03-13T00:00:00",
          "2016-03-14T00:00:00",
          "2016-03-15T00:00:00",
          "2016-03-16T00:00:00",
          "2016-03-17T00:00:00",
          "2016-03-18T00:00:00",
          "2016-03-19T00:00:00",
          "2016-03-20T00:00:00",
          "2016-03-21T00:00:00",
          "2016-03-22T00:00:00",
          "2016-03-23T00:00:00",
          "2016-03-24T00:00:00",
          "2016-03-25T00:00:00",
          "2016-03-26T00:00:00",
          "2016-03-27T00:00:00",
          "2016-03-28T00:00:00",
          "2016-03-29T00:00:00",
          "2016-03-30T00:00:00",
          "2016-03-31T00:00:00",
          "2016-04-01T00:00:00",
          "2016-04-02T00:00:00",
          "2016-04-03T00:00:00",
          "2016-04-04T00:00:00",
          "2016-04-05T00:00:00",
          "2016-04-06T00:00:00",
          "2016-04-07T00:00:00",
          "2016-04-08T00:00:00",
          "2016-04-09T00:00:00",
          "2016-04-10T00:00:00",
          "2016-04-11T00:00:00",
          "2016-04-12T00:00:00",
          "2016-04-13T00:00:00",
          "2016-04-14T00:00:00",
          "2016-04-15T00:00:00",
          "2016-04-16T00:00:00",
          "2016-04-17T00:00:00",
          "2016-04-18T00:00:00",
          "2016-04-19T00:00:00",
          "2016-04-20T00:00:00",
          "2016-04-21T00:00:00",
          "2016-04-22T00:00:00",
          "2016-04-23T00:00:00",
          "2016-04-24T00:00:00",
          "2016-04-25T00:00:00",
          "2016-04-26T00:00:00",
          "2016-04-27T00:00:00",
          "2016-04-28T00:00:00",
          "2016-04-29T00:00:00",
          "2016-04-30T00:00:00",
          "2016-05-01T00:00:00",
          "2016-05-02T00:00:00",
          "2016-05-03T00:00:00",
          "2016-05-04T00:00:00",
          "2016-05-05T00:00:00",
          "2016-05-06T00:00:00",
          "2016-05-07T00:00:00",
          "2016-05-08T00:00:00",
          "2016-05-09T00:00:00",
          "2016-05-10T00:00:00",
          "2016-05-11T00:00:00",
          "2016-05-12T00:00:00",
          "2016-05-13T00:00:00",
          "2016-05-14T00:00:00",
          "2016-05-15T00:00:00",
          "2016-05-16T00:00:00",
          "2016-05-17T00:00:00",
          "2016-05-18T00:00:00",
          "2016-05-19T00:00:00",
          "2016-05-20T00:00:00",
          "2016-05-21T00:00:00",
          "2016-05-22T00:00:00",
          "2016-05-23T00:00:00",
          "2016-05-24T00:00:00",
          "2016-05-25T00:00:00",
          "2016-05-26T00:00:00",
          "2016-05-27T00:00:00",
          "2016-05-28T00:00:00",
          "2016-05-29T00:00:00",
          "2016-05-30T00:00:00",
          "2016-05-31T00:00:00",
          "2016-06-01T00:00:00",
          "2016-06-02T00:00:00",
          "2016-06-03T00:00:00",
          "2016-06-04T00:00:00",
          "2016-06-05T00:00:00",
          "2016-06-06T00:00:00",
          "2016-06-07T00:00:00",
          "2016-06-08T00:00:00",
          "2016-06-09T00:00:00",
          "2016-06-10T00:00:00",
          "2016-06-11T00:00:00",
          "2016-06-12T00:00:00",
          "2016-06-13T00:00:00",
          "2016-06-14T00:00:00",
          "2016-06-15T00:00:00",
          "2016-06-16T00:00:00",
          "2016-06-17T00:00:00",
          "2016-06-18T00:00:00",
          "2016-06-19T00:00:00",
          "2016-06-20T00:00:00",
          "2016-06-21T00:00:00",
          "2016-06-22T00:00:00",
          "2016-06-23T00:00:00",
          "2016-06-24T00:00:00",
          "2016-06-25T00:00:00",
          "2016-06-26T00:00:00",
          "2016-06-27T00:00:00",
          "2016-06-28T00:00:00",
          "2016-06-29T00:00:00",
          "2016-06-30T00:00:00",
          "2016-07-01T00:00:00",
          "2016-07-02T00:00:00",
          "2016-07-03T00:00:00",
          "2016-07-04T00:00:00",
          "2016-07-05T00:00:00",
          "2016-07-06T00:00:00",
          "2016-07-07T00:00:00",
          "2016-07-08T00:00:00",
          "2016-07-09T00:00:00",
          "2016-07-10T00:00:00",
          "2016-07-11T00:00:00",
          "2016-07-12T00:00:00",
          "2016-07-13T00:00:00",
          "2016-07-14T00:00:00",
          "2016-07-15T00:00:00",
          "2016-07-16T00:00:00",
          "2016-07-17T00:00:00",
          "2016-07-18T00:00:00",
          "2016-07-19T00:00:00",
          "2016-07-20T00:00:00",
          "2016-07-21T00:00:00",
          "2016-07-22T00:00:00",
          "2016-07-23T00:00:00",
          "2016-07-24T00:00:00",
          "2016-07-25T00:00:00",
          "2016-07-26T00:00:00",
          "2016-07-27T00:00:00",
          "2016-07-28T00:00:00",
          "2016-07-29T00:00:00",
          "2016-07-30T00:00:00",
          "2016-07-31T00:00:00",
          "2016-08-01T00:00:00",
          "2016-08-02T00:00:00",
          "2016-08-03T00:00:00",
          "2016-08-04T00:00:00",
          "2016-08-05T00:00:00",
          "2016-08-06T00:00:00",
          "2016-08-07T00:00:00",
          "2016-08-08T00:00:00",
          "2016-08-09T00:00:00",
          "2016-08-10T00:00:00",
          "2016-08-11T00:00:00",
          "2016-08-12T00:00:00",
          "2016-08-13T00:00:00",
          "2016-08-14T00:00:00",
          "2016-08-15T00:00:00",
          "2016-08-16T00:00:00",
          "2016-08-17T00:00:00",
          "2016-08-18T00:00:00",
          "2016-08-19T00:00:00",
          "2016-08-20T00:00:00",
          "2016-08-21T00:00:00",
          "2016-08-22T00:00:00",
          "2016-08-23T00:00:00",
          "2016-08-24T00:00:00",
          "2016-08-25T00:00:00",
          "2016-08-26T00:00:00",
          "2016-08-27T00:00:00",
          "2016-08-28T00:00:00",
          "2016-08-29T00:00:00",
          "2016-08-30T00:00:00",
          "2016-08-31T00:00:00",
          "2016-09-01T00:00:00",
          "2016-09-02T00:00:00",
          "2016-09-03T00:00:00",
          "2016-09-04T00:00:00",
          "2016-09-05T00:00:00",
          "2016-09-06T00:00:00",
          "2016-09-07T00:00:00",
          "2016-09-08T00:00:00",
          "2016-09-09T00:00:00",
          "2016-09-10T00:00:00",
          "2016-09-11T00:00:00",
          "2016-09-12T00:00:00",
          "2016-09-13T00:00:00",
          "2016-09-14T00:00:00",
          "2016-09-15T00:00:00",
          "2016-09-16T00:00:00",
          "2016-09-17T00:00:00",
          "2016-09-18T00:00:00",
          "2016-09-19T00:00:00",
          "2016-09-20T00:00:00",
          "2016-09-21T00:00:00",
          "2016-09-22T00:00:00",
          "2016-09-23T00:00:00",
          "2016-09-24T00:00:00",
          "2016-09-25T00:00:00",
          "2016-09-26T00:00:00",
          "2016-09-27T00:00:00",
          "2016-09-28T00:00:00",
          "2016-09-29T00:00:00",
          "2016-09-30T00:00:00",
          "2016-10-01T00:00:00",
          "2016-10-02T00:00:00",
          "2016-10-03T00:00:00",
          "2016-10-04T00:00:00",
          "2016-10-05T00:00:00",
          "2016-10-06T00:00:00",
          "2016-10-07T00:00:00",
          "2016-10-08T00:00:00",
          "2016-10-09T00:00:00",
          "2016-10-10T00:00:00",
          "2016-10-11T00:00:00",
          "2016-10-12T00:00:00",
          "2016-10-13T00:00:00",
          "2016-10-14T00:00:00",
          "2016-10-15T00:00:00",
          "2016-10-16T00:00:00",
          "2016-10-17T00:00:00",
          "2016-10-18T00:00:00",
          "2016-10-19T00:00:00",
          "2016-10-20T00:00:00",
          "2016-10-21T00:00:00",
          "2016-10-22T00:00:00",
          "2016-10-23T00:00:00",
          "2016-10-24T00:00:00",
          "2016-10-25T00:00:00",
          "2016-10-26T00:00:00",
          "2016-10-27T00:00:00",
          "2016-10-28T00:00:00",
          "2016-10-29T00:00:00",
          "2016-10-30T00:00:00",
          "2016-10-31T00:00:00",
          "2016-11-01T00:00:00",
          "2016-11-02T00:00:00",
          "2016-11-03T00:00:00",
          "2016-11-04T00:00:00",
          "2016-11-05T00:00:00",
          "2016-11-06T00:00:00",
          "2016-11-07T00:00:00",
          "2016-11-08T00:00:00",
          "2016-11-09T00:00:00",
          "2016-11-10T00:00:00",
          "2016-11-11T00:00:00",
          "2016-11-12T00:00:00",
          "2016-11-13T00:00:00",
          "2016-11-14T00:00:00",
          "2016-11-15T00:00:00",
          "2016-11-16T00:00:00",
          "2016-11-17T00:00:00",
          "2016-11-18T00:00:00",
          "2016-11-19T00:00:00",
          "2016-11-20T00:00:00",
          "2016-11-21T00:00:00",
          "2016-11-22T00:00:00",
          "2016-11-23T00:00:00",
          "2016-11-24T00:00:00",
          "2016-11-25T00:00:00",
          "2016-11-26T00:00:00",
          "2016-11-27T00:00:00",
          "2016-11-28T00:00:00",
          "2016-11-29T00:00:00",
          "2016-11-30T00:00:00",
          "2016-12-01T00:00:00",
          "2016-12-02T00:00:00",
          "2016-12-03T00:00:00",
          "2016-12-04T00:00:00",
          "2016-12-05T00:00:00",
          "2016-12-06T00:00:00",
          "2016-12-07T00:00:00",
          "2016-12-08T00:00:00",
          "2016-12-09T00:00:00",
          "2016-12-10T00:00:00",
          "2016-12-11T00:00:00",
          "2016-12-12T00:00:00",
          "2016-12-13T00:00:00",
          "2016-12-14T00:00:00",
          "2016-12-15T00:00:00",
          "2016-12-16T00:00:00",
          "2016-12-17T00:00:00",
          "2016-12-18T00:00:00",
          "2016-12-19T00:00:00",
          "2016-12-20T00:00:00",
          "2016-12-21T00:00:00",
          "2016-12-22T00:00:00",
          "2016-12-23T00:00:00",
          "2016-12-24T00:00:00",
          "2016-12-25T00:00:00",
          "2016-12-26T00:00:00",
          "2016-12-27T00:00:00",
          "2016-12-28T00:00:00",
          "2016-12-29T00:00:00",
          "2016-12-30T00:00:00",
          "2016-12-31T00:00:00",
          "2017-01-01T00:00:00",
          "2017-01-02T00:00:00",
          "2017-01-03T00:00:00",
          "2017-01-04T00:00:00",
          "2017-01-05T00:00:00",
          "2017-01-06T00:00:00",
          "2017-01-07T00:00:00",
          "2017-01-08T00:00:00",
          "2017-01-09T00:00:00",
          "2017-01-10T00:00:00",
          "2017-01-11T00:00:00",
          "2017-01-12T00:00:00",
          "2017-01-13T00:00:00",
          "2017-01-14T00:00:00",
          "2017-01-15T00:00:00",
          "2017-01-16T00:00:00",
          "2017-01-17T00:00:00",
          "2017-01-18T00:00:00",
          "2017-01-19T00:00:00",
          "2017-01-20T00:00:00",
          "2017-01-21T00:00:00",
          "2017-01-22T00:00:00",
          "2017-01-23T00:00:00",
          "2017-01-24T00:00:00",
          "2017-01-25T00:00:00",
          "2017-01-26T00:00:00",
          "2017-01-27T00:00:00",
          "2017-01-28T00:00:00",
          "2017-01-29T00:00:00",
          "2017-01-30T00:00:00",
          "2017-01-31T00:00:00",
          "2017-02-01T00:00:00",
          "2017-02-02T00:00:00",
          "2017-02-03T00:00:00",
          "2017-02-04T00:00:00",
          "2017-02-05T00:00:00",
          "2017-02-06T00:00:00",
          "2017-02-07T00:00:00",
          "2017-02-08T00:00:00",
          "2017-02-09T00:00:00",
          "2017-02-10T00:00:00",
          "2017-02-11T00:00:00",
          "2017-02-12T00:00:00",
          "2017-02-13T00:00:00",
          "2017-02-14T00:00:00",
          "2017-02-15T00:00:00",
          "2017-02-16T00:00:00",
          "2017-02-17T00:00:00",
          "2017-02-18T00:00:00",
          "2017-02-19T00:00:00",
          "2017-02-20T00:00:00",
          "2017-02-21T00:00:00",
          "2017-02-22T00:00:00",
          "2017-02-23T00:00:00",
          "2017-02-24T00:00:00",
          "2017-02-25T00:00:00",
          "2017-02-26T00:00:00",
          "2017-02-27T00:00:00",
          "2017-02-28T00:00:00",
          "2017-03-01T00:00:00",
          "2017-03-02T00:00:00",
          "2017-03-03T00:00:00",
          "2017-03-04T00:00:00",
          "2017-03-05T00:00:00",
          "2017-03-06T00:00:00",
          "2017-03-07T00:00:00",
          "2017-03-08T00:00:00",
          "2017-03-09T00:00:00",
          "2017-03-10T00:00:00",
          "2017-03-11T00:00:00",
          "2017-03-12T00:00:00",
          "2017-03-13T00:00:00",
          "2017-03-14T00:00:00",
          "2017-03-15T00:00:00",
          "2017-03-16T00:00:00",
          "2017-03-17T00:00:00",
          "2017-03-18T00:00:00",
          "2017-03-19T00:00:00",
          "2017-03-20T00:00:00",
          "2017-03-21T00:00:00",
          "2017-03-22T00:00:00",
          "2017-03-23T00:00:00",
          "2017-03-24T00:00:00",
          "2017-03-25T00:00:00",
          "2017-03-26T00:00:00",
          "2017-03-27T00:00:00",
          "2017-03-28T00:00:00",
          "2017-03-29T00:00:00",
          "2017-03-30T00:00:00",
          "2017-03-31T00:00:00",
          "2017-04-01T00:00:00",
          "2017-04-02T00:00:00",
          "2017-04-03T00:00:00",
          "2017-04-04T00:00:00",
          "2017-04-05T00:00:00",
          "2017-04-06T00:00:00",
          "2017-04-07T00:00:00",
          "2017-04-08T00:00:00",
          "2017-04-09T00:00:00",
          "2017-04-10T00:00:00",
          "2017-04-11T00:00:00",
          "2017-04-12T00:00:00",
          "2017-04-13T00:00:00",
          "2017-04-14T00:00:00",
          "2017-04-15T00:00:00",
          "2017-04-16T00:00:00",
          "2017-04-17T00:00:00",
          "2017-04-18T00:00:00",
          "2017-04-19T00:00:00",
          "2017-04-20T00:00:00",
          "2017-04-21T00:00:00",
          "2017-04-22T00:00:00",
          "2017-04-23T00:00:00",
          "2017-04-24T00:00:00",
          "2017-04-25T00:00:00",
          "2017-04-26T00:00:00",
          "2017-04-27T00:00:00",
          "2017-04-28T00:00:00",
          "2017-04-29T00:00:00",
          "2017-04-30T00:00:00",
          "2017-05-01T00:00:00",
          "2017-05-02T00:00:00",
          "2017-05-03T00:00:00",
          "2017-05-04T00:00:00",
          "2017-05-05T00:00:00",
          "2017-05-06T00:00:00",
          "2017-05-07T00:00:00",
          "2017-05-08T00:00:00",
          "2017-05-09T00:00:00",
          "2017-05-10T00:00:00",
          "2017-05-11T00:00:00",
          "2017-05-12T00:00:00",
          "2017-05-13T00:00:00",
          "2017-05-14T00:00:00",
          "2017-05-15T00:00:00",
          "2017-05-16T00:00:00",
          "2017-05-17T00:00:00",
          "2017-05-18T00:00:00",
          "2017-05-19T00:00:00",
          "2017-05-20T00:00:00",
          "2017-05-21T00:00:00",
          "2017-05-22T00:00:00",
          "2017-05-23T00:00:00",
          "2017-05-24T00:00:00",
          "2017-05-25T00:00:00",
          "2017-05-26T00:00:00",
          "2017-05-27T00:00:00",
          "2017-05-28T00:00:00",
          "2017-05-29T00:00:00",
          "2017-05-30T00:00:00",
          "2017-05-31T00:00:00",
          "2017-06-01T00:00:00",
          "2017-06-02T00:00:00",
          "2017-06-03T00:00:00",
          "2017-06-04T00:00:00",
          "2017-06-05T00:00:00",
          "2017-06-06T00:00:00",
          "2017-06-07T00:00:00",
          "2017-06-08T00:00:00",
          "2017-06-09T00:00:00",
          "2017-06-10T00:00:00",
          "2017-06-11T00:00:00",
          "2017-06-12T00:00:00",
          "2017-06-13T00:00:00",
          "2017-06-14T00:00:00",
          "2017-06-15T00:00:00",
          "2017-06-16T00:00:00",
          "2017-06-17T00:00:00",
          "2017-06-18T00:00:00",
          "2017-06-19T00:00:00",
          "2017-06-20T00:00:00",
          "2017-06-21T00:00:00",
          "2017-06-22T00:00:00",
          "2017-06-23T00:00:00",
          "2017-06-24T00:00:00",
          "2017-06-25T00:00:00",
          "2017-06-26T00:00:00",
          "2017-06-27T00:00:00",
          "2017-06-28T00:00:00",
          "2017-06-29T00:00:00",
          "2017-06-30T00:00:00"
         ],
         "xaxis": "x",
         "y": [
          null,
          null,
          null,
          null,
          null,
          null,
          null,
          null,
          null,
          null,
          null,
          null,
          null,
          null,
          null,
          null,
          null,
          null,
          null,
          null,
          null,
          null,
          null,
          null,
          null,
          null,
          null,
          null,
          null,
          938971546536.4333,
          953863521293.9,
          959228019310,
          948022259354.8667,
          940655764701.6333,
          926751811158.1,
          913904219146.6333,
          895637901321.8,
          886896450458.4333,
          896915067247.5333,
          907468393086.9333,
          920329698527.4333,
          934707016119.4,
          908373260437.2333,
          850779391137.5,
          816886133652.7,
          801162942670.1666,
          788471990819.7,
          792516087511.3334,
          799722781235.1,
          774589093192.6333,
          742500951694.7333,
          726777695524.2667,
          719501583226.1333,
          711170404837.5,
          707128685901.6333,
          669009196917.4333,
          653834581946.1666,
          654312792218.6,
          616804029821.1333,
          589688636188.4667,
          588943313804.9333,
          609477089813.4333,
          628537998646.9667,
          636138453790.1666,
          657247822378.7,
          660131434502.6,
          656498210571.5667,
          675879622142.1,
          675612432430.4333,
          680862333645.7,
          681345549022.1,
          682952820640.4667,
          679463983633.4333,
          656378669722.8334,
          661087222379.9333,
          643111102538.1333,
          651519022137.6,
          649223212882.1,
          630154619463.3,
          637799465005.4,
          642571762435.3334,
          642691320754.9333,
          661738340348.9667,
          688211331913.0333,
          704062959199.6,
          724604549791.8667,
          722784468300.8667,
          731055637990.6666,
          742418525935.4667,
          748297736322.0333,
          744795488375.4333,
          724877698130.6,
          710732677102.6666,
          680453188313.3,
          650652926124,
          635381042022.8,
          634733193310.1333,
          645780295707.6,
          657861005526.3334,
          657432700585.6333,
          648217453157.6,
          632533744923.1666,
          642149688121.0333,
          655014226599.4,
          664102519923.9667,
          670649257905.6666,
          654380619998,
          648081326355.7667,
          641105181855.8,
          653947064381.6333,
          659535117490.9,
          664284595279.4333,
          648077135652.0333,
          642998269837.2,
          633630912925,
          627587115544.8334,
          649433887310.8667,
          642088860277,
          633286849977.4333,
          644451615294.4,
          638331714066.3,
          633974830647,
          640026001133.5333,
          662028936201.6333,
          671864673941.8667,
          678124236659.0667,
          687006000039.6,
          659370019146.8334,
          633735750500.9667,
          621733776403.3,
          622850846060.1333,
          623005422320.1,
          612606426963.2,
          613396651877.6333,
          597892620343.5667,
          590319236001.4,
          577263307557.7333,
          569187709346.5,
          578105811007.3334,
          565175964719.8667,
          560635759274.4333,
          565971012412.9667,
          581340458558.3,
          564409579318.8,
          565447035398.1,
          554406518606.0333,
          544244682377.13336,
          541380584650.4,
          546544345737.8,
          537197787572.8333,
          543101490812.56665,
          569416173960.8334,
          573608532143.2333,
          571253828912.7333,
          570422742825.3334,
          580870056420.7,
          569444768967.6666,
          569212214690.9333,
          578666676486.0667,
          576876559741.6,
          576539331936.7333,
          591142816939.6333,
          590520078714.8667,
          578512752872.5667,
          582733294797.2,
          591799328983.4667,
          615401230440.5,
          638105150201.5333,
          668941770778.1666,
          681429078951.4333,
          691207321472.3334,
          676317194575.1333,
          659272028016.5333,
          660919194882.6,
          670480443806.6,
          666582319518.5667,
          677130867591.9667,
          679345239918.9,
          671972582313.6333,
          667930957027.4333,
          675797249022.6,
          659263014708.4667,
          654964542366.8,
          659430793342.9,
          665863193384.0667,
          668806386528.5667,
          697630720689.5667,
          717350414805.4333,
          713745343486.8667,
          722726001642.4667,
          741365405869.7333,
          744039766981.7667,
          762729405096.2333,
          776383350507.7667,
          780771865564.8667,
          780853230156.5667,
          779225289138.7,
          769119231731.9333,
          739801086231.7333,
          720010960537.9,
          715773364682.3667,
          719539523341.4667,
          725022143783.6666,
          723567230694.3,
          725978001021.2333,
          741049027402.2333,
          724424559784.7333,
          728140974892.5,
          748848942812.4333,
          751444674271.1333,
          739503529715.6333,
          745938735880.2333,
          751195675876.4667,
          742497060767.9667,
          734811965294.7,
          739325949812.0667,
          726581872693.1666,
          704895172164.9333,
          703227255121.3334,
          698800564521.2,
          675821064361.8,
          675266203924.5,
          681412880329.6666,
          686857586574.6666,
          688467440778.1666,
          693362555379.1,
          683739610504.7333,
          681758596263.1333,
          683652485659.8334,
          712094439441.2,
          720772964634.4667,
          742422172900.1,
          763197536860.7333,
          802134055016.2,
          797332410067.2667,
          812798742357.8,
          849713185103.2667,
          877263330714.1333,
          871652785863.7333,
          904406011126.5333,
          917778575836.8,
          913473120396.3667,
          924549181620.3667,
          959550095475,
          956806271996.4333,
          954985533959.8,
          952028301183.9667,
          956754901537.6,
          975714343877.9333,
          976188087533.5333,
          980518808320.5667,
          983806182497.9,
          963109513280.8667,
          954552205795.5667,
          943749681697.9,
          937974561893.2667,
          947725613737.5333,
          933236360537.6,
          926615241189.0667,
          920571163810.1,
          938074876776.4333,
          947733724531.2667,
          942932712747.4,
          955479861415.0667,
          961799568112.7333,
          936491867578.7667,
          903250128307.8,
          873957931843.3667,
          857091821365.2667,
          819772665388.5333,
          815337980105.2,
          846344001732.3334,
          837540446653.6,
          807802588128.8,
          815848648177.6666,
          799890273036.4667,
          784572027798.4333,
          782894544458.7333,
          774704043833.5333,
          772226083407,
          771855515286.0333,
          772919031405.8667,
          775460639032.5,
          763545397161.6333,
          771965085835.9667,
          781936586444.1,
          781163216598.8,
          809273186020.5,
          831097968182.5,
          838943905590.5,
          818800305060,
          803560945426.1,
          797634340675.2667,
          775935067254.1666,
          788049356458.5333,
          798197363972.4,
          820477449745.9667,
          875290697441,
          939124098520.3667,
          984167771260.1,
          1018739741054.2667,
          1024885898517.5333,
          1089343356609.2667,
          1132819595517.0667,
          1173782272637.7334,
          1237395969007.3667,
          1310473347215.8,
          1380195194529.9333,
          1475912200671.0667,
          1533046491956.8667,
          1595395429883.3,
          1628786829364.9666,
          1704367524738.1333,
          1775264813968.4666,
          1870007899382.2334,
          1934810698772.3,
          1972857189464.4666,
          2020302502138.2334,
          2070403781881.3,
          2108275317687.4,
          2140192169151.2334,
          2180908296616,
          2213797564645.8,
          2252293022383.2334,
          2285638585361.067,
          2304415690183.3,
          2312277825516.3667,
          2275324130871.3335,
          2260055365546.1,
          2279957095638.9,
          2288719596576.033,
          2299294357435.7334,
          2268682033477.7334,
          2285022753983.9,
          2309954327091.3667,
          2319940296409.9,
          2303132736611.6,
          2275319141499.3335,
          2261608910943.9,
          2294613932888.6333,
          2316738990485.3667,
          2334712182383.1333,
          2331303240118.8335,
          2331014115150.467,
          2287108299403.6,
          2268984903700.7,
          2284537559546.1333,
          2268699169079.8335,
          2271736884861.6665,
          2275024964435.1333,
          2302861575942.1333,
          2310627443541.6333,
          2328860093786.9,
          2319082052914.3667,
          2332783128396.4,
          2359820161830.8335,
          2382667828609.3667,
          2415741232873.3,
          2441595403278.6665,
          2426240878647.2334,
          2387492791953,
          2352080869013,
          2319693703966.6,
          2254512662220.9,
          2188347389598.9666,
          2117471411717.1,
          2065672806306.0334,
          2021467741752.3333,
          1926715049546.4333,
          1836296941513,
          1756961683360.8333,
          1694898885269.7,
          1623106181166.8333,
          1553628705931.8333,
          1501703795402.5334,
          1448940618712.2334,
          1377465570221.5334,
          1335975764958.7334,
          1265641159191.9333,
          1204294410978.1667,
          1146878665813.3667,
          1088785001424.4333,
          1026800506876.2667,
          977239578465.6,
          915940431106.6,
          873131965534.9,
          828611429991.2667,
          778992701424.4333,
          719459831849.1666,
          687811547689.5333,
          699431068617.6333,
          693763588305.2667,
          709924985070.4667,
          727721139155.8667,
          747018487515.8667,
          769965756998.9667,
          803489824137.1333,
          838817343266.6666,
          843917981572.1666,
          862988983665.4333,
          892509912447.8667,
          911645355536.6333,
          918642360012.1333,
          924017861326.0333,
          929123736973.3667,
          937881794543.8667,
          971604926866.9,
          975466696891.8334,
          994794992000.0333,
          1014203448502.0667,
          1056968556770.6333,
          1091862458532.2667,
          1123357484402.2334,
          1155984421979.9666,
          1183012736005.6333,
          1206427700300.6333,
          1247924104170.4,
          1290556443597.6,
          1337384723881.5,
          1363765486878.6,
          1395127001146.1667,
          1417649759913.4,
          1413910709105.1667,
          1461148586480.6,
          1513532739505.2,
          1565450216945.2334,
          1606335438813.8,
          1613845845208.1,
          1633232394341.2334,
          1629288160676.0667,
          1606304117414,
          1602946938054.6333,
          1615726945951.9,
          1633839562232.4333,
          1641157675023.9333,
          1641292333878.4666,
          1629452000886.2,
          1620906328732.4,
          1608351511875.7,
          1596675691029.8667,
          1562129761467.0667,
          1535034459378.7666,
          1517667464166.0334,
          1500309361234.2666,
          1487673871374.5667,
          1464136826883.0667,
          1433547111887.3667,
          1391533588041.3667,
          1354822477359.0334,
          1327417246505.3667,
          1281776774988.3,
          1256403561775.2666,
          1241576562214.4333,
          1181437890918.6667,
          1125076801104.8,
          1067190783181.9667,
          1008600568534.0333,
          967034905262.4667,
          948906032919.0333,
          941541874278,
          938536717300.9333,
          937640727718.1,
          937551727961.4333,
          935208369626.4,
          949166367988.9,
          946207070465.5,
          932014116806.8667,
          935455600728.3667,
          934726728278.1,
          928428797337.3667,
          919355011229.3667,
          915313976996.7,
          908491818435.1666,
          889157847866.5333,
          871002590660.5667,
          868534145374.7333,
          854736658041.6333,
          877596593889.0667,
          884112285316.2,
          878901351222,
          892773342460.9667,
          909112810152.8667,
          917439037949.8667,
          942447217064.4667,
          944714760103.1666,
          934959599253.4667,
          940662061528.5333,
          945350359859.5333,
          958398539994.1,
          966885278507.6666,
          983887241279.6666,
          988873248404.3334,
          980020049627.7,
          961500301597,
          948497792183.0333,
          960418280484.3,
          970434858219.4667,
          981918281883.0667,
          1006662092118.6333,
          1008733561475.6333,
          1014488696598.9,
          1020375765097.6333,
          1035510663063.3334,
          1045280798758.5333,
          1055865779207.4,
          1058027274792.7333,
          1054409322908.1666,
          1032071251649.7333,
          1024050081542.4667,
          1044246091668.4667,
          1080879108603.7333,
          1132695389722.6,
          1255172494421.3333,
          1337112895643.6,
          1380864272796.3333,
          1403764010737.1,
          1406738054557.7,
          1429322654113.0334,
          1420240465771.5,
          1417361958100.0334,
          1402261061738.2,
          1442931117459,
          1460530523525.5,
          1501917313883,
          1511036591616.6,
          1550740872106.7666,
          1616453645669,
          1640379108208.6,
          1669812773179.6,
          1699346264428.7666,
          1712411802660.3333,
          1728613363663.0667,
          1798723874619.1,
          1829346565715.9666,
          1838123347017.9333,
          1834150293615.1,
          1836484980149.9,
          1853332386135.4,
          1872442592479.6667,
          1906698922017.7666,
          1878514466972.5667,
          1823857486574.2,
          1700931339556.5667,
          1618960074678.0334,
          1576485539029.4333,
          1578076983004.2666,
          1584326152636.2334,
          1583481241909.1,
          1608746465413,
          1642622824574.1,
          1643048224228.3,
          1598636768238.4,
          1583804316592.8667,
          1568805031156,
          1557860357562.6667,
          1505933078118.8,
          1430754687377.1,
          1393787807193.4333,
          1344202196356.7666,
          1319976138398.2,
          1317539087931.5667,
          1320110979147.3333,
          1257338577464.8,
          1252686425232.3333,
          1234496615844.5667,
          1226681161049.4333,
          1239081455440.5667,
          1221513868140.3667,
          1187296207813.9666,
          1127778252995.7,
          1108107030062.5667,
          1082818207195.3,
          1079083437003.9667,
          1048068423127.1333,
          1031947549337.0667,
          1009390287731.7,
          980346017693.6333,
          968233676295.6666,
          947095963888,
          921300821077.3334,
          949998605853.9667,
          951712923250.4,
          965498813314,
          953223217671.5333,
          960751144952,
          960620751794.5,
          975091396304,
          982834294834.0667,
          982217875715.3334,
          982598217348.1333,
          960372936926.9333,
          938668708420.4667,
          915859003303.2333,
          894265438427.7333,
          908323431265.8334,
          916761971265.9,
          919754822439.6333,
          916955375789.3667,
          922946915972.4,
          925608178580.0333,
          942694421810.8334,
          954009144071.0667,
          955307298294.4,
          960119265652.6,
          963567391128.8667,
          961782411067.3,
          977013168173.1333,
          969287120214.8667,
          962649753448.8667,
          944286889116.6666,
          911285454488.6666,
          892940633700.4333,
          871728016453.3667,
          870610136515.5,
          852133479582.5,
          845528005856.6333,
          839208811254.1666,
          840436204640.6,
          826660807868.7333,
          819255098288,
          826160655151.6,
          820133840108.9667,
          816068027194.7333,
          803745338056.4333,
          782101063587.6,
          767864881892.3,
          744974002644.5667,
          738595707172.6333,
          735296347831.3334,
          746417331654.1666,
          722627971839.6666,
          719926719182.7667,
          706462483036.5333,
          702873920108.4,
          700511895108.4,
          699163871801.9667,
          688519573973.0333,
          692591207345.5333,
          696470572601.0667,
          695256119804.3667,
          688132879900.2667,
          685228262135.2667,
          680684324252.1,
          671615456110.9667,
          675730350868.6666,
          680126050372.4,
          671147998223.7667,
          663025864139.2,
          668344854683.6666,
          671839546127.9667,
          672331652300.0667,
          682705706006.6,
          690130791473.2,
          696327500435.9667,
          703639117077.2,
          707690435169.2667,
          717296040236.6333,
          733084609752.3334,
          740363064651.1,
          731747142317.7667,
          734326746424.4,
          735806925999.5667,
          742464918848.7667,
          751362313449.1666,
          749464286782.5,
          755304470895.9667,
          761691227682.7,
          761428458087.3667,
          762413621370.7,
          771888039679.6,
          779598119949.5,
          782041353036.1666,
          801125599545.6333,
          815210766919.6666,
          812354447211.3667,
          807016493927.4667,
          805728621619.6666,
          796081511537.1,
          797217926555.2,
          787820605148.3,
          776805453976.2,
          760269311936.3334,
          757842697987.8667,
          757000822145.9667,
          756516243739.0333,
          773331900745.0667,
          778163496147.6,
          776311642608.6333,
          776263872283.7,
          776736293160.4,
          780725619720.4333,
          779845656267.7,
          776666706513.3,
          772244999366.4333,
          777196465649.8,
          776359663461.1666,
          773819588674.4333,
          764461243152.1,
          760703449152.1,
          753256380280.8334,
          750288115050.7,
          753684344478.1,
          735326060639.0333,
          710993238010.6666,
          712153365280.0333,
          714084399138.7667,
          711043987304.5,
          709964091028.5667,
          710286849504.4667,
          706494038791.0667,
          703779330457.7333,
          704447739917.3,
          699207675250.6333,
          700000453725.9,
          697166933824.9333,
          694309897021.2667,
          686406781796.7,
          679723866486.6333,
          668937861339.3,
          670031318168.2333,
          669783888501.5667,
          674828337492.9333,
          688231618307.3334,
          705581014747.4,
          708847757631.3,
          706188009366.7333,
          702254555366.7333,
          709261144338.2,
          710910378375.2667,
          712724069475.4667,
          702246477735.2333,
          683994630937.7333,
          680994162363.2,
          694290450029.8667,
          699622029093.8334,
          728877755407.8,
          770292070757.2333,
          787067616129,
          784139643866.6,
          798889029199.9333,
          805746645134,
          852424190007.7667,
          870741694640.7667,
          880273004519.7667,
          874117520553.0333,
          854944584287.1666,
          849742810620.5,
          849186360953.8334,
          856194259741.4667,
          844975100369.1666,
          831218098369.1666,
          812050723652.0333,
          787063370044.6,
          760642974250.6666,
          742126312750.0667,
          736481745423.1333,
          729542078089.8,
          709804673521.5333,
          688956308151.1333,
          670909956484.4667,
          668756827526.4333,
          672728894193.1,
          666436577088.8334,
          657716972088.8334,
          644492071422.1666,
          608073798755.5,
          560980554739.4,
          538840963367.63336,
          529625805630.0333,
          517937819296.7,
          510676058695.9667,
          449023259029.3,
          409809520062.9667,
          375219065375.36664,
          361143632675.43335,
          345885755008.76666,
          328171236342.1,
          306127323675.43335,
          280828055008.76666,
          264019528675.43332,
          250490182342.1,
          239591428725.9,
          227602040333.33334,
          212979473666.66666,
          198727738000,
          178675231666.66666,
          162340774333.33334,
          156348052666.66666,
          148970231333.33334,
          141427210666.66666,
          131535514666.66667,
          119554287333.33333,
          108230620333.33333,
          94957545333.33333,
          80765599333.33333,
          66157861000,
          56513574333.333336,
          43953669000,
          31685663333.333332,
          14717687000,
          478708000,
          43316333.333333336,
          13333333.333333334,
          0,
          0,
          0,
          0,
          0,
          0,
          0,
          0,
          0,
          0,
          0,
          3492944479.366667,
          3919746114,
          5281265498.2,
          5281265498.2,
          5281265498.2,
          5281265498.2,
          5281265498.2,
          5281265498.2,
          5281265498.2,
          5281265498.2,
          5281265498.2,
          5281265498.2,
          5281265498.2,
          5281365498.2,
          5281365498.2,
          5281365498.2,
          5281365498.2,
          5281365498.2,
          5281365498.2,
          5281365498.2,
          5281365498.2,
          5281365498.2,
          5281365498.2,
          5281365498.2,
          5281365498.2,
          5281365498.2,
          5281365498.2,
          5281365498.2,
          5281365498.2,
          5281365498.2,
          1788421018.8333333,
          1361619384.2,
          100000,
          100000,
          100000,
          100000,
          100000,
          100000,
          100000,
          100000,
          100000,
          100000,
          100000,
          0,
          0,
          0,
          0,
          3287866666.6666665,
          3287866666.6666665,
          3287866666.6666665,
          3287866666.6666665,
          3288200000,
          3288200000,
          3288200000,
          3288200000,
          3288200000,
          3288200000,
          3288200000,
          3288200000,
          3288200000,
          3288200000,
          3288200000,
          3288200000,
          3288200000,
          3288200000,
          3288200000,
          3288200000,
          3288200000,
          18826501666.666668,
          35441122333.333336,
          61181508333.333336,
          79866311333.33333,
          89889845666.66667,
          100933011666.66667,
          112490845666.66667,
          124315022000,
          133643249666.66667,
          143125116000,
          154832431333.33334,
          166276553000,
          179382764333.33334,
          188356723666.66666,
          201314106333.33334,
          208031915000,
          217521519666.66666,
          226660147000,
          238293086000,
          253658621000,
          269514971000,
          286070524333.3333,
          296978445333.3333,
          306829737333.3333,
          319374225333.3333,
          334393213666.6667,
          358669789773.36664,
          368388326440.0333,
          375918195773.36664,
          383910217773.36664
         ],
         "yaxis": "y"
        },
        {
         "hovertemplate": "identity=ePay.info_CoinJoinMess<br>date=%{x}<br>spent=%{y}<extra></extra>",
         "legendgroup": "ePay.info_CoinJoinMess",
         "line": {
          "color": "#00cc96",
          "dash": "solid"
         },
         "marker": {
          "symbol": "circle"
         },
         "mode": "lines",
         "name": "ePay.info_CoinJoinMess",
         "showlegend": true,
         "type": "scattergl",
         "x": [
          "2015-01-01T00:00:00",
          "2015-01-02T00:00:00",
          "2015-01-03T00:00:00",
          "2015-01-04T00:00:00",
          "2015-01-05T00:00:00",
          "2015-01-06T00:00:00",
          "2015-01-07T00:00:00",
          "2015-01-08T00:00:00",
          "2015-01-09T00:00:00",
          "2015-01-10T00:00:00",
          "2015-01-11T00:00:00",
          "2015-01-12T00:00:00",
          "2015-01-13T00:00:00",
          "2015-01-14T00:00:00",
          "2015-01-15T00:00:00",
          "2015-01-16T00:00:00",
          "2015-01-17T00:00:00",
          "2015-01-18T00:00:00",
          "2015-01-19T00:00:00",
          "2015-01-20T00:00:00",
          "2015-01-21T00:00:00",
          "2015-01-22T00:00:00",
          "2015-01-23T00:00:00",
          "2015-01-24T00:00:00",
          "2015-01-25T00:00:00",
          "2015-01-26T00:00:00",
          "2015-01-27T00:00:00",
          "2015-01-28T00:00:00",
          "2015-01-29T00:00:00",
          "2015-01-30T00:00:00",
          "2015-01-31T00:00:00",
          "2015-02-01T00:00:00",
          "2015-02-02T00:00:00",
          "2015-02-03T00:00:00",
          "2015-02-04T00:00:00",
          "2015-02-05T00:00:00",
          "2015-02-06T00:00:00",
          "2015-02-07T00:00:00",
          "2015-02-08T00:00:00",
          "2015-02-09T00:00:00",
          "2015-02-10T00:00:00",
          "2015-02-11T00:00:00",
          "2015-02-12T00:00:00",
          "2015-02-13T00:00:00",
          "2015-02-14T00:00:00",
          "2015-02-15T00:00:00",
          "2015-02-16T00:00:00",
          "2015-02-17T00:00:00",
          "2015-02-18T00:00:00",
          "2015-02-19T00:00:00",
          "2015-02-20T00:00:00",
          "2015-02-21T00:00:00",
          "2015-02-22T00:00:00",
          "2015-02-23T00:00:00",
          "2015-02-24T00:00:00",
          "2015-02-25T00:00:00",
          "2015-02-26T00:00:00",
          "2015-02-27T00:00:00",
          "2015-02-28T00:00:00",
          "2015-03-01T00:00:00",
          "2015-03-02T00:00:00",
          "2015-03-03T00:00:00",
          "2015-03-04T00:00:00",
          "2015-03-05T00:00:00",
          "2015-03-06T00:00:00",
          "2015-03-07T00:00:00",
          "2015-03-08T00:00:00",
          "2015-03-09T00:00:00",
          "2015-03-10T00:00:00",
          "2015-03-11T00:00:00",
          "2015-03-12T00:00:00",
          "2015-03-13T00:00:00",
          "2015-03-14T00:00:00",
          "2015-03-15T00:00:00",
          "2015-03-16T00:00:00",
          "2015-03-17T00:00:00",
          "2015-03-18T00:00:00",
          "2015-03-19T00:00:00",
          "2015-03-20T00:00:00",
          "2015-03-21T00:00:00",
          "2015-03-22T00:00:00",
          "2015-03-23T00:00:00",
          "2015-03-24T00:00:00",
          "2015-03-25T00:00:00",
          "2015-03-26T00:00:00",
          "2015-03-27T00:00:00",
          "2015-03-28T00:00:00",
          "2015-03-29T00:00:00",
          "2015-03-30T00:00:00",
          "2015-03-31T00:00:00",
          "2015-04-01T00:00:00",
          "2015-04-02T00:00:00",
          "2015-04-03T00:00:00",
          "2015-04-04T00:00:00",
          "2015-04-05T00:00:00",
          "2015-04-06T00:00:00",
          "2015-04-07T00:00:00",
          "2015-04-08T00:00:00",
          "2015-04-09T00:00:00",
          "2015-04-10T00:00:00",
          "2015-04-11T00:00:00",
          "2015-04-12T00:00:00",
          "2015-04-13T00:00:00",
          "2015-04-14T00:00:00",
          "2015-04-15T00:00:00",
          "2015-04-16T00:00:00",
          "2015-04-17T00:00:00",
          "2015-04-18T00:00:00",
          "2015-04-19T00:00:00",
          "2015-04-20T00:00:00",
          "2015-04-21T00:00:00",
          "2015-04-22T00:00:00",
          "2015-04-23T00:00:00",
          "2015-04-24T00:00:00",
          "2015-04-25T00:00:00",
          "2015-04-26T00:00:00",
          "2015-04-27T00:00:00",
          "2015-04-28T00:00:00",
          "2015-04-29T00:00:00",
          "2015-04-30T00:00:00",
          "2015-05-01T00:00:00",
          "2015-05-02T00:00:00",
          "2015-05-03T00:00:00",
          "2015-05-04T00:00:00",
          "2015-05-05T00:00:00",
          "2015-05-06T00:00:00",
          "2015-05-07T00:00:00",
          "2015-05-08T00:00:00",
          "2015-05-09T00:00:00",
          "2015-05-10T00:00:00",
          "2015-05-11T00:00:00",
          "2015-05-12T00:00:00",
          "2015-05-13T00:00:00",
          "2015-05-14T00:00:00",
          "2015-05-15T00:00:00",
          "2015-05-16T00:00:00",
          "2015-05-17T00:00:00",
          "2015-05-18T00:00:00",
          "2015-05-19T00:00:00",
          "2015-05-20T00:00:00",
          "2015-05-21T00:00:00",
          "2015-05-22T00:00:00",
          "2015-05-23T00:00:00",
          "2015-05-24T00:00:00",
          "2015-05-25T00:00:00",
          "2015-05-26T00:00:00",
          "2015-05-27T00:00:00",
          "2015-05-28T00:00:00",
          "2015-05-29T00:00:00",
          "2015-05-30T00:00:00",
          "2015-05-31T00:00:00",
          "2015-06-01T00:00:00",
          "2015-06-02T00:00:00",
          "2015-06-03T00:00:00",
          "2015-06-04T00:00:00",
          "2015-06-05T00:00:00",
          "2015-06-06T00:00:00",
          "2015-06-07T00:00:00",
          "2015-06-08T00:00:00",
          "2015-06-09T00:00:00",
          "2015-06-10T00:00:00",
          "2015-06-11T00:00:00",
          "2015-06-12T00:00:00",
          "2015-06-13T00:00:00",
          "2015-06-14T00:00:00",
          "2015-06-15T00:00:00",
          "2015-06-16T00:00:00",
          "2015-06-17T00:00:00",
          "2015-06-18T00:00:00",
          "2015-06-19T00:00:00",
          "2015-06-20T00:00:00",
          "2015-06-21T00:00:00",
          "2015-06-22T00:00:00",
          "2015-06-23T00:00:00",
          "2015-06-24T00:00:00",
          "2015-06-25T00:00:00",
          "2015-06-26T00:00:00",
          "2015-06-27T00:00:00",
          "2015-06-28T00:00:00",
          "2015-06-29T00:00:00",
          "2015-06-30T00:00:00",
          "2015-07-01T00:00:00",
          "2015-07-02T00:00:00",
          "2015-07-03T00:00:00",
          "2015-07-04T00:00:00",
          "2015-07-05T00:00:00",
          "2015-07-06T00:00:00",
          "2015-07-07T00:00:00",
          "2015-07-08T00:00:00",
          "2015-07-09T00:00:00",
          "2015-07-10T00:00:00",
          "2015-07-11T00:00:00",
          "2015-07-12T00:00:00",
          "2015-07-13T00:00:00",
          "2015-07-14T00:00:00",
          "2015-07-15T00:00:00",
          "2015-07-16T00:00:00",
          "2015-07-17T00:00:00",
          "2015-07-18T00:00:00",
          "2015-07-19T00:00:00",
          "2015-07-20T00:00:00",
          "2015-07-21T00:00:00",
          "2015-07-22T00:00:00",
          "2015-07-23T00:00:00",
          "2015-07-24T00:00:00",
          "2015-07-25T00:00:00",
          "2015-07-26T00:00:00",
          "2015-07-27T00:00:00",
          "2015-07-28T00:00:00",
          "2015-07-29T00:00:00",
          "2015-07-30T00:00:00",
          "2015-07-31T00:00:00",
          "2015-08-01T00:00:00",
          "2015-08-02T00:00:00",
          "2015-08-03T00:00:00",
          "2015-08-04T00:00:00",
          "2015-08-05T00:00:00",
          "2015-08-06T00:00:00",
          "2015-08-07T00:00:00",
          "2015-08-08T00:00:00",
          "2015-08-09T00:00:00",
          "2015-08-10T00:00:00",
          "2015-08-11T00:00:00",
          "2015-08-12T00:00:00",
          "2015-08-13T00:00:00",
          "2015-08-14T00:00:00",
          "2015-08-15T00:00:00",
          "2015-08-16T00:00:00",
          "2015-08-17T00:00:00",
          "2015-08-18T00:00:00",
          "2015-08-19T00:00:00",
          "2015-08-20T00:00:00",
          "2015-08-21T00:00:00",
          "2015-08-22T00:00:00",
          "2015-08-23T00:00:00",
          "2015-08-24T00:00:00",
          "2015-08-25T00:00:00",
          "2015-08-26T00:00:00",
          "2015-08-27T00:00:00",
          "2015-08-28T00:00:00",
          "2015-08-29T00:00:00",
          "2015-08-30T00:00:00",
          "2015-08-31T00:00:00",
          "2015-09-01T00:00:00",
          "2015-09-02T00:00:00",
          "2015-09-03T00:00:00",
          "2015-09-04T00:00:00",
          "2015-09-05T00:00:00",
          "2015-09-06T00:00:00",
          "2015-09-07T00:00:00",
          "2015-09-08T00:00:00",
          "2015-09-09T00:00:00",
          "2015-09-10T00:00:00",
          "2015-09-11T00:00:00",
          "2015-09-12T00:00:00",
          "2015-09-13T00:00:00",
          "2015-09-14T00:00:00",
          "2015-09-15T00:00:00",
          "2015-09-16T00:00:00",
          "2015-09-17T00:00:00",
          "2015-09-18T00:00:00",
          "2015-09-19T00:00:00",
          "2015-09-20T00:00:00",
          "2015-09-21T00:00:00",
          "2015-09-22T00:00:00",
          "2015-09-23T00:00:00",
          "2015-09-24T00:00:00",
          "2015-09-25T00:00:00",
          "2015-09-26T00:00:00",
          "2015-09-27T00:00:00",
          "2015-09-28T00:00:00",
          "2015-09-29T00:00:00",
          "2015-09-30T00:00:00",
          "2015-10-01T00:00:00",
          "2015-10-02T00:00:00",
          "2015-10-03T00:00:00",
          "2015-10-04T00:00:00",
          "2015-10-05T00:00:00",
          "2015-10-06T00:00:00",
          "2015-10-07T00:00:00",
          "2015-10-08T00:00:00",
          "2015-10-09T00:00:00",
          "2015-10-10T00:00:00",
          "2015-10-11T00:00:00",
          "2015-10-12T00:00:00",
          "2015-10-13T00:00:00",
          "2015-10-14T00:00:00",
          "2015-10-15T00:00:00",
          "2015-10-16T00:00:00",
          "2015-10-17T00:00:00",
          "2015-10-18T00:00:00",
          "2015-10-19T00:00:00",
          "2015-10-20T00:00:00",
          "2015-10-21T00:00:00",
          "2015-10-22T00:00:00",
          "2015-10-23T00:00:00",
          "2015-10-24T00:00:00",
          "2015-10-25T00:00:00",
          "2015-10-26T00:00:00",
          "2015-10-27T00:00:00",
          "2015-10-28T00:00:00",
          "2015-10-29T00:00:00",
          "2015-10-30T00:00:00",
          "2015-10-31T00:00:00",
          "2015-11-01T00:00:00",
          "2015-11-02T00:00:00",
          "2015-11-03T00:00:00",
          "2015-11-04T00:00:00",
          "2015-11-05T00:00:00",
          "2015-11-06T00:00:00",
          "2015-11-07T00:00:00",
          "2015-11-08T00:00:00",
          "2015-11-09T00:00:00",
          "2015-11-10T00:00:00",
          "2015-11-11T00:00:00",
          "2015-11-12T00:00:00",
          "2015-11-13T00:00:00",
          "2015-11-14T00:00:00",
          "2015-11-15T00:00:00",
          "2015-11-16T00:00:00",
          "2015-11-17T00:00:00",
          "2015-11-18T00:00:00",
          "2015-11-19T00:00:00",
          "2015-11-20T00:00:00",
          "2015-11-21T00:00:00",
          "2015-11-22T00:00:00",
          "2015-11-23T00:00:00",
          "2015-11-24T00:00:00",
          "2015-11-25T00:00:00",
          "2015-11-26T00:00:00",
          "2015-11-27T00:00:00",
          "2015-11-28T00:00:00",
          "2015-11-29T00:00:00",
          "2015-11-30T00:00:00",
          "2015-12-01T00:00:00",
          "2015-12-02T00:00:00",
          "2015-12-03T00:00:00",
          "2015-12-04T00:00:00",
          "2015-12-05T00:00:00",
          "2015-12-06T00:00:00",
          "2015-12-07T00:00:00",
          "2015-12-08T00:00:00",
          "2015-12-09T00:00:00",
          "2015-12-10T00:00:00",
          "2015-12-11T00:00:00",
          "2015-12-12T00:00:00",
          "2015-12-13T00:00:00",
          "2015-12-14T00:00:00",
          "2015-12-15T00:00:00",
          "2015-12-16T00:00:00",
          "2015-12-17T00:00:00",
          "2015-12-18T00:00:00",
          "2015-12-19T00:00:00",
          "2015-12-20T00:00:00",
          "2015-12-21T00:00:00",
          "2015-12-22T00:00:00",
          "2015-12-23T00:00:00",
          "2015-12-24T00:00:00",
          "2015-12-25T00:00:00",
          "2015-12-26T00:00:00",
          "2015-12-27T00:00:00",
          "2015-12-28T00:00:00",
          "2015-12-29T00:00:00",
          "2015-12-30T00:00:00",
          "2015-12-31T00:00:00",
          "2016-01-01T00:00:00",
          "2016-01-02T00:00:00",
          "2016-01-03T00:00:00",
          "2016-01-04T00:00:00",
          "2016-01-05T00:00:00",
          "2016-01-06T00:00:00",
          "2016-01-07T00:00:00",
          "2016-01-08T00:00:00",
          "2016-01-09T00:00:00",
          "2016-01-10T00:00:00",
          "2016-01-11T00:00:00",
          "2016-01-12T00:00:00",
          "2016-01-13T00:00:00",
          "2016-01-14T00:00:00",
          "2016-01-15T00:00:00",
          "2016-01-16T00:00:00",
          "2016-01-17T00:00:00",
          "2016-01-18T00:00:00",
          "2016-01-19T00:00:00",
          "2016-01-20T00:00:00",
          "2016-01-21T00:00:00",
          "2016-01-22T00:00:00",
          "2016-01-23T00:00:00",
          "2016-01-24T00:00:00",
          "2016-01-25T00:00:00",
          "2016-01-26T00:00:00",
          "2016-01-27T00:00:00",
          "2016-01-28T00:00:00",
          "2016-01-29T00:00:00",
          "2016-01-30T00:00:00",
          "2016-01-31T00:00:00",
          "2016-02-01T00:00:00",
          "2016-02-02T00:00:00",
          "2016-02-03T00:00:00",
          "2016-02-04T00:00:00",
          "2016-02-05T00:00:00",
          "2016-02-06T00:00:00",
          "2016-02-07T00:00:00",
          "2016-02-08T00:00:00",
          "2016-02-09T00:00:00",
          "2016-02-10T00:00:00",
          "2016-02-11T00:00:00",
          "2016-02-12T00:00:00",
          "2016-02-13T00:00:00",
          "2016-02-14T00:00:00",
          "2016-02-15T00:00:00",
          "2016-02-16T00:00:00",
          "2016-02-17T00:00:00",
          "2016-02-18T00:00:00",
          "2016-02-19T00:00:00",
          "2016-02-20T00:00:00",
          "2016-02-21T00:00:00",
          "2016-02-22T00:00:00",
          "2016-02-23T00:00:00",
          "2016-02-24T00:00:00",
          "2016-02-25T00:00:00",
          "2016-02-26T00:00:00",
          "2016-02-27T00:00:00",
          "2016-02-28T00:00:00",
          "2016-02-29T00:00:00",
          "2016-03-01T00:00:00",
          "2016-03-02T00:00:00",
          "2016-03-03T00:00:00",
          "2016-03-04T00:00:00",
          "2016-03-05T00:00:00",
          "2016-03-06T00:00:00",
          "2016-03-07T00:00:00",
          "2016-03-08T00:00:00",
          "2016-03-09T00:00:00",
          "2016-03-10T00:00:00",
          "2016-03-11T00:00:00",
          "2016-03-12T00:00:00",
          "2016-03-13T00:00:00",
          "2016-03-14T00:00:00",
          "2016-03-15T00:00:00",
          "2016-03-16T00:00:00",
          "2016-03-17T00:00:00",
          "2016-03-18T00:00:00",
          "2016-03-19T00:00:00",
          "2016-03-20T00:00:00",
          "2016-03-21T00:00:00",
          "2016-03-22T00:00:00",
          "2016-03-23T00:00:00",
          "2016-03-24T00:00:00",
          "2016-03-25T00:00:00",
          "2016-03-26T00:00:00",
          "2016-03-27T00:00:00",
          "2016-03-28T00:00:00",
          "2016-03-29T00:00:00",
          "2016-03-30T00:00:00",
          "2016-03-31T00:00:00",
          "2016-04-01T00:00:00",
          "2016-04-02T00:00:00",
          "2016-04-03T00:00:00",
          "2016-04-04T00:00:00",
          "2016-04-05T00:00:00",
          "2016-04-06T00:00:00",
          "2016-04-07T00:00:00",
          "2016-04-08T00:00:00",
          "2016-04-09T00:00:00",
          "2016-04-10T00:00:00",
          "2016-04-11T00:00:00",
          "2016-04-12T00:00:00",
          "2016-04-13T00:00:00",
          "2016-04-14T00:00:00",
          "2016-04-15T00:00:00",
          "2016-04-16T00:00:00",
          "2016-04-17T00:00:00",
          "2016-04-18T00:00:00",
          "2016-04-19T00:00:00",
          "2016-04-20T00:00:00",
          "2016-04-21T00:00:00",
          "2016-04-22T00:00:00",
          "2016-04-23T00:00:00",
          "2016-04-24T00:00:00",
          "2016-04-25T00:00:00",
          "2016-04-26T00:00:00",
          "2016-04-27T00:00:00",
          "2016-04-28T00:00:00",
          "2016-04-29T00:00:00",
          "2016-04-30T00:00:00",
          "2016-05-01T00:00:00",
          "2016-05-02T00:00:00",
          "2016-05-03T00:00:00",
          "2016-05-04T00:00:00",
          "2016-05-05T00:00:00",
          "2016-05-06T00:00:00",
          "2016-05-07T00:00:00",
          "2016-05-08T00:00:00",
          "2016-05-09T00:00:00",
          "2016-05-10T00:00:00",
          "2016-05-11T00:00:00",
          "2016-05-12T00:00:00",
          "2016-05-13T00:00:00",
          "2016-05-14T00:00:00",
          "2016-05-15T00:00:00",
          "2016-05-16T00:00:00",
          "2016-05-17T00:00:00",
          "2016-05-18T00:00:00",
          "2016-05-19T00:00:00",
          "2016-05-20T00:00:00",
          "2016-05-21T00:00:00",
          "2016-05-22T00:00:00",
          "2016-05-23T00:00:00",
          "2016-05-24T00:00:00",
          "2016-05-25T00:00:00",
          "2016-05-26T00:00:00",
          "2016-05-27T00:00:00",
          "2016-05-28T00:00:00",
          "2016-05-29T00:00:00",
          "2016-05-30T00:00:00",
          "2016-05-31T00:00:00",
          "2016-06-01T00:00:00",
          "2016-06-02T00:00:00",
          "2016-06-03T00:00:00",
          "2016-06-04T00:00:00",
          "2016-06-05T00:00:00",
          "2016-06-06T00:00:00",
          "2016-06-07T00:00:00",
          "2016-06-08T00:00:00",
          "2016-06-09T00:00:00",
          "2016-06-10T00:00:00",
          "2016-06-11T00:00:00",
          "2016-06-12T00:00:00",
          "2016-06-13T00:00:00",
          "2016-06-14T00:00:00",
          "2016-06-15T00:00:00",
          "2016-06-16T00:00:00",
          "2016-06-17T00:00:00",
          "2016-06-18T00:00:00",
          "2016-06-19T00:00:00",
          "2016-06-20T00:00:00",
          "2016-06-21T00:00:00",
          "2016-06-22T00:00:00",
          "2016-06-23T00:00:00",
          "2016-06-24T00:00:00",
          "2016-06-25T00:00:00",
          "2016-06-26T00:00:00",
          "2016-06-27T00:00:00",
          "2016-06-28T00:00:00",
          "2016-06-29T00:00:00",
          "2016-06-30T00:00:00",
          "2016-07-01T00:00:00",
          "2016-07-02T00:00:00",
          "2016-07-03T00:00:00",
          "2016-07-04T00:00:00",
          "2016-07-05T00:00:00",
          "2016-07-06T00:00:00",
          "2016-07-07T00:00:00",
          "2016-07-08T00:00:00",
          "2016-07-09T00:00:00",
          "2016-07-10T00:00:00",
          "2016-07-11T00:00:00",
          "2016-07-12T00:00:00",
          "2016-07-13T00:00:00",
          "2016-07-14T00:00:00",
          "2016-07-15T00:00:00",
          "2016-07-16T00:00:00",
          "2016-07-17T00:00:00",
          "2016-07-18T00:00:00",
          "2016-07-19T00:00:00",
          "2016-07-20T00:00:00",
          "2016-07-21T00:00:00",
          "2016-07-22T00:00:00",
          "2016-07-23T00:00:00",
          "2016-07-24T00:00:00",
          "2016-07-25T00:00:00",
          "2016-07-26T00:00:00",
          "2016-07-27T00:00:00",
          "2016-07-28T00:00:00",
          "2016-07-29T00:00:00",
          "2016-07-30T00:00:00",
          "2016-07-31T00:00:00",
          "2016-08-01T00:00:00",
          "2016-08-02T00:00:00",
          "2016-08-03T00:00:00",
          "2016-08-04T00:00:00",
          "2016-08-05T00:00:00",
          "2016-08-06T00:00:00",
          "2016-08-07T00:00:00",
          "2016-08-08T00:00:00",
          "2016-08-09T00:00:00",
          "2016-08-10T00:00:00",
          "2016-08-11T00:00:00",
          "2016-08-12T00:00:00",
          "2016-08-13T00:00:00",
          "2016-08-14T00:00:00",
          "2016-08-15T00:00:00",
          "2016-08-16T00:00:00",
          "2016-08-17T00:00:00",
          "2016-08-18T00:00:00",
          "2016-08-19T00:00:00",
          "2016-08-20T00:00:00",
          "2016-08-21T00:00:00",
          "2016-08-22T00:00:00",
          "2016-08-23T00:00:00",
          "2016-08-24T00:00:00",
          "2016-08-25T00:00:00",
          "2016-08-26T00:00:00",
          "2016-08-27T00:00:00",
          "2016-08-28T00:00:00",
          "2016-08-29T00:00:00",
          "2016-08-30T00:00:00",
          "2016-08-31T00:00:00",
          "2016-09-01T00:00:00",
          "2016-09-02T00:00:00",
          "2016-09-03T00:00:00",
          "2016-09-04T00:00:00",
          "2016-09-05T00:00:00",
          "2016-09-06T00:00:00",
          "2016-09-07T00:00:00",
          "2016-09-08T00:00:00",
          "2016-09-09T00:00:00",
          "2016-09-10T00:00:00",
          "2016-09-11T00:00:00",
          "2016-09-12T00:00:00",
          "2016-09-13T00:00:00",
          "2016-09-14T00:00:00",
          "2016-09-15T00:00:00",
          "2016-09-16T00:00:00",
          "2016-09-17T00:00:00",
          "2016-09-18T00:00:00",
          "2016-09-19T00:00:00",
          "2016-09-20T00:00:00",
          "2016-09-21T00:00:00",
          "2016-09-22T00:00:00",
          "2016-09-23T00:00:00",
          "2016-09-24T00:00:00",
          "2016-09-25T00:00:00",
          "2016-09-26T00:00:00",
          "2016-09-27T00:00:00",
          "2016-09-28T00:00:00",
          "2016-09-29T00:00:00",
          "2016-09-30T00:00:00",
          "2016-10-01T00:00:00",
          "2016-10-02T00:00:00",
          "2016-10-03T00:00:00",
          "2016-10-04T00:00:00",
          "2016-10-05T00:00:00",
          "2016-10-06T00:00:00",
          "2016-10-07T00:00:00",
          "2016-10-08T00:00:00",
          "2016-10-09T00:00:00",
          "2016-10-10T00:00:00",
          "2016-10-11T00:00:00",
          "2016-10-12T00:00:00",
          "2016-10-13T00:00:00",
          "2016-10-14T00:00:00",
          "2016-10-15T00:00:00",
          "2016-10-16T00:00:00",
          "2016-10-17T00:00:00",
          "2016-10-18T00:00:00",
          "2016-10-19T00:00:00",
          "2016-10-20T00:00:00",
          "2016-10-21T00:00:00",
          "2016-10-22T00:00:00",
          "2016-10-23T00:00:00",
          "2016-10-24T00:00:00",
          "2016-10-25T00:00:00",
          "2016-10-26T00:00:00",
          "2016-10-27T00:00:00",
          "2016-10-28T00:00:00",
          "2016-10-29T00:00:00",
          "2016-10-30T00:00:00",
          "2016-10-31T00:00:00",
          "2016-11-01T00:00:00",
          "2016-11-02T00:00:00",
          "2016-11-03T00:00:00",
          "2016-11-04T00:00:00",
          "2016-11-05T00:00:00",
          "2016-11-06T00:00:00",
          "2016-11-07T00:00:00",
          "2016-11-08T00:00:00",
          "2016-11-09T00:00:00",
          "2016-11-10T00:00:00",
          "2016-11-11T00:00:00",
          "2016-11-12T00:00:00",
          "2016-11-13T00:00:00",
          "2016-11-14T00:00:00",
          "2016-11-15T00:00:00",
          "2016-11-16T00:00:00",
          "2016-11-17T00:00:00",
          "2016-11-18T00:00:00",
          "2016-11-19T00:00:00",
          "2016-11-20T00:00:00",
          "2016-11-21T00:00:00",
          "2016-11-22T00:00:00",
          "2016-11-23T00:00:00",
          "2016-11-24T00:00:00",
          "2016-11-25T00:00:00",
          "2016-11-26T00:00:00",
          "2016-11-27T00:00:00",
          "2016-11-28T00:00:00",
          "2016-11-29T00:00:00",
          "2016-11-30T00:00:00",
          "2016-12-01T00:00:00",
          "2016-12-02T00:00:00",
          "2016-12-03T00:00:00",
          "2016-12-04T00:00:00",
          "2016-12-05T00:00:00",
          "2016-12-06T00:00:00",
          "2016-12-07T00:00:00",
          "2016-12-08T00:00:00",
          "2016-12-09T00:00:00",
          "2016-12-10T00:00:00",
          "2016-12-11T00:00:00",
          "2016-12-12T00:00:00",
          "2016-12-13T00:00:00",
          "2016-12-14T00:00:00",
          "2016-12-15T00:00:00",
          "2016-12-16T00:00:00",
          "2016-12-17T00:00:00",
          "2016-12-18T00:00:00",
          "2016-12-19T00:00:00",
          "2016-12-20T00:00:00",
          "2016-12-21T00:00:00",
          "2016-12-22T00:00:00",
          "2016-12-23T00:00:00",
          "2016-12-24T00:00:00",
          "2016-12-25T00:00:00",
          "2016-12-26T00:00:00",
          "2016-12-27T00:00:00",
          "2016-12-28T00:00:00",
          "2016-12-29T00:00:00",
          "2016-12-30T00:00:00",
          "2016-12-31T00:00:00",
          "2017-01-01T00:00:00",
          "2017-01-02T00:00:00",
          "2017-01-03T00:00:00",
          "2017-01-04T00:00:00",
          "2017-01-05T00:00:00",
          "2017-01-06T00:00:00",
          "2017-01-07T00:00:00",
          "2017-01-08T00:00:00",
          "2017-01-09T00:00:00",
          "2017-01-10T00:00:00",
          "2017-01-11T00:00:00",
          "2017-01-12T00:00:00",
          "2017-01-13T00:00:00",
          "2017-01-14T00:00:00",
          "2017-01-15T00:00:00",
          "2017-01-16T00:00:00",
          "2017-01-17T00:00:00",
          "2017-01-18T00:00:00",
          "2017-01-19T00:00:00",
          "2017-01-20T00:00:00",
          "2017-01-21T00:00:00",
          "2017-01-22T00:00:00",
          "2017-01-23T00:00:00",
          "2017-01-24T00:00:00",
          "2017-01-25T00:00:00",
          "2017-01-26T00:00:00",
          "2017-01-27T00:00:00",
          "2017-01-28T00:00:00",
          "2017-01-29T00:00:00",
          "2017-01-30T00:00:00",
          "2017-01-31T00:00:00",
          "2017-02-01T00:00:00",
          "2017-02-02T00:00:00",
          "2017-02-03T00:00:00",
          "2017-02-04T00:00:00",
          "2017-02-05T00:00:00",
          "2017-02-06T00:00:00",
          "2017-02-07T00:00:00",
          "2017-02-08T00:00:00",
          "2017-02-09T00:00:00",
          "2017-02-10T00:00:00",
          "2017-02-11T00:00:00",
          "2017-02-12T00:00:00",
          "2017-02-13T00:00:00",
          "2017-02-14T00:00:00",
          "2017-02-15T00:00:00",
          "2017-02-16T00:00:00",
          "2017-02-17T00:00:00",
          "2017-02-18T00:00:00",
          "2017-02-19T00:00:00",
          "2017-02-20T00:00:00",
          "2017-02-21T00:00:00",
          "2017-02-22T00:00:00",
          "2017-02-23T00:00:00",
          "2017-02-24T00:00:00",
          "2017-02-25T00:00:00",
          "2017-02-26T00:00:00",
          "2017-02-27T00:00:00",
          "2017-02-28T00:00:00",
          "2017-03-01T00:00:00",
          "2017-03-02T00:00:00",
          "2017-03-03T00:00:00",
          "2017-03-04T00:00:00",
          "2017-03-05T00:00:00",
          "2017-03-06T00:00:00",
          "2017-03-07T00:00:00",
          "2017-03-08T00:00:00",
          "2017-03-09T00:00:00",
          "2017-03-10T00:00:00",
          "2017-03-11T00:00:00",
          "2017-03-12T00:00:00",
          "2017-03-13T00:00:00",
          "2017-03-14T00:00:00",
          "2017-03-15T00:00:00",
          "2017-03-16T00:00:00",
          "2017-03-17T00:00:00",
          "2017-03-18T00:00:00",
          "2017-03-19T00:00:00",
          "2017-03-20T00:00:00",
          "2017-03-21T00:00:00",
          "2017-03-22T00:00:00",
          "2017-03-23T00:00:00",
          "2017-03-24T00:00:00",
          "2017-03-25T00:00:00",
          "2017-03-26T00:00:00",
          "2017-03-27T00:00:00",
          "2017-03-28T00:00:00",
          "2017-03-29T00:00:00",
          "2017-03-30T00:00:00",
          "2017-03-31T00:00:00",
          "2017-04-01T00:00:00",
          "2017-04-02T00:00:00",
          "2017-04-03T00:00:00",
          "2017-04-04T00:00:00",
          "2017-04-05T00:00:00",
          "2017-04-06T00:00:00",
          "2017-04-07T00:00:00",
          "2017-04-08T00:00:00",
          "2017-04-09T00:00:00",
          "2017-04-10T00:00:00",
          "2017-04-11T00:00:00",
          "2017-04-12T00:00:00",
          "2017-04-13T00:00:00",
          "2017-04-14T00:00:00",
          "2017-04-15T00:00:00",
          "2017-04-16T00:00:00",
          "2017-04-17T00:00:00",
          "2017-04-18T00:00:00",
          "2017-04-19T00:00:00",
          "2017-04-20T00:00:00",
          "2017-04-21T00:00:00",
          "2017-04-22T00:00:00",
          "2017-04-23T00:00:00",
          "2017-04-24T00:00:00",
          "2017-04-25T00:00:00",
          "2017-04-26T00:00:00",
          "2017-04-27T00:00:00",
          "2017-04-28T00:00:00",
          "2017-04-29T00:00:00",
          "2017-04-30T00:00:00",
          "2017-05-01T00:00:00",
          "2017-05-02T00:00:00",
          "2017-05-03T00:00:00",
          "2017-05-04T00:00:00",
          "2017-05-05T00:00:00",
          "2017-05-06T00:00:00",
          "2017-05-07T00:00:00",
          "2017-05-08T00:00:00",
          "2017-05-09T00:00:00",
          "2017-05-10T00:00:00",
          "2017-05-11T00:00:00",
          "2017-05-12T00:00:00",
          "2017-05-13T00:00:00",
          "2017-05-14T00:00:00",
          "2017-05-15T00:00:00",
          "2017-05-16T00:00:00",
          "2017-05-17T00:00:00",
          "2017-05-18T00:00:00",
          "2017-05-19T00:00:00",
          "2017-05-20T00:00:00",
          "2017-05-21T00:00:00",
          "2017-05-22T00:00:00",
          "2017-05-23T00:00:00",
          "2017-05-24T00:00:00",
          "2017-05-25T00:00:00",
          "2017-05-26T00:00:00",
          "2017-05-27T00:00:00",
          "2017-05-28T00:00:00",
          "2017-05-29T00:00:00",
          "2017-05-30T00:00:00",
          "2017-05-31T00:00:00",
          "2017-06-01T00:00:00",
          "2017-06-02T00:00:00",
          "2017-06-03T00:00:00",
          "2017-06-04T00:00:00",
          "2017-06-05T00:00:00",
          "2017-06-06T00:00:00",
          "2017-06-07T00:00:00",
          "2017-06-08T00:00:00",
          "2017-06-09T00:00:00",
          "2017-06-10T00:00:00",
          "2017-06-11T00:00:00",
          "2017-06-12T00:00:00",
          "2017-06-13T00:00:00",
          "2017-06-14T00:00:00",
          "2017-06-15T00:00:00",
          "2017-06-16T00:00:00",
          "2017-06-17T00:00:00",
          "2017-06-18T00:00:00",
          "2017-06-19T00:00:00",
          "2017-06-20T00:00:00",
          "2017-06-21T00:00:00",
          "2017-06-22T00:00:00",
          "2017-06-23T00:00:00",
          "2017-06-24T00:00:00",
          "2017-06-25T00:00:00",
          "2017-06-26T00:00:00",
          "2017-06-27T00:00:00",
          "2017-06-28T00:00:00",
          "2017-06-29T00:00:00",
          "2017-06-30T00:00:00"
         ],
         "xaxis": "x",
         "y": [
          null,
          null,
          null,
          null,
          null,
          null,
          null,
          null,
          null,
          null,
          null,
          null,
          null,
          null,
          null,
          null,
          null,
          null,
          null,
          null,
          null,
          null,
          null,
          null,
          null,
          null,
          null,
          null,
          null,
          2269060386761.3667,
          2292346813273.8335,
          2329320183049.067,
          2361740527701.567,
          2397565183704.6333,
          2470989654821.467,
          2499997115563.7666,
          2485699517069.6333,
          2483237648398.3,
          2518506832791.3335,
          2565988743594.7334,
          2519713290720.8,
          2545307227317.3667,
          2478775287970.5,
          2489421112416.8335,
          2462757489945.1,
          2436857078129.7334,
          2403781851008.8335,
          2430962681953.967,
          2462744964080.933,
          2420055987325.7666,
          2333393697813.7,
          2266778168242.033,
          2229505104417.3667,
          2278315894721.2334,
          2317486421486.7334,
          2312155854750.2666,
          2286166802383.6,
          2354981393610.533,
          2377639084360.5,
          2447766169907.5,
          2528404248691.3335,
          2566315792339,
          2577090130759.3667,
          2590692536487.4,
          2540054026611,
          2487782262515.067,
          2451726093672.1333,
          2456397866010.433,
          2454161583477.2666,
          2422673049583.3335,
          2427777401963.3,
          2437866385058.3335,
          2442590517309,
          2386957148775.7,
          2385420299578.933,
          2370773586865.6665,
          2370494405145.3335,
          2373095779601.2666,
          2374611581401.467,
          2360453121064.8,
          2333789700994.067,
          2331626016638.933,
          2344639580186,
          2351111988048.7334,
          2324718747628.4,
          2357113811677.6,
          2316213763814.2,
          2271664513411.2,
          2306641454250.967,
          2280815234530.033,
          2315740178410.467,
          2314720226194.2334,
          2303441737098.533,
          2283911685531.3667,
          2257512836730.8,
          2271212097428.533,
          2297865761346.7,
          2323822694323.433,
          2298568912522.467,
          2289570971226.7334,
          2260991888264.4,
          2199519334985.8667,
          2230442957825.467,
          2254262235879.433,
          2235969645115.067,
          2269396289790.967,
          2260849093579.8667,
          2222249812250.4,
          2185591432586.0334,
          2200867055101.4,
          2242708614670.2,
          2252005561172.567,
          2269918498241.9,
          2260359712585.533,
          2257735429360.8,
          2205287634896.2334,
          2236873738299.433,
          2266018087655.6665,
          2270373598014.2334,
          2290321851623.7,
          2212019724668.1333,
          2147901792275.7666,
          2109652629464.4,
          2093245131245.8667,
          2131422324327.1,
          2195453023954.7334,
          2223465965316.6665,
          2223287483076.8335,
          2216436540350.1333,
          2170928561313.2,
          2208365245305.6665,
          2282744581956.3667,
          2266671711734.7666,
          2244723312912.567,
          2254508590511.1,
          2245580300551.433,
          2238816751519.7,
          2259649916481.1333,
          2358872241175.4,
          2392875299497.9,
          2399932479534.2666,
          2399414948002.4,
          2392225461191.467,
          2339420818667.467,
          2346406379809.8335,
          2372284013924.1,
          2388434064582.7666,
          2396902822359.2,
          2384496746541.467,
          2373963499940.7666,
          2401794172192.567,
          2452439119140.7334,
          2492971776690.5,
          2565306096261.433,
          2602646968814.8,
          2662655374022.1333,
          2630189557698.967,
          2626710467122.3667,
          2597369747975.1,
          2659553688359.567,
          2703355543097.8,
          2743507581375.9,
          2770833860969.067,
          2770168202175.3667,
          2879829753552.6665,
          3042732570957.2,
          3164638107451.3335,
          3278300706798.2,
          3267610449289.3,
          3304489715976.8335,
          3379676355635.8667,
          3414493885076.4,
          3449009206462.2666,
          3598842028233.933,
          3643921211442.8667,
          3583124288407.533,
          3715475256582.933,
          3900942755600.533,
          3892228802467.8335,
          3922543658490.967,
          3932295376554.4,
          3912585751684.8667,
          3931357448473.8,
          3951905763803.8335,
          3931833523586.1,
          3809706217808.533,
          3831582299649.433,
          3756989641899.3,
          3735660886783.2,
          3684661307030.1333,
          3658048349332.467,
          3568441389999.8,
          3562465360282.5,
          3569482233071.1333,
          3507733589482.2666,
          3404402681597.7666,
          3339341096122.433,
          3255172282189.7334,
          3210395383585.9,
          3126779554392.6333,
          3113147807203.2666,
          3153051298069.2666,
          3142116003649.067,
          3053209973938.1665,
          3086631286192.967,
          3146463098944.7666,
          2971291641363.533,
          2819722318673.3335,
          2832854006853.6333,
          2874575782557.033,
          2888640544854.3667,
          2914235049245.533,
          2859968418425,
          2737297527663.067,
          2689254117483.6,
          2663764139183.033,
          2711879598565.8335,
          2777543896964.8,
          2893836806836.8,
          2952099434929.5,
          2868164613871.8335,
          2907222563520.6333,
          2909407949075.433,
          2974611944795.1665,
          2998308041445.3667,
          2979452579932.1333,
          2953667336770.2,
          2920473207327.2666,
          2964346384901.1665,
          3032354822282.6,
          3014555499147.9,
          2960809030364.9,
          2982831385813.967,
          2964370917796.2666,
          2873929236082.6665,
          2938614435459.467,
          2996124736938.8335,
          2990444868718.9,
          2994747756556.1665,
          2948917064628.467,
          2889224886316.8335,
          2844901593653.7334,
          2927426474359.7334,
          3057449316540.067,
          3109455131542.2666,
          3178509786896.467,
          3084219932641.067,
          3080466446231.6,
          3030548497630.3335,
          3050581004787.7334,
          3147561642803.6665,
          3160858724088.467,
          3098856285817.1,
          3057962054058.2,
          2980913563639.7666,
          2932364362920.8,
          2963384689393.3667,
          3061123060894.8667,
          3027603657062.6,
          3017916781467.067,
          2988239467238.467,
          2959889361133.3335,
          2897232146105.4,
          2954886275427.8,
          3023170501561.1665,
          2979935565703.3,
          2980327418982.6,
          2988899206697.567,
          2961836967663.567,
          2902923982971.933,
          2914201798948.7334,
          2968364999516.6665,
          2934586304019.8667,
          2826719295705.933,
          2805817168600.533,
          2751812062513.2,
          2712568878567.8667,
          2647156194281.7666,
          2584314227088.067,
          2516054089882.8667,
          2502908246395.3,
          2407913168394.967,
          2363109548038.2,
          2257057521654.467,
          2205939931352.8,
          2153127335281.6,
          2132162397380.5667,
          2163999270760.3,
          2161425816531.6,
          2109736188798.4666,
          2084033383780.6333,
          2086052500837.6333,
          2111361648050.5,
          2081343672900.7,
          2075557488489.6,
          2038251151109.7666,
          1991245825467.7666,
          1986780109251.7666,
          1960678424609.3333,
          1937829020412.9333,
          1866227983727.9333,
          1758029313438.1667,
          1678334049695.8667,
          1621510340510.4333,
          1549169978360.4666,
          1567416149539.0334,
          1663459747233.2334,
          1772253809361.1333,
          1883642560886.4,
          1873850451456.5667,
          1823805031381.7,
          1876663563655.4333,
          1914656156335.1,
          1960473754366.1333,
          2001805785399.2334,
          2032715768618.7,
          2001737221547.2,
          1845137600973.1333,
          1785188612378.3667,
          1790426516914.6,
          1765539663661.0667,
          1741750993147.1,
          1720211997623,
          1645982744161.0334,
          1558766016276.4,
          1523564550461.7,
          1517324348511.5,
          1461097769511.7,
          1478298980776.2334,
          1525065993751.9333,
          1560910549984.2666,
          1579248746694.3,
          1589445697788.9333,
          1686287242322.3,
          1766687344229.5,
          1770117981992.2,
          1707944693919.0334,
          1603830889607.4666,
          1541299945907.2666,
          1534586298093.3333,
          1542774625922.7666,
          1561044376057.9,
          1624392220487.3333,
          1697826414706.8333,
          1702466933941,
          1827411305188.7666,
          1818713143840.8333,
          1887724284943.1,
          1924245931107.1,
          1958157220969.0667,
          1993271042305.1,
          2012817873675.0667,
          2005531759147.5,
          2023739062833.6,
          2066935067528.3667,
          2071400432258.3333,
          2105677718959.9333,
          2110879713036.5667,
          2105219040308.9,
          2109732711152.5667,
          2104549376814.1667,
          2119912482214.9666,
          2141955368040.5,
          2088509408308.8667,
          2048113985879.2334,
          2002404994868.4333,
          1989044870613.5334,
          2014255110571.1667,
          1997494357691.8333,
          2011003235035.7666,
          2008260769315.7666,
          1991829354618.9333,
          1946043280658.2,
          1847857802249.4333,
          1947358220714,
          1890895981820.3667,
          1908103139205.3,
          1918814919139.4333,
          1907643241316.7666,
          1867577455671.9666,
          1899577060950.3667,
          1889071222716.1,
          1925644293970.2,
          1951529847399.1,
          1946978598164.6667,
          2028859479766.9,
          2010124428407.9666,
          2026521135059.4333,
          2007128165547.1333,
          1972751961915.5,
          2005449318595.0667,
          2028976636455.3333,
          2026919840430.1667,
          2008573050098.0667,
          2014428994928.3667,
          2008916040072.6333,
          2012736522967.5667,
          2010771396521.2,
          2010187542069.5,
          2014129849357.1,
          1995285764628.2334,
          1975170802747.2,
          1945639097042.4333,
          1949102058054.1333,
          1835719340875.4,
          1755952441635.4333,
          1733987361572.3333,
          1676518797900.9333,
          1664534171000.2,
          1655084723770.0334,
          1637688804808.9,
          1644519336505,
          1632247403246.8667,
          1639458372504.8333,
          1622513419013.4,
          1554481221521.6333,
          1526435521317.4333,
          1508010839152.0334,
          1553312741532.5334,
          1577704527183.3333,
          1564239920580.1333,
          1588485526448.9,
          1730306354039.3667,
          1718434263592.0667,
          1681648712798.0334,
          1669299738540.8667,
          1751687363454.3,
          1796863856615.3667,
          1841931129888.0334,
          1873636234676.6,
          1870211416194.4,
          1915950154221.5667,
          1967526360790.8,
          1988413957603.1,
          2024661404332.7334,
          2085213170886.7,
          2084181665210.0334,
          2069122438809.6333,
          2071577159887.7334,
          2050834494556.6333,
          2045394477950.2,
          2025327643309.2666,
          2032394742620.4,
          2000777209194.8333,
          1990676474483.2666,
          1984624184117.4666,
          2016462784904.4666,
          2030081159460.3,
          2057685218819.5667,
          2052708720199.1667,
          2036195363018.4,
          2003488424997.9333,
          1876322174915.3,
          1902284443969.9666,
          1972878720553.6667,
          2022375424770.5,
          1944961834577.0334,
          1919860803551.0334,
          1864969302219.0334,
          1834012719923.3333,
          1856315487412.0667,
          1830820824227.7,
          1804510981701.7666,
          1808535902282.1667,
          1824749408919.0334,
          1816297848282.3333,
          1816222249519.4666,
          1855298244985.5334,
          1883834566555.0667,
          1926905577742.0667,
          1914878764805.9,
          1930256767166.4666,
          1911853373927.1667,
          1906344963378.4666,
          1919039667265.5667,
          1949620156197.9,
          1979938590070.6667,
          1989885356687.2334,
          1943409868215.6333,
          1929588595793.9333,
          1927083457668.7334,
          1931299196960.9666,
          1916139012545.3,
          1876584760967.3333,
          1796361027905.8333,
          1760515179030.4666,
          1733738037507.4,
          1682684310066.7666,
          1657542343589.7666,
          1606096949530.1333,
          1545888359222.0667,
          1484924398157.1333,
          1434462751737.7,
          1384437570219.5334,
          1293828338379.2,
          1219387581955.2334,
          1182384736985.3333,
          1117493565169.4,
          1042199377858.2,
          984450869311.0333,
          916235017731.7,
          856961131949.1,
          802692039336.8,
          753118799271.4667,
          697883260923.8334,
          633030479368.9667,
          533644261863.36664,
          460651115000.43335,
          405561688614,
          375094738059.9,
          339206959532.26666,
          280440721893.56665,
          242858308900,
          240887615124.33334,
          239045310107.43332,
          222375855837.03333,
          219601262472.1,
          220245764597.6,
          217523449866.73334,
          216896004080.86667,
          215802548160.96667,
          215193786027.13333,
          212871951169.16666,
          210776735806.3,
          210325426655.06668,
          207888575593.23334,
          204039264992.46667,
          201851982115.76666,
          199334591775.2,
          204270369210.2,
          204865619910.06668,
          202375165433.4,
          204821283590.13333,
          204832260930.13333,
          204876725199.7,
          201725167767.46667,
          203420484732.16666,
          204140062824.83334,
          203048012105.46667,
          208056789975.43332,
          209573990300.56668,
          210590116003.83334,
          207688496523.03333,
          203940388300.2,
          203930979937.63333,
          201006390004.06668,
          196624573561.7,
          191769898387.13333,
          192398008328.76666,
          189005653915.16666,
          187567349398.83334,
          189262698198.23334,
          186979452070.2,
          187864905042.53333,
          187617374999.63333,
          186640510101.63333,
          187397304190.56668,
          185604418691.53333,
          184567933673.4,
          175779739212.93332,
          173644427493.6,
          172877016096.6,
          166955457864.63333,
          163716752465.83334,
          161288800938.93332,
          159349963236.9,
          156404475519.3,
          153620317497.33334,
          151108845110.43332,
          141663151809.86667,
          135977818748.73334,
          132250413370.23334,
          130779434403.93333,
          130117779532.3,
          127514828357.33333,
          124897136041.83333,
          124639229898.06667,
          121596871700.76666,
          118245420204.16667,
          117908993843.33333,
          119423107564.4,
          114711450014.56667,
          116151188930.4,
          112865533165.03334,
          112384389662.26666,
          110560491220.3,
          108456831126.7,
          106289163985.03334,
          104343236686.1,
          107234626583.73334,
          106591929990.66667,
          104657273310.2,
          104855419127,
          106072698007.43333,
          109557140178.83333,
          110868688255.2,
          109175703816.83333,
          107979025051.06667,
          108118473497.66667,
          109717059731.83333,
          110088800116.6,
          111320472798.4,
          110793742910.26666,
          110285557453.33333,
          108689449211.63333,
          108637537721.63333,
          107729414771,
          110559407700.3,
          110389196413.96666,
          108900529946.13333,
          104693617906.76666,
          102899774827.73334,
          100223066525.36667,
          101261026097.3,
          101477901337.2,
          102849841382.66667,
          102416102955.16667,
          100934036838.96666,
          99747923882.1,
          96549894566.13333,
          96513577105.13333,
          96141314654.6,
          94886414208.06667,
          93552194827.36667,
          91448141122.13333,
          89441797630,
          89695190388.5,
          89762829009.53334,
          90381303169.73334,
          88693664008.6,
          88533441654.86667,
          89499661096.46666,
          89196351826.23334,
          88454387946.03334,
          90673551209.6,
          91207677591.03334,
          93578321588.2,
          90957163160.93333,
          90119927402.83333,
          89642430234.2,
          88967943001.76666,
          93053374936.9,
          92033530088.06667,
          92147130280.06667,
          89591566156.86667,
          87066120132.9,
          86051826116.36667,
          85300291368.6,
          85349036435.46666,
          85673561334.76666,
          89044129202.26666,
          90990818185.06667,
          91092709688.9,
          90853642335,
          88539826328.53334,
          89323971127.56667,
          88930448138.93333,
          89238087354.46666,
          88530735555.03334,
          88219178816.56667,
          89173434406.03334,
          85699060256.9,
          88455224038.83333,
          88432826706.13333,
          86052709347.4,
          85422395897.76666,
          82927786898.63333,
          84103068016.8,
          83734972744.03334,
          83992742672.36667,
          87516341288.5,
          83359936073.16667,
          83821666049.43333,
          82400655375.93333,
          82116936519.7,
          82423806015.56667,
          82745378041.13333,
          82942675063.63333,
          83185980202.7,
          82634750943.16667,
          79090298136.7,
          77260418099.86667,
          77059604184.7,
          77270219538.36667,
          77129121210.63333,
          76656205997.83333,
          76707814906.66667,
          78269849741.9,
          78312454696.36667,
          78404327178.96666,
          77646104298.43333,
          77538870510.53334,
          79659203128.23334,
          80076358758.83333,
          79905214758.03334,
          78698983249.73334,
          78389653419.76666,
          77626941242,
          77397272302.66667,
          76096854606.46666,
          72412423258.76666,
          72006207669.63333,
          71456982566.4,
          71280583060.26666,
          71795508494.36667,
          72267052438.53334,
          72055948909.3,
          71966849301.36667,
          71333837508.3,
          70845074547.93333,
          70061341796.56667,
          70010520555.33333,
          70460467004.33333,
          69905059925.03334,
          69436050771.2,
          69102599655.9,
          68952792420.43333,
          66220164230.73333,
          66242317559.76667,
          69621692364.33333,
          69687397067.66667,
          69477255139.03334,
          81036349178.86667,
          80533881956.8,
          80170582182.6,
          80331074073.93333,
          83581502678.3,
          85148269504.83333,
          84711207082.46666,
          92291228421.16667,
          92413923229.03334,
          91814059939,
          91980854955.96666,
          91080247219.03334,
          93126194980.06667,
          102926961414.33333,
          109869169300.96666,
          109817143574.96666,
          110034800947.56667,
          110372850619.2,
          110815238049.4,
          111026147788.8,
          110589887176.26666,
          110783574529.13333,
          111464400666.2,
          110991260931.1,
          111044903807.76666,
          111295616293.43333,
          112645631206,
          109357502877.8,
          108653341535.2,
          109475222301.56667,
          92559118122.43333,
          92238942065.13333,
          92139097583.63333,
          92425155533.56667,
          89634078083.26666,
          88245828854.1,
          88364904445.26666,
          81371427122.23334,
          81276244845.86667,
          81547095034.26666,
          81478722126.03334,
          81619723040.43333,
          78055393998.43333,
          68005929429.4,
          60690285577.9,
          60446645324.833336,
          59969892949.46667,
          60384998038.76667,
          60357851519,
          60762320727.4,
          63165209636.3,
          66238167232.5,
          66104233861.23333,
          66805894293.73333,
          66975995394.53333,
          69261464206.06667,
          68247602738.566666,
          69233740702.66667,
          70116330026.23334,
          69706796587.46666,
          69884880769.23334,
          70538457945.86667,
          71076096524.8,
          72158769963.63333,
          72032136801.33333,
          70628407448.4,
          70454279880.86667,
          69598399980.53334,
          69417684123.8,
          68992908916.73334,
          68562038279.46667,
          68618529589.36667,
          69351113555.3,
          68317464893.433334,
          68615908371.666664,
          68662602719.066666,
          68908612006.06667,
          68942088660.1,
          68346949295.8,
          67567258544.833336,
          65238659851.166664,
          63062695009.2,
          62586877330,
          62102169344.666664,
          62767630563.5,
          64040054130.066666,
          65353710539.4,
          64184702415.86667,
          63176087779.8,
          63065611420.6,
          63082373186.5,
          62868372951.2,
          63306690383.566666,
          61554648341.566666,
          61375885715.066666,
          61911715970.833336,
          61970782715.76667,
          63062542150.53333,
          63225896438.5,
          63530785145.4,
          63744649335.4,
          63112003575.13333,
          63514307489.5,
          63188768523,
          63712753733.13333,
          63517888213.7,
          63340605313.666664,
          62210436599.2,
          61909878912.433334,
          61845703035.333336,
          61205501219.96667,
          59625788789.066666,
          59311692984.933334,
          58698053415.5,
          57486960734.833336,
          53324908888.86667,
          50738598549.666664,
          52082049775.96667,
          51484098752.833336,
          52059743516.86667,
          51216911345.76667,
          50242612924.13333,
          48621346936.1,
          48092914399.7,
          46967858900.933334,
          46139184890.23333,
          47028235195.2,
          45855603432.166664,
          48231600912.53333,
          48890003700.2,
          48380294160.7,
          51311170056.76667,
          50272750973,
          50201174050.63333,
          48864442249.26667,
          48405773555.433334,
          48186125855.666664,
          48289418731.76667,
          48189862543.2,
          47421199416.76667,
          47228273834.166664,
          46882088223.166664,
          46411190960.36667,
          48835506042.76667,
          48284003660.1,
          48090042703.36667,
          47613014497.666664,
          46716284895.96667,
          46510107789.8,
          47063516107.566666,
          48008734256.46667,
          51518901407.6,
          51846568298.23333,
          52903552487.6,
          54958578785.2,
          55246330327.066666,
          54196396303.03333,
          53916732746.333336,
          51612902360.4,
          51129667007.666664,
          52883282262.2,
          50753964169.6,
          50548504000.8,
          51185491041.86667,
          51114979938.96667,
          50947111827.6,
          51136876502.4,
          50717308684.433334,
          50494559751.7,
          50641799359.6,
          50393907431.4,
          50802619851.73333,
          50812157281.76667,
          48293954032.2,
          48623821887.3,
          48451527423.3,
          48626848608.46667,
          48210837077.96667,
          51394318647.8,
          48930590199.5,
          47815543445.36667,
          44627883930.13333,
          47422178930.666664,
          46209713240.4,
          44584213084.2,
          43774762248.7,
          43907208149.333336,
          43926483706.26667,
          42999731882.26667,
          42045458616.73333
         ],
         "yaxis": "y"
        }
       ],
       "layout": {
        "height": 600,
        "legend": {
         "title": {
          "text": "identity"
         },
         "tracegroupgap": 0
        },
        "template": {
         "data": {
          "bar": [
           {
            "error_x": {
             "color": "#2a3f5f"
            },
            "error_y": {
             "color": "#2a3f5f"
            },
            "marker": {
             "line": {
              "color": "#E5ECF6",
              "width": 0.5
             },
             "pattern": {
              "fillmode": "overlay",
              "size": 10,
              "solidity": 0.2
             }
            },
            "type": "bar"
           }
          ],
          "barpolar": [
           {
            "marker": {
             "line": {
              "color": "#E5ECF6",
              "width": 0.5
             },
             "pattern": {
              "fillmode": "overlay",
              "size": 10,
              "solidity": 0.2
             }
            },
            "type": "barpolar"
           }
          ],
          "carpet": [
           {
            "aaxis": {
             "endlinecolor": "#2a3f5f",
             "gridcolor": "white",
             "linecolor": "white",
             "minorgridcolor": "white",
             "startlinecolor": "#2a3f5f"
            },
            "baxis": {
             "endlinecolor": "#2a3f5f",
             "gridcolor": "white",
             "linecolor": "white",
             "minorgridcolor": "white",
             "startlinecolor": "#2a3f5f"
            },
            "type": "carpet"
           }
          ],
          "choropleth": [
           {
            "colorbar": {
             "outlinewidth": 0,
             "ticks": ""
            },
            "type": "choropleth"
           }
          ],
          "contour": [
           {
            "colorbar": {
             "outlinewidth": 0,
             "ticks": ""
            },
            "colorscale": [
             [
              0,
              "#0d0887"
             ],
             [
              0.1111111111111111,
              "#46039f"
             ],
             [
              0.2222222222222222,
              "#7201a8"
             ],
             [
              0.3333333333333333,
              "#9c179e"
             ],
             [
              0.4444444444444444,
              "#bd3786"
             ],
             [
              0.5555555555555556,
              "#d8576b"
             ],
             [
              0.6666666666666666,
              "#ed7953"
             ],
             [
              0.7777777777777778,
              "#fb9f3a"
             ],
             [
              0.8888888888888888,
              "#fdca26"
             ],
             [
              1,
              "#f0f921"
             ]
            ],
            "type": "contour"
           }
          ],
          "contourcarpet": [
           {
            "colorbar": {
             "outlinewidth": 0,
             "ticks": ""
            },
            "type": "contourcarpet"
           }
          ],
          "heatmap": [
           {
            "colorbar": {
             "outlinewidth": 0,
             "ticks": ""
            },
            "colorscale": [
             [
              0,
              "#0d0887"
             ],
             [
              0.1111111111111111,
              "#46039f"
             ],
             [
              0.2222222222222222,
              "#7201a8"
             ],
             [
              0.3333333333333333,
              "#9c179e"
             ],
             [
              0.4444444444444444,
              "#bd3786"
             ],
             [
              0.5555555555555556,
              "#d8576b"
             ],
             [
              0.6666666666666666,
              "#ed7953"
             ],
             [
              0.7777777777777778,
              "#fb9f3a"
             ],
             [
              0.8888888888888888,
              "#fdca26"
             ],
             [
              1,
              "#f0f921"
             ]
            ],
            "type": "heatmap"
           }
          ],
          "heatmapgl": [
           {
            "colorbar": {
             "outlinewidth": 0,
             "ticks": ""
            },
            "colorscale": [
             [
              0,
              "#0d0887"
             ],
             [
              0.1111111111111111,
              "#46039f"
             ],
             [
              0.2222222222222222,
              "#7201a8"
             ],
             [
              0.3333333333333333,
              "#9c179e"
             ],
             [
              0.4444444444444444,
              "#bd3786"
             ],
             [
              0.5555555555555556,
              "#d8576b"
             ],
             [
              0.6666666666666666,
              "#ed7953"
             ],
             [
              0.7777777777777778,
              "#fb9f3a"
             ],
             [
              0.8888888888888888,
              "#fdca26"
             ],
             [
              1,
              "#f0f921"
             ]
            ],
            "type": "heatmapgl"
           }
          ],
          "histogram": [
           {
            "marker": {
             "pattern": {
              "fillmode": "overlay",
              "size": 10,
              "solidity": 0.2
             }
            },
            "type": "histogram"
           }
          ],
          "histogram2d": [
           {
            "colorbar": {
             "outlinewidth": 0,
             "ticks": ""
            },
            "colorscale": [
             [
              0,
              "#0d0887"
             ],
             [
              0.1111111111111111,
              "#46039f"
             ],
             [
              0.2222222222222222,
              "#7201a8"
             ],
             [
              0.3333333333333333,
              "#9c179e"
             ],
             [
              0.4444444444444444,
              "#bd3786"
             ],
             [
              0.5555555555555556,
              "#d8576b"
             ],
             [
              0.6666666666666666,
              "#ed7953"
             ],
             [
              0.7777777777777778,
              "#fb9f3a"
             ],
             [
              0.8888888888888888,
              "#fdca26"
             ],
             [
              1,
              "#f0f921"
             ]
            ],
            "type": "histogram2d"
           }
          ],
          "histogram2dcontour": [
           {
            "colorbar": {
             "outlinewidth": 0,
             "ticks": ""
            },
            "colorscale": [
             [
              0,
              "#0d0887"
             ],
             [
              0.1111111111111111,
              "#46039f"
             ],
             [
              0.2222222222222222,
              "#7201a8"
             ],
             [
              0.3333333333333333,
              "#9c179e"
             ],
             [
              0.4444444444444444,
              "#bd3786"
             ],
             [
              0.5555555555555556,
              "#d8576b"
             ],
             [
              0.6666666666666666,
              "#ed7953"
             ],
             [
              0.7777777777777778,
              "#fb9f3a"
             ],
             [
              0.8888888888888888,
              "#fdca26"
             ],
             [
              1,
              "#f0f921"
             ]
            ],
            "type": "histogram2dcontour"
           }
          ],
          "mesh3d": [
           {
            "colorbar": {
             "outlinewidth": 0,
             "ticks": ""
            },
            "type": "mesh3d"
           }
          ],
          "parcoords": [
           {
            "line": {
             "colorbar": {
              "outlinewidth": 0,
              "ticks": ""
             }
            },
            "type": "parcoords"
           }
          ],
          "pie": [
           {
            "automargin": true,
            "type": "pie"
           }
          ],
          "scatter": [
           {
            "fillpattern": {
             "fillmode": "overlay",
             "size": 10,
             "solidity": 0.2
            },
            "type": "scatter"
           }
          ],
          "scatter3d": [
           {
            "line": {
             "colorbar": {
              "outlinewidth": 0,
              "ticks": ""
             }
            },
            "marker": {
             "colorbar": {
              "outlinewidth": 0,
              "ticks": ""
             }
            },
            "type": "scatter3d"
           }
          ],
          "scattercarpet": [
           {
            "marker": {
             "colorbar": {
              "outlinewidth": 0,
              "ticks": ""
             }
            },
            "type": "scattercarpet"
           }
          ],
          "scattergeo": [
           {
            "marker": {
             "colorbar": {
              "outlinewidth": 0,
              "ticks": ""
             }
            },
            "type": "scattergeo"
           }
          ],
          "scattergl": [
           {
            "marker": {
             "colorbar": {
              "outlinewidth": 0,
              "ticks": ""
             }
            },
            "type": "scattergl"
           }
          ],
          "scattermapbox": [
           {
            "marker": {
             "colorbar": {
              "outlinewidth": 0,
              "ticks": ""
             }
            },
            "type": "scattermapbox"
           }
          ],
          "scatterpolar": [
           {
            "marker": {
             "colorbar": {
              "outlinewidth": 0,
              "ticks": ""
             }
            },
            "type": "scatterpolar"
           }
          ],
          "scatterpolargl": [
           {
            "marker": {
             "colorbar": {
              "outlinewidth": 0,
              "ticks": ""
             }
            },
            "type": "scatterpolargl"
           }
          ],
          "scatterternary": [
           {
            "marker": {
             "colorbar": {
              "outlinewidth": 0,
              "ticks": ""
             }
            },
            "type": "scatterternary"
           }
          ],
          "surface": [
           {
            "colorbar": {
             "outlinewidth": 0,
             "ticks": ""
            },
            "colorscale": [
             [
              0,
              "#0d0887"
             ],
             [
              0.1111111111111111,
              "#46039f"
             ],
             [
              0.2222222222222222,
              "#7201a8"
             ],
             [
              0.3333333333333333,
              "#9c179e"
             ],
             [
              0.4444444444444444,
              "#bd3786"
             ],
             [
              0.5555555555555556,
              "#d8576b"
             ],
             [
              0.6666666666666666,
              "#ed7953"
             ],
             [
              0.7777777777777778,
              "#fb9f3a"
             ],
             [
              0.8888888888888888,
              "#fdca26"
             ],
             [
              1,
              "#f0f921"
             ]
            ],
            "type": "surface"
           }
          ],
          "table": [
           {
            "cells": {
             "fill": {
              "color": "#EBF0F8"
             },
             "line": {
              "color": "white"
             }
            },
            "header": {
             "fill": {
              "color": "#C8D4E3"
             },
             "line": {
              "color": "white"
             }
            },
            "type": "table"
           }
          ]
         },
         "layout": {
          "annotationdefaults": {
           "arrowcolor": "#2a3f5f",
           "arrowhead": 0,
           "arrowwidth": 1
          },
          "autotypenumbers": "strict",
          "coloraxis": {
           "colorbar": {
            "outlinewidth": 0,
            "ticks": ""
           }
          },
          "colorscale": {
           "diverging": [
            [
             0,
             "#8e0152"
            ],
            [
             0.1,
             "#c51b7d"
            ],
            [
             0.2,
             "#de77ae"
            ],
            [
             0.3,
             "#f1b6da"
            ],
            [
             0.4,
             "#fde0ef"
            ],
            [
             0.5,
             "#f7f7f7"
            ],
            [
             0.6,
             "#e6f5d0"
            ],
            [
             0.7,
             "#b8e186"
            ],
            [
             0.8,
             "#7fbc41"
            ],
            [
             0.9,
             "#4d9221"
            ],
            [
             1,
             "#276419"
            ]
           ],
           "sequential": [
            [
             0,
             "#0d0887"
            ],
            [
             0.1111111111111111,
             "#46039f"
            ],
            [
             0.2222222222222222,
             "#7201a8"
            ],
            [
             0.3333333333333333,
             "#9c179e"
            ],
            [
             0.4444444444444444,
             "#bd3786"
            ],
            [
             0.5555555555555556,
             "#d8576b"
            ],
            [
             0.6666666666666666,
             "#ed7953"
            ],
            [
             0.7777777777777778,
             "#fb9f3a"
            ],
            [
             0.8888888888888888,
             "#fdca26"
            ],
            [
             1,
             "#f0f921"
            ]
           ],
           "sequentialminus": [
            [
             0,
             "#0d0887"
            ],
            [
             0.1111111111111111,
             "#46039f"
            ],
            [
             0.2222222222222222,
             "#7201a8"
            ],
            [
             0.3333333333333333,
             "#9c179e"
            ],
            [
             0.4444444444444444,
             "#bd3786"
            ],
            [
             0.5555555555555556,
             "#d8576b"
            ],
            [
             0.6666666666666666,
             "#ed7953"
            ],
            [
             0.7777777777777778,
             "#fb9f3a"
            ],
            [
             0.8888888888888888,
             "#fdca26"
            ],
            [
             1,
             "#f0f921"
            ]
           ]
          },
          "colorway": [
           "#636efa",
           "#EF553B",
           "#00cc96",
           "#ab63fa",
           "#FFA15A",
           "#19d3f3",
           "#FF6692",
           "#B6E880",
           "#FF97FF",
           "#FECB52"
          ],
          "font": {
           "color": "#2a3f5f"
          },
          "geo": {
           "bgcolor": "white",
           "lakecolor": "white",
           "landcolor": "#E5ECF6",
           "showlakes": true,
           "showland": true,
           "subunitcolor": "white"
          },
          "hoverlabel": {
           "align": "left"
          },
          "hovermode": "closest",
          "mapbox": {
           "style": "light"
          },
          "paper_bgcolor": "white",
          "plot_bgcolor": "#E5ECF6",
          "polar": {
           "angularaxis": {
            "gridcolor": "white",
            "linecolor": "white",
            "ticks": ""
           },
           "bgcolor": "#E5ECF6",
           "radialaxis": {
            "gridcolor": "white",
            "linecolor": "white",
            "ticks": ""
           }
          },
          "scene": {
           "xaxis": {
            "backgroundcolor": "#E5ECF6",
            "gridcolor": "white",
            "gridwidth": 2,
            "linecolor": "white",
            "showbackground": true,
            "ticks": "",
            "zerolinecolor": "white"
           },
           "yaxis": {
            "backgroundcolor": "#E5ECF6",
            "gridcolor": "white",
            "gridwidth": 2,
            "linecolor": "white",
            "showbackground": true,
            "ticks": "",
            "zerolinecolor": "white"
           },
           "zaxis": {
            "backgroundcolor": "#E5ECF6",
            "gridcolor": "white",
            "gridwidth": 2,
            "linecolor": "white",
            "showbackground": true,
            "ticks": "",
            "zerolinecolor": "white"
           }
          },
          "shapedefaults": {
           "line": {
            "color": "#2a3f5f"
           }
          },
          "ternary": {
           "aaxis": {
            "gridcolor": "white",
            "linecolor": "white",
            "ticks": ""
           },
           "baxis": {
            "gridcolor": "white",
            "linecolor": "white",
            "ticks": ""
           },
           "bgcolor": "#E5ECF6",
           "caxis": {
            "gridcolor": "white",
            "linecolor": "white",
            "ticks": ""
           }
          },
          "title": {
           "x": 0.05
          },
          "xaxis": {
           "automargin": true,
           "gridcolor": "white",
           "linecolor": "white",
           "ticks": "",
           "title": {
            "standoff": 15
           },
           "zerolinecolor": "white",
           "zerolinewidth": 2
          },
          "yaxis": {
           "automargin": true,
           "gridcolor": "white",
           "linecolor": "white",
           "ticks": "",
           "title": {
            "standoff": 15
           },
           "zerolinecolor": "white",
           "zerolinewidth": 2
          }
         }
        },
        "title": {
         "text": "Evolution of the biggest spenders"
        },
        "width": 1000,
        "xaxis": {
         "anchor": "y",
         "domain": [
          0,
          1
         ],
         "title": {
          "text": "date"
         }
        },
        "yaxis": {
         "anchor": "x",
         "domain": [
          0,
          1
         ],
         "title": {
          "text": "spent"
         }
        }
       }
      }
     },
     "metadata": {},
     "output_type": "display_data"
    }
   ],
   "source": [
    "# get the names in a list of the 3 best identities in terms of spent column\n",
    "best_spent = df.groupby('identity')['spent'].sum().sort_values(ascending=False).head(3).index.tolist()\n",
    "\n",
    "fig = px.line(df[df['identity'].isin(best_spent)].groupby(['date', 'identity'])['spent'].sum().unstack().rolling(30).mean(), title='Evolution of the biggest spenders', labels={'value':'spent'}, height=600, width=1000)\n",
    "fig.show()"
   ]
  },
  {
   "attachments": {},
   "cell_type": "markdown",
   "metadata": {},
   "source": [
    "# Etude des frais de transaction payés: Qui paye le mieux en moyenne ?\n",
    "\n",
    "Regardons comment les frais de transaction moyens par transaction (mean_fee_for100) varient entre les acteurs."
   ]
  },
  {
   "cell_type": "code",
   "execution_count": 271,
   "metadata": {},
   "outputs": [
    {
     "data": {
      "text/plain": [
       "identity\n",
       "7277           15.871148\n",
       "999Dice.com     5.511470\n",
       "419             5.106580\n",
       "Name: mean_fee_for100, dtype: float64"
      ]
     },
     "execution_count": 271,
     "metadata": {},
     "output_type": "execute_result"
    }
   ],
   "source": [
    "# Meilleur payeur en termes de frais moyens par transaction\n",
    "# get the names in a list of the 3 best identities in terms of mean_fees column\n",
    "df.groupby('identity')['mean_fee_for100'].mean().sort_values(ascending=False).head(3)\n"
   ]
  },
  {
   "cell_type": "code",
   "execution_count": 272,
   "metadata": {},
   "outputs": [
    {
     "data": {
      "text/plain": [
       "identity\n",
       "7277             15.871148\n",
       "999Dice.com       5.511470\n",
       "419               5.106580\n",
       "0                 4.907442\n",
       "18972             4.186133\n",
       "                   ...    \n",
       "Paymium.com       0.011627\n",
       "5162              0.009440\n",
       "SlushPool.com     0.007377\n",
       "69697250          0.005614\n",
       "BTCC.com          0.002298\n",
       "Name: mean_fee_for100, Length: 100, dtype: float64"
      ]
     },
     "execution_count": 272,
     "metadata": {},
     "output_type": "execute_result"
    }
   ],
   "source": [
    "# full list: best fee/transaction over the (2015-2017) period\n",
    "# we can see a signiform difference between the top 3 and the others\n",
    "\n",
    "best_payers = df.groupby('identity')['mean_fee_for100'].mean().sort_values(ascending=False) \n",
    "best_payers"
   ]
  },
  {
   "cell_type": "code",
   "execution_count": 273,
   "metadata": {},
   "outputs": [
    {
     "data": {
      "application/vnd.plotly.v1+json": {
       "config": {
        "plotlyServerURL": "https://plot.ly"
       },
       "data": [
        {
         "alignmentgroup": "True",
         "hovertemplate": "variable=mean_fee_for100<br>identity=%{x}<br>mean fees/transaction(satoshi)=%{y}<extra></extra>",
         "legendgroup": "mean_fee_for100",
         "marker": {
          "color": "#636efa",
          "pattern": {
           "shape": ""
          }
         },
         "name": "mean_fee_for100",
         "offsetgroup": "mean_fee_for100",
         "orientation": "v",
         "showlegend": true,
         "textposition": "auto",
         "type": "bar",
         "x": [
          "7277",
          "999Dice.com",
          "419",
          "0",
          "18972",
          "Cryptonator.com",
          "PocketDice.io",
          "HolyTransaction.com",
          "LuckyB.it",
          "16621",
          "292",
          "Poloniex.com",
          "1805",
          "ePay.info_CoinJoinMess",
          "35",
          "57",
          "SatoshiMines.com",
          "1567",
          "1149",
          "175",
          "Bit-x.com",
          "289",
          "641",
          "227",
          "1070",
          "BTCJam.com",
          "700",
          "SafeDice.com",
          "1391",
          "Bter.com",
          "SecondsTrade.com",
          "154",
          "YoBit.net",
          "CoinSpot.com.au",
          "Rollin.io",
          "Vaultoro.com",
          "HaoBTC.com",
          "107",
          "269",
          "SatoshiDice.com",
          "CoinPayments.net",
          "354",
          "348",
          "FortuneJack.com",
          "1138",
          "101",
          "Loanbase.com",
          "BX.in.th",
          "CoinMotion.com",
          "TheRockTrading.com",
          "523",
          "Xapo.com",
          "421",
          "871",
          "CoinGaming.io",
          "74304487",
          "1226",
          "Bitbond.com",
          "Bitcoin.de",
          "61",
          "69984672",
          "122",
          "73963652",
          "CoinJar.com",
          "CoinCafe.com",
          "Matbea.com",
          "BitZillions.com",
          "469",
          "72472408",
          "MercadoBitcoin.com.br",
          "FYBSG.com",
          "Bitstamp.net",
          "CoinTrader.net_LocalBitcoins.com",
          "70063369",
          "70927660",
          "821",
          "BitBargain.co.uk",
          "73832915",
          "69827719",
          "71842975",
          "69383113",
          "74278522",
          "BTC-e.com",
          "16768780",
          "396",
          "SimpleCoin.cz",
          "BitcoinFog",
          "71554939",
          "Huobi.com",
          "HappyCoins.com",
          "BtcTrade.com",
          "898",
          "417",
          "61400549",
          "OKCoin.com",
          "Paymium.com",
          "5162",
          "SlushPool.com",
          "69697250",
          "BTCC.com"
         ],
         "xaxis": "x",
         "y": [
          15.87114809292146,
          5.511470320850054,
          5.106579951743929,
          4.90744164758978,
          4.186133087832222,
          3.6327680414485544,
          3.192987719422672,
          2.9872461507704666,
          2.976457076125661,
          2.9194604581165122,
          2.518341159338918,
          2.1853175406113703,
          2.179786554877395,
          1.8764871085450825,
          1.8629965922404432,
          1.7532741754491226,
          1.7444432733594994,
          1.7136407186848013,
          1.677498499980384,
          1.5602675318569779,
          1.4333764191567597,
          1.4074478656952856,
          1.378678282336143,
          1.3748419856314447,
          1.3646836226336179,
          1.2819010650872777,
          1.2500056154203794,
          1.167551589307271,
          1.1350949853806807,
          1.0845592572275913,
          1.0074671132193287,
          1.0068910863104659,
          0.972303256414229,
          0.9723007087102459,
          0.958054819455867,
          0.9250796911473863,
          0.9019402220951416,
          0.8619329648438543,
          0.8273171064641341,
          0.8108114343767637,
          0.765159114178347,
          0.6616647349678202,
          0.6578683061648193,
          0.5445829262668425,
          0.5438192080994555,
          0.5159879320557527,
          0.4862092140724248,
          0.4761145184198837,
          0.4623253401372539,
          0.4558435608141856,
          0.44918046620456153,
          0.4416417542016907,
          0.4281251117231899,
          0.4217487163815551,
          0.3799089685678082,
          0.3067707413299446,
          0.3065247945482773,
          0.30162090333795294,
          0.2924629377688901,
          0.2862995245298576,
          0.24729282200123667,
          0.23828658956070348,
          0.23349661203635924,
          0.2323359136248241,
          0.22952659643600876,
          0.22486373080549454,
          0.21894434285678852,
          0.21125658737695294,
          0.20227470697082725,
          0.19059671728630115,
          0.18122060571233953,
          0.16225455421799934,
          0.14292578536934233,
          0.14134115237231917,
          0.14109266033763843,
          0.13122496121416705,
          0.1268281227467843,
          0.1161974751610883,
          0.11524247038954649,
          0.11074125205446059,
          0.09964783498425442,
          0.09410126405637444,
          0.09148632213124916,
          0.08557524570344711,
          0.08005921679951755,
          0.06736957778843629,
          0.06563030544605118,
          0.06511006371126214,
          0.05740518252239311,
          0.04544933745047746,
          0.04490200269038362,
          0.04114552719275728,
          0.032050800012931015,
          0.023201834958175415,
          0.014594595892532414,
          0.011627374056722971,
          0.00943982780033314,
          0.0073770944543403,
          0.005613778885246281,
          0.0022975173971774574
         ],
         "yaxis": "y"
        }
       ],
       "layout": {
        "barmode": "relative",
        "height": 600,
        "legend": {
         "title": {
          "text": "variable"
         },
         "tracegroupgap": 0
        },
        "template": {
         "data": {
          "bar": [
           {
            "error_x": {
             "color": "#2a3f5f"
            },
            "error_y": {
             "color": "#2a3f5f"
            },
            "marker": {
             "line": {
              "color": "#E5ECF6",
              "width": 0.5
             },
             "pattern": {
              "fillmode": "overlay",
              "size": 10,
              "solidity": 0.2
             }
            },
            "type": "bar"
           }
          ],
          "barpolar": [
           {
            "marker": {
             "line": {
              "color": "#E5ECF6",
              "width": 0.5
             },
             "pattern": {
              "fillmode": "overlay",
              "size": 10,
              "solidity": 0.2
             }
            },
            "type": "barpolar"
           }
          ],
          "carpet": [
           {
            "aaxis": {
             "endlinecolor": "#2a3f5f",
             "gridcolor": "white",
             "linecolor": "white",
             "minorgridcolor": "white",
             "startlinecolor": "#2a3f5f"
            },
            "baxis": {
             "endlinecolor": "#2a3f5f",
             "gridcolor": "white",
             "linecolor": "white",
             "minorgridcolor": "white",
             "startlinecolor": "#2a3f5f"
            },
            "type": "carpet"
           }
          ],
          "choropleth": [
           {
            "colorbar": {
             "outlinewidth": 0,
             "ticks": ""
            },
            "type": "choropleth"
           }
          ],
          "contour": [
           {
            "colorbar": {
             "outlinewidth": 0,
             "ticks": ""
            },
            "colorscale": [
             [
              0,
              "#0d0887"
             ],
             [
              0.1111111111111111,
              "#46039f"
             ],
             [
              0.2222222222222222,
              "#7201a8"
             ],
             [
              0.3333333333333333,
              "#9c179e"
             ],
             [
              0.4444444444444444,
              "#bd3786"
             ],
             [
              0.5555555555555556,
              "#d8576b"
             ],
             [
              0.6666666666666666,
              "#ed7953"
             ],
             [
              0.7777777777777778,
              "#fb9f3a"
             ],
             [
              0.8888888888888888,
              "#fdca26"
             ],
             [
              1,
              "#f0f921"
             ]
            ],
            "type": "contour"
           }
          ],
          "contourcarpet": [
           {
            "colorbar": {
             "outlinewidth": 0,
             "ticks": ""
            },
            "type": "contourcarpet"
           }
          ],
          "heatmap": [
           {
            "colorbar": {
             "outlinewidth": 0,
             "ticks": ""
            },
            "colorscale": [
             [
              0,
              "#0d0887"
             ],
             [
              0.1111111111111111,
              "#46039f"
             ],
             [
              0.2222222222222222,
              "#7201a8"
             ],
             [
              0.3333333333333333,
              "#9c179e"
             ],
             [
              0.4444444444444444,
              "#bd3786"
             ],
             [
              0.5555555555555556,
              "#d8576b"
             ],
             [
              0.6666666666666666,
              "#ed7953"
             ],
             [
              0.7777777777777778,
              "#fb9f3a"
             ],
             [
              0.8888888888888888,
              "#fdca26"
             ],
             [
              1,
              "#f0f921"
             ]
            ],
            "type": "heatmap"
           }
          ],
          "heatmapgl": [
           {
            "colorbar": {
             "outlinewidth": 0,
             "ticks": ""
            },
            "colorscale": [
             [
              0,
              "#0d0887"
             ],
             [
              0.1111111111111111,
              "#46039f"
             ],
             [
              0.2222222222222222,
              "#7201a8"
             ],
             [
              0.3333333333333333,
              "#9c179e"
             ],
             [
              0.4444444444444444,
              "#bd3786"
             ],
             [
              0.5555555555555556,
              "#d8576b"
             ],
             [
              0.6666666666666666,
              "#ed7953"
             ],
             [
              0.7777777777777778,
              "#fb9f3a"
             ],
             [
              0.8888888888888888,
              "#fdca26"
             ],
             [
              1,
              "#f0f921"
             ]
            ],
            "type": "heatmapgl"
           }
          ],
          "histogram": [
           {
            "marker": {
             "pattern": {
              "fillmode": "overlay",
              "size": 10,
              "solidity": 0.2
             }
            },
            "type": "histogram"
           }
          ],
          "histogram2d": [
           {
            "colorbar": {
             "outlinewidth": 0,
             "ticks": ""
            },
            "colorscale": [
             [
              0,
              "#0d0887"
             ],
             [
              0.1111111111111111,
              "#46039f"
             ],
             [
              0.2222222222222222,
              "#7201a8"
             ],
             [
              0.3333333333333333,
              "#9c179e"
             ],
             [
              0.4444444444444444,
              "#bd3786"
             ],
             [
              0.5555555555555556,
              "#d8576b"
             ],
             [
              0.6666666666666666,
              "#ed7953"
             ],
             [
              0.7777777777777778,
              "#fb9f3a"
             ],
             [
              0.8888888888888888,
              "#fdca26"
             ],
             [
              1,
              "#f0f921"
             ]
            ],
            "type": "histogram2d"
           }
          ],
          "histogram2dcontour": [
           {
            "colorbar": {
             "outlinewidth": 0,
             "ticks": ""
            },
            "colorscale": [
             [
              0,
              "#0d0887"
             ],
             [
              0.1111111111111111,
              "#46039f"
             ],
             [
              0.2222222222222222,
              "#7201a8"
             ],
             [
              0.3333333333333333,
              "#9c179e"
             ],
             [
              0.4444444444444444,
              "#bd3786"
             ],
             [
              0.5555555555555556,
              "#d8576b"
             ],
             [
              0.6666666666666666,
              "#ed7953"
             ],
             [
              0.7777777777777778,
              "#fb9f3a"
             ],
             [
              0.8888888888888888,
              "#fdca26"
             ],
             [
              1,
              "#f0f921"
             ]
            ],
            "type": "histogram2dcontour"
           }
          ],
          "mesh3d": [
           {
            "colorbar": {
             "outlinewidth": 0,
             "ticks": ""
            },
            "type": "mesh3d"
           }
          ],
          "parcoords": [
           {
            "line": {
             "colorbar": {
              "outlinewidth": 0,
              "ticks": ""
             }
            },
            "type": "parcoords"
           }
          ],
          "pie": [
           {
            "automargin": true,
            "type": "pie"
           }
          ],
          "scatter": [
           {
            "fillpattern": {
             "fillmode": "overlay",
             "size": 10,
             "solidity": 0.2
            },
            "type": "scatter"
           }
          ],
          "scatter3d": [
           {
            "line": {
             "colorbar": {
              "outlinewidth": 0,
              "ticks": ""
             }
            },
            "marker": {
             "colorbar": {
              "outlinewidth": 0,
              "ticks": ""
             }
            },
            "type": "scatter3d"
           }
          ],
          "scattercarpet": [
           {
            "marker": {
             "colorbar": {
              "outlinewidth": 0,
              "ticks": ""
             }
            },
            "type": "scattercarpet"
           }
          ],
          "scattergeo": [
           {
            "marker": {
             "colorbar": {
              "outlinewidth": 0,
              "ticks": ""
             }
            },
            "type": "scattergeo"
           }
          ],
          "scattergl": [
           {
            "marker": {
             "colorbar": {
              "outlinewidth": 0,
              "ticks": ""
             }
            },
            "type": "scattergl"
           }
          ],
          "scattermapbox": [
           {
            "marker": {
             "colorbar": {
              "outlinewidth": 0,
              "ticks": ""
             }
            },
            "type": "scattermapbox"
           }
          ],
          "scatterpolar": [
           {
            "marker": {
             "colorbar": {
              "outlinewidth": 0,
              "ticks": ""
             }
            },
            "type": "scatterpolar"
           }
          ],
          "scatterpolargl": [
           {
            "marker": {
             "colorbar": {
              "outlinewidth": 0,
              "ticks": ""
             }
            },
            "type": "scatterpolargl"
           }
          ],
          "scatterternary": [
           {
            "marker": {
             "colorbar": {
              "outlinewidth": 0,
              "ticks": ""
             }
            },
            "type": "scatterternary"
           }
          ],
          "surface": [
           {
            "colorbar": {
             "outlinewidth": 0,
             "ticks": ""
            },
            "colorscale": [
             [
              0,
              "#0d0887"
             ],
             [
              0.1111111111111111,
              "#46039f"
             ],
             [
              0.2222222222222222,
              "#7201a8"
             ],
             [
              0.3333333333333333,
              "#9c179e"
             ],
             [
              0.4444444444444444,
              "#bd3786"
             ],
             [
              0.5555555555555556,
              "#d8576b"
             ],
             [
              0.6666666666666666,
              "#ed7953"
             ],
             [
              0.7777777777777778,
              "#fb9f3a"
             ],
             [
              0.8888888888888888,
              "#fdca26"
             ],
             [
              1,
              "#f0f921"
             ]
            ],
            "type": "surface"
           }
          ],
          "table": [
           {
            "cells": {
             "fill": {
              "color": "#EBF0F8"
             },
             "line": {
              "color": "white"
             }
            },
            "header": {
             "fill": {
              "color": "#C8D4E3"
             },
             "line": {
              "color": "white"
             }
            },
            "type": "table"
           }
          ]
         },
         "layout": {
          "annotationdefaults": {
           "arrowcolor": "#2a3f5f",
           "arrowhead": 0,
           "arrowwidth": 1
          },
          "autotypenumbers": "strict",
          "coloraxis": {
           "colorbar": {
            "outlinewidth": 0,
            "ticks": ""
           }
          },
          "colorscale": {
           "diverging": [
            [
             0,
             "#8e0152"
            ],
            [
             0.1,
             "#c51b7d"
            ],
            [
             0.2,
             "#de77ae"
            ],
            [
             0.3,
             "#f1b6da"
            ],
            [
             0.4,
             "#fde0ef"
            ],
            [
             0.5,
             "#f7f7f7"
            ],
            [
             0.6,
             "#e6f5d0"
            ],
            [
             0.7,
             "#b8e186"
            ],
            [
             0.8,
             "#7fbc41"
            ],
            [
             0.9,
             "#4d9221"
            ],
            [
             1,
             "#276419"
            ]
           ],
           "sequential": [
            [
             0,
             "#0d0887"
            ],
            [
             0.1111111111111111,
             "#46039f"
            ],
            [
             0.2222222222222222,
             "#7201a8"
            ],
            [
             0.3333333333333333,
             "#9c179e"
            ],
            [
             0.4444444444444444,
             "#bd3786"
            ],
            [
             0.5555555555555556,
             "#d8576b"
            ],
            [
             0.6666666666666666,
             "#ed7953"
            ],
            [
             0.7777777777777778,
             "#fb9f3a"
            ],
            [
             0.8888888888888888,
             "#fdca26"
            ],
            [
             1,
             "#f0f921"
            ]
           ],
           "sequentialminus": [
            [
             0,
             "#0d0887"
            ],
            [
             0.1111111111111111,
             "#46039f"
            ],
            [
             0.2222222222222222,
             "#7201a8"
            ],
            [
             0.3333333333333333,
             "#9c179e"
            ],
            [
             0.4444444444444444,
             "#bd3786"
            ],
            [
             0.5555555555555556,
             "#d8576b"
            ],
            [
             0.6666666666666666,
             "#ed7953"
            ],
            [
             0.7777777777777778,
             "#fb9f3a"
            ],
            [
             0.8888888888888888,
             "#fdca26"
            ],
            [
             1,
             "#f0f921"
            ]
           ]
          },
          "colorway": [
           "#636efa",
           "#EF553B",
           "#00cc96",
           "#ab63fa",
           "#FFA15A",
           "#19d3f3",
           "#FF6692",
           "#B6E880",
           "#FF97FF",
           "#FECB52"
          ],
          "font": {
           "color": "#2a3f5f"
          },
          "geo": {
           "bgcolor": "white",
           "lakecolor": "white",
           "landcolor": "#E5ECF6",
           "showlakes": true,
           "showland": true,
           "subunitcolor": "white"
          },
          "hoverlabel": {
           "align": "left"
          },
          "hovermode": "closest",
          "mapbox": {
           "style": "light"
          },
          "paper_bgcolor": "white",
          "plot_bgcolor": "#E5ECF6",
          "polar": {
           "angularaxis": {
            "gridcolor": "white",
            "linecolor": "white",
            "ticks": ""
           },
           "bgcolor": "#E5ECF6",
           "radialaxis": {
            "gridcolor": "white",
            "linecolor": "white",
            "ticks": ""
           }
          },
          "scene": {
           "xaxis": {
            "backgroundcolor": "#E5ECF6",
            "gridcolor": "white",
            "gridwidth": 2,
            "linecolor": "white",
            "showbackground": true,
            "ticks": "",
            "zerolinecolor": "white"
           },
           "yaxis": {
            "backgroundcolor": "#E5ECF6",
            "gridcolor": "white",
            "gridwidth": 2,
            "linecolor": "white",
            "showbackground": true,
            "ticks": "",
            "zerolinecolor": "white"
           },
           "zaxis": {
            "backgroundcolor": "#E5ECF6",
            "gridcolor": "white",
            "gridwidth": 2,
            "linecolor": "white",
            "showbackground": true,
            "ticks": "",
            "zerolinecolor": "white"
           }
          },
          "shapedefaults": {
           "line": {
            "color": "#2a3f5f"
           }
          },
          "ternary": {
           "aaxis": {
            "gridcolor": "white",
            "linecolor": "white",
            "ticks": ""
           },
           "baxis": {
            "gridcolor": "white",
            "linecolor": "white",
            "ticks": ""
           },
           "bgcolor": "#E5ECF6",
           "caxis": {
            "gridcolor": "white",
            "linecolor": "white",
            "ticks": ""
           }
          },
          "title": {
           "x": 0.05
          },
          "xaxis": {
           "automargin": true,
           "gridcolor": "white",
           "linecolor": "white",
           "ticks": "",
           "title": {
            "standoff": 15
           },
           "zerolinecolor": "white",
           "zerolinewidth": 2
          },
          "yaxis": {
           "automargin": true,
           "gridcolor": "white",
           "linecolor": "white",
           "ticks": "",
           "title": {
            "standoff": 15
           },
           "zerolinecolor": "white",
           "zerolinewidth": 2
          }
         }
        },
        "title": {
         "text": "Best payers in terms of mean fees per transaction"
        },
        "width": 1000,
        "xaxis": {
         "anchor": "y",
         "domain": [
          0,
          1
         ],
         "title": {
          "text": "identity"
         }
        },
        "yaxis": {
         "anchor": "x",
         "domain": [
          0,
          1
         ],
         "title": {
          "text": "mean fees/transaction(satoshi)"
         }
        }
       }
      }
     },
     "metadata": {},
     "output_type": "display_data"
    }
   ],
   "source": [
    "# plot the best payers\n",
    "fig = px.bar(best_payers.head(100), title='Best payers in terms of mean fees per transaction', labels={'value':'mean fees/transaction(satoshi)'}, height=600, width=1000)\n",
    "fig.show()"
   ]
  },
  {
   "attachments": {},
   "cell_type": "markdown",
   "metadata": {},
   "source": [
    "## Quelle est la relation entre les frais de transaction totaux payés (sum_fee) et le nombre de transactions effectuées (nb_transactions) pour chaque acteur ?\n",
    "Analysons la corrélation entre ces deux variables pour voir si les acteurs qui effectuent plus de transactions paient également plus de frais."
   ]
  },
  {
   "cell_type": "code",
   "execution_count": 274,
   "metadata": {},
   "outputs": [
    {
     "data": {
      "text/html": [
       "<div>\n",
       "<style scoped>\n",
       "    .dataframe tbody tr th:only-of-type {\n",
       "        vertical-align: middle;\n",
       "    }\n",
       "\n",
       "    .dataframe tbody tr th {\n",
       "        vertical-align: top;\n",
       "    }\n",
       "\n",
       "    .dataframe thead th {\n",
       "        text-align: right;\n",
       "    }\n",
       "</style>\n",
       "<table border=\"1\" class=\"dataframe\">\n",
       "  <thead>\n",
       "    <tr style=\"text-align: right;\">\n",
       "      <th></th>\n",
       "      <th>sum_fee</th>\n",
       "      <th>nb_transactions</th>\n",
       "    </tr>\n",
       "  </thead>\n",
       "  <tbody>\n",
       "    <tr>\n",
       "      <th>sum_fee</th>\n",
       "      <td>1.000000</td>\n",
       "      <td>0.409517</td>\n",
       "    </tr>\n",
       "    <tr>\n",
       "      <th>nb_transactions</th>\n",
       "      <td>0.409517</td>\n",
       "      <td>1.000000</td>\n",
       "    </tr>\n",
       "  </tbody>\n",
       "</table>\n",
       "</div>"
      ],
      "text/plain": [
       "                  sum_fee  nb_transactions\n",
       "sum_fee          1.000000         0.409517\n",
       "nb_transactions  0.409517         1.000000"
      ]
     },
     "execution_count": 274,
     "metadata": {},
     "output_type": "execute_result"
    }
   ],
   "source": [
    "# let's compute the correlation between the sum_fee and nb_transactions\n",
    "df[['sum_fee', 'nb_transactions']].corr()"
   ]
  },
  {
   "attachments": {},
   "cell_type": "markdown",
   "metadata": {},
   "source": [
    "Une corrélation de 0,4 signifie qu'il y a une relation positive modérée entre deux variables. Lorsque la valeur d'une variable augmente/diminue, la valeur de l'autre variable a tendance à augmenter/diminuer également, mais pas de manière systématique.\n",
    "\n",
    "On ne peut pas affirmer de ce fait que les acteurs qui font le plus grand nombres de transactions paieront un plus grand nombre de frais."
   ]
  },
  {
   "attachments": {},
   "cell_type": "markdown",
   "metadata": {},
   "source": [
    "## Y a-t-il une relation entre la proportion des transactions auto-émises et les frais de transaction payés par les acteurs ?\n",
    "Vérifions si les acteurs qui auto-émettent une plus grande proportion de transactions ont tendance à payer des frais de transaction différents de ceux qui envoient principalement des fonds à des tiers."
   ]
  },
  {
   "cell_type": "code",
   "execution_count": 275,
   "metadata": {},
   "outputs": [
    {
     "data": {
      "text/plain": [
       "identity\n",
       "Paymium.com               81.309526\n",
       "ePay.info_CoinJoinMess    73.112700\n",
       "Bitbond.com               68.926661\n",
       "SimpleCoin.cz             68.501003\n",
       "BitZillions.com           63.335812\n",
       "Name: self_spent_proportion, dtype: float64"
      ]
     },
     "execution_count": 275,
     "metadata": {},
     "output_type": "execute_result"
    }
   ],
   "source": [
    "# compute the self spent proportion\n",
    "df['self_spent_proportion'] = df['self_spent'] / df['sent'] * 100\n",
    "\n",
    "# display the top 5 identities in terms of self spent proportion\n",
    "df.groupby('identity')['self_spent_proportion'].mean().sort_values(ascending=False).head(5)\n"
   ]
  },
  {
   "cell_type": "code",
   "execution_count": 276,
   "metadata": {},
   "outputs": [],
   "source": [
    "df_self_spent_prop_sorted = df.groupby('identity')['self_spent_proportion'].mean().sort_values(ascending=False)"
   ]
  },
  {
   "cell_type": "code",
   "execution_count": 277,
   "metadata": {},
   "outputs": [
    {
     "data": {
      "application/vnd.plotly.v1+json": {
       "config": {
        "plotlyServerURL": "https://plot.ly"
       },
       "data": [
        {
         "alignmentgroup": "True",
         "hovertemplate": "variable=self_spent_proportion<br>identity=%{x}<br>self spent proportion (in %)=%{y}<extra></extra>",
         "legendgroup": "self_spent_proportion",
         "marker": {
          "color": "#636efa",
          "pattern": {
           "shape": ""
          }
         },
         "name": "self_spent_proportion",
         "offsetgroup": "self_spent_proportion",
         "orientation": "v",
         "showlegend": true,
         "textposition": "auto",
         "type": "bar",
         "x": [
          "Paymium.com",
          "ePay.info_CoinJoinMess",
          "Bitbond.com",
          "SimpleCoin.cz",
          "BitZillions.com",
          "Xapo.com",
          "HaoBTC.com",
          "Huobi.com",
          "Bitstamp.net",
          "Poloniex.com",
          "Bit-x.com",
          "LuckyB.it",
          "Bter.com",
          "BX.in.th",
          "Matbea.com",
          "Cryptonator.com",
          "HolyTransaction.com",
          "CoinTrader.net_LocalBitcoins.com",
          "SatoshiDice.com",
          "TheRockTrading.com",
          "CoinJar.com",
          "SecondsTrade.com",
          "CoinPayments.net",
          "PocketDice.io",
          "Rollin.io",
          "SafeDice.com",
          "SatoshiMines.com",
          "Vaultoro.com",
          "999Dice.com",
          "CoinSpot.com.au",
          "YoBit.net",
          "FortuneJack.com",
          "FYBSG.com",
          "SlushPool.com",
          "Loanbase.com",
          "Bitcoin.de",
          "BTCJam.com",
          "CoinMotion.com",
          "BitBargain.co.uk",
          "CoinCafe.com",
          "BtcTrade.com",
          "BTCC.com",
          "OKCoin.com",
          "BitcoinFog",
          "BTC-e.com",
          "MercadoBitcoin.com.br",
          "CoinGaming.io",
          "HappyCoins.com",
          "101",
          "898",
          "0",
          "821",
          "417",
          "354",
          "35",
          "348",
          "292",
          "289",
          "269",
          "227",
          "18972",
          "1805",
          "175",
          "16768780",
          "16621",
          "1567",
          "154",
          "1391",
          "1226",
          "122",
          "1149",
          "1138",
          "1070",
          "107",
          "396",
          "419",
          "74304487",
          "421",
          "74278522",
          "73963652",
          "73832915",
          "7277",
          "72472408",
          "71842975",
          "71554939",
          "70927660",
          "70063369",
          "700",
          "69984672",
          "69827719",
          "69697250",
          "69383113",
          "641",
          "61400549",
          "61",
          "57",
          "523",
          "5162",
          "469",
          "871"
         ],
         "xaxis": "x",
         "y": [
          81.30952590562714,
          73.1126999795949,
          68.92666077125271,
          68.50100323599871,
          63.33581198186547,
          60.27432586474974,
          46.83499135720847,
          46.74449321334746,
          44.867762571308646,
          43.933427598886716,
          41.458450960631524,
          39.938422329742906,
          36.57792515725316,
          35.948072179074536,
          35.572586531253805,
          19.25495742639078,
          16.82533978199632,
          16.207780958763202,
          16.00837098910005,
          15.1173528672393,
          14.405654269650626,
          14.295031165056972,
          13.270926135048875,
          12.603222154029888,
          9.440733565998093,
          9.231377404779973,
          8.621747239047885,
          8.523586374708408,
          8.457648485286192,
          7.739754357719024,
          7.6371812514500785,
          7.198196578776774,
          6.7427082682221124,
          6.342517901649166,
          6.3134131975301955,
          6.08130753684163,
          5.429734534787113,
          5.381577028890791,
          4.477939503580366,
          3.9124518174228777,
          2.123671446817287,
          1.8350212349073693,
          1.5503692466627312,
          0.9307400522326564,
          0.8462196405552409,
          0.8292023200600562,
          0.8120756478457635,
          0.5389628819901913,
          0,
          0,
          0,
          0,
          0,
          0,
          0,
          0,
          0,
          0,
          0,
          0,
          0,
          0,
          0,
          0,
          0,
          0,
          0,
          0,
          0,
          0,
          0,
          0,
          0,
          0,
          0,
          0,
          0,
          0,
          0,
          0,
          0,
          0,
          0,
          0,
          0,
          0,
          0,
          0,
          0,
          0,
          0,
          0,
          0,
          0,
          0,
          0,
          0,
          0,
          0,
          0
         ],
         "yaxis": "y"
        }
       ],
       "layout": {
        "barmode": "relative",
        "height": 600,
        "legend": {
         "title": {
          "text": "variable"
         },
         "tracegroupgap": 0
        },
        "template": {
         "data": {
          "bar": [
           {
            "error_x": {
             "color": "#2a3f5f"
            },
            "error_y": {
             "color": "#2a3f5f"
            },
            "marker": {
             "line": {
              "color": "#E5ECF6",
              "width": 0.5
             },
             "pattern": {
              "fillmode": "overlay",
              "size": 10,
              "solidity": 0.2
             }
            },
            "type": "bar"
           }
          ],
          "barpolar": [
           {
            "marker": {
             "line": {
              "color": "#E5ECF6",
              "width": 0.5
             },
             "pattern": {
              "fillmode": "overlay",
              "size": 10,
              "solidity": 0.2
             }
            },
            "type": "barpolar"
           }
          ],
          "carpet": [
           {
            "aaxis": {
             "endlinecolor": "#2a3f5f",
             "gridcolor": "white",
             "linecolor": "white",
             "minorgridcolor": "white",
             "startlinecolor": "#2a3f5f"
            },
            "baxis": {
             "endlinecolor": "#2a3f5f",
             "gridcolor": "white",
             "linecolor": "white",
             "minorgridcolor": "white",
             "startlinecolor": "#2a3f5f"
            },
            "type": "carpet"
           }
          ],
          "choropleth": [
           {
            "colorbar": {
             "outlinewidth": 0,
             "ticks": ""
            },
            "type": "choropleth"
           }
          ],
          "contour": [
           {
            "colorbar": {
             "outlinewidth": 0,
             "ticks": ""
            },
            "colorscale": [
             [
              0,
              "#0d0887"
             ],
             [
              0.1111111111111111,
              "#46039f"
             ],
             [
              0.2222222222222222,
              "#7201a8"
             ],
             [
              0.3333333333333333,
              "#9c179e"
             ],
             [
              0.4444444444444444,
              "#bd3786"
             ],
             [
              0.5555555555555556,
              "#d8576b"
             ],
             [
              0.6666666666666666,
              "#ed7953"
             ],
             [
              0.7777777777777778,
              "#fb9f3a"
             ],
             [
              0.8888888888888888,
              "#fdca26"
             ],
             [
              1,
              "#f0f921"
             ]
            ],
            "type": "contour"
           }
          ],
          "contourcarpet": [
           {
            "colorbar": {
             "outlinewidth": 0,
             "ticks": ""
            },
            "type": "contourcarpet"
           }
          ],
          "heatmap": [
           {
            "colorbar": {
             "outlinewidth": 0,
             "ticks": ""
            },
            "colorscale": [
             [
              0,
              "#0d0887"
             ],
             [
              0.1111111111111111,
              "#46039f"
             ],
             [
              0.2222222222222222,
              "#7201a8"
             ],
             [
              0.3333333333333333,
              "#9c179e"
             ],
             [
              0.4444444444444444,
              "#bd3786"
             ],
             [
              0.5555555555555556,
              "#d8576b"
             ],
             [
              0.6666666666666666,
              "#ed7953"
             ],
             [
              0.7777777777777778,
              "#fb9f3a"
             ],
             [
              0.8888888888888888,
              "#fdca26"
             ],
             [
              1,
              "#f0f921"
             ]
            ],
            "type": "heatmap"
           }
          ],
          "heatmapgl": [
           {
            "colorbar": {
             "outlinewidth": 0,
             "ticks": ""
            },
            "colorscale": [
             [
              0,
              "#0d0887"
             ],
             [
              0.1111111111111111,
              "#46039f"
             ],
             [
              0.2222222222222222,
              "#7201a8"
             ],
             [
              0.3333333333333333,
              "#9c179e"
             ],
             [
              0.4444444444444444,
              "#bd3786"
             ],
             [
              0.5555555555555556,
              "#d8576b"
             ],
             [
              0.6666666666666666,
              "#ed7953"
             ],
             [
              0.7777777777777778,
              "#fb9f3a"
             ],
             [
              0.8888888888888888,
              "#fdca26"
             ],
             [
              1,
              "#f0f921"
             ]
            ],
            "type": "heatmapgl"
           }
          ],
          "histogram": [
           {
            "marker": {
             "pattern": {
              "fillmode": "overlay",
              "size": 10,
              "solidity": 0.2
             }
            },
            "type": "histogram"
           }
          ],
          "histogram2d": [
           {
            "colorbar": {
             "outlinewidth": 0,
             "ticks": ""
            },
            "colorscale": [
             [
              0,
              "#0d0887"
             ],
             [
              0.1111111111111111,
              "#46039f"
             ],
             [
              0.2222222222222222,
              "#7201a8"
             ],
             [
              0.3333333333333333,
              "#9c179e"
             ],
             [
              0.4444444444444444,
              "#bd3786"
             ],
             [
              0.5555555555555556,
              "#d8576b"
             ],
             [
              0.6666666666666666,
              "#ed7953"
             ],
             [
              0.7777777777777778,
              "#fb9f3a"
             ],
             [
              0.8888888888888888,
              "#fdca26"
             ],
             [
              1,
              "#f0f921"
             ]
            ],
            "type": "histogram2d"
           }
          ],
          "histogram2dcontour": [
           {
            "colorbar": {
             "outlinewidth": 0,
             "ticks": ""
            },
            "colorscale": [
             [
              0,
              "#0d0887"
             ],
             [
              0.1111111111111111,
              "#46039f"
             ],
             [
              0.2222222222222222,
              "#7201a8"
             ],
             [
              0.3333333333333333,
              "#9c179e"
             ],
             [
              0.4444444444444444,
              "#bd3786"
             ],
             [
              0.5555555555555556,
              "#d8576b"
             ],
             [
              0.6666666666666666,
              "#ed7953"
             ],
             [
              0.7777777777777778,
              "#fb9f3a"
             ],
             [
              0.8888888888888888,
              "#fdca26"
             ],
             [
              1,
              "#f0f921"
             ]
            ],
            "type": "histogram2dcontour"
           }
          ],
          "mesh3d": [
           {
            "colorbar": {
             "outlinewidth": 0,
             "ticks": ""
            },
            "type": "mesh3d"
           }
          ],
          "parcoords": [
           {
            "line": {
             "colorbar": {
              "outlinewidth": 0,
              "ticks": ""
             }
            },
            "type": "parcoords"
           }
          ],
          "pie": [
           {
            "automargin": true,
            "type": "pie"
           }
          ],
          "scatter": [
           {
            "fillpattern": {
             "fillmode": "overlay",
             "size": 10,
             "solidity": 0.2
            },
            "type": "scatter"
           }
          ],
          "scatter3d": [
           {
            "line": {
             "colorbar": {
              "outlinewidth": 0,
              "ticks": ""
             }
            },
            "marker": {
             "colorbar": {
              "outlinewidth": 0,
              "ticks": ""
             }
            },
            "type": "scatter3d"
           }
          ],
          "scattercarpet": [
           {
            "marker": {
             "colorbar": {
              "outlinewidth": 0,
              "ticks": ""
             }
            },
            "type": "scattercarpet"
           }
          ],
          "scattergeo": [
           {
            "marker": {
             "colorbar": {
              "outlinewidth": 0,
              "ticks": ""
             }
            },
            "type": "scattergeo"
           }
          ],
          "scattergl": [
           {
            "marker": {
             "colorbar": {
              "outlinewidth": 0,
              "ticks": ""
             }
            },
            "type": "scattergl"
           }
          ],
          "scattermapbox": [
           {
            "marker": {
             "colorbar": {
              "outlinewidth": 0,
              "ticks": ""
             }
            },
            "type": "scattermapbox"
           }
          ],
          "scatterpolar": [
           {
            "marker": {
             "colorbar": {
              "outlinewidth": 0,
              "ticks": ""
             }
            },
            "type": "scatterpolar"
           }
          ],
          "scatterpolargl": [
           {
            "marker": {
             "colorbar": {
              "outlinewidth": 0,
              "ticks": ""
             }
            },
            "type": "scatterpolargl"
           }
          ],
          "scatterternary": [
           {
            "marker": {
             "colorbar": {
              "outlinewidth": 0,
              "ticks": ""
             }
            },
            "type": "scatterternary"
           }
          ],
          "surface": [
           {
            "colorbar": {
             "outlinewidth": 0,
             "ticks": ""
            },
            "colorscale": [
             [
              0,
              "#0d0887"
             ],
             [
              0.1111111111111111,
              "#46039f"
             ],
             [
              0.2222222222222222,
              "#7201a8"
             ],
             [
              0.3333333333333333,
              "#9c179e"
             ],
             [
              0.4444444444444444,
              "#bd3786"
             ],
             [
              0.5555555555555556,
              "#d8576b"
             ],
             [
              0.6666666666666666,
              "#ed7953"
             ],
             [
              0.7777777777777778,
              "#fb9f3a"
             ],
             [
              0.8888888888888888,
              "#fdca26"
             ],
             [
              1,
              "#f0f921"
             ]
            ],
            "type": "surface"
           }
          ],
          "table": [
           {
            "cells": {
             "fill": {
              "color": "#EBF0F8"
             },
             "line": {
              "color": "white"
             }
            },
            "header": {
             "fill": {
              "color": "#C8D4E3"
             },
             "line": {
              "color": "white"
             }
            },
            "type": "table"
           }
          ]
         },
         "layout": {
          "annotationdefaults": {
           "arrowcolor": "#2a3f5f",
           "arrowhead": 0,
           "arrowwidth": 1
          },
          "autotypenumbers": "strict",
          "coloraxis": {
           "colorbar": {
            "outlinewidth": 0,
            "ticks": ""
           }
          },
          "colorscale": {
           "diverging": [
            [
             0,
             "#8e0152"
            ],
            [
             0.1,
             "#c51b7d"
            ],
            [
             0.2,
             "#de77ae"
            ],
            [
             0.3,
             "#f1b6da"
            ],
            [
             0.4,
             "#fde0ef"
            ],
            [
             0.5,
             "#f7f7f7"
            ],
            [
             0.6,
             "#e6f5d0"
            ],
            [
             0.7,
             "#b8e186"
            ],
            [
             0.8,
             "#7fbc41"
            ],
            [
             0.9,
             "#4d9221"
            ],
            [
             1,
             "#276419"
            ]
           ],
           "sequential": [
            [
             0,
             "#0d0887"
            ],
            [
             0.1111111111111111,
             "#46039f"
            ],
            [
             0.2222222222222222,
             "#7201a8"
            ],
            [
             0.3333333333333333,
             "#9c179e"
            ],
            [
             0.4444444444444444,
             "#bd3786"
            ],
            [
             0.5555555555555556,
             "#d8576b"
            ],
            [
             0.6666666666666666,
             "#ed7953"
            ],
            [
             0.7777777777777778,
             "#fb9f3a"
            ],
            [
             0.8888888888888888,
             "#fdca26"
            ],
            [
             1,
             "#f0f921"
            ]
           ],
           "sequentialminus": [
            [
             0,
             "#0d0887"
            ],
            [
             0.1111111111111111,
             "#46039f"
            ],
            [
             0.2222222222222222,
             "#7201a8"
            ],
            [
             0.3333333333333333,
             "#9c179e"
            ],
            [
             0.4444444444444444,
             "#bd3786"
            ],
            [
             0.5555555555555556,
             "#d8576b"
            ],
            [
             0.6666666666666666,
             "#ed7953"
            ],
            [
             0.7777777777777778,
             "#fb9f3a"
            ],
            [
             0.8888888888888888,
             "#fdca26"
            ],
            [
             1,
             "#f0f921"
            ]
           ]
          },
          "colorway": [
           "#636efa",
           "#EF553B",
           "#00cc96",
           "#ab63fa",
           "#FFA15A",
           "#19d3f3",
           "#FF6692",
           "#B6E880",
           "#FF97FF",
           "#FECB52"
          ],
          "font": {
           "color": "#2a3f5f"
          },
          "geo": {
           "bgcolor": "white",
           "lakecolor": "white",
           "landcolor": "#E5ECF6",
           "showlakes": true,
           "showland": true,
           "subunitcolor": "white"
          },
          "hoverlabel": {
           "align": "left"
          },
          "hovermode": "closest",
          "mapbox": {
           "style": "light"
          },
          "paper_bgcolor": "white",
          "plot_bgcolor": "#E5ECF6",
          "polar": {
           "angularaxis": {
            "gridcolor": "white",
            "linecolor": "white",
            "ticks": ""
           },
           "bgcolor": "#E5ECF6",
           "radialaxis": {
            "gridcolor": "white",
            "linecolor": "white",
            "ticks": ""
           }
          },
          "scene": {
           "xaxis": {
            "backgroundcolor": "#E5ECF6",
            "gridcolor": "white",
            "gridwidth": 2,
            "linecolor": "white",
            "showbackground": true,
            "ticks": "",
            "zerolinecolor": "white"
           },
           "yaxis": {
            "backgroundcolor": "#E5ECF6",
            "gridcolor": "white",
            "gridwidth": 2,
            "linecolor": "white",
            "showbackground": true,
            "ticks": "",
            "zerolinecolor": "white"
           },
           "zaxis": {
            "backgroundcolor": "#E5ECF6",
            "gridcolor": "white",
            "gridwidth": 2,
            "linecolor": "white",
            "showbackground": true,
            "ticks": "",
            "zerolinecolor": "white"
           }
          },
          "shapedefaults": {
           "line": {
            "color": "#2a3f5f"
           }
          },
          "ternary": {
           "aaxis": {
            "gridcolor": "white",
            "linecolor": "white",
            "ticks": ""
           },
           "baxis": {
            "gridcolor": "white",
            "linecolor": "white",
            "ticks": ""
           },
           "bgcolor": "#E5ECF6",
           "caxis": {
            "gridcolor": "white",
            "linecolor": "white",
            "ticks": ""
           }
          },
          "title": {
           "x": 0.05
          },
          "xaxis": {
           "automargin": true,
           "gridcolor": "white",
           "linecolor": "white",
           "ticks": "",
           "title": {
            "standoff": 15
           },
           "zerolinecolor": "white",
           "zerolinewidth": 2
          },
          "yaxis": {
           "automargin": true,
           "gridcolor": "white",
           "linecolor": "white",
           "ticks": "",
           "title": {
            "standoff": 15
           },
           "zerolinecolor": "white",
           "zerolinewidth": 2
          }
         }
        },
        "title": {
         "text": "Top 50 identities in terms of self spent proportion"
        },
        "xaxis": {
         "anchor": "y",
         "domain": [
          0,
          1
         ],
         "title": {
          "text": "identity"
         }
        },
        "yaxis": {
         "anchor": "x",
         "domain": [
          0,
          1
         ],
         "title": {
          "text": "self spent proportion (in %)"
         }
        }
       }
      }
     },
     "metadata": {},
     "output_type": "display_data"
    }
   ],
   "source": [
    "# plot the df_test with a bar plot with plotly\n",
    "# with the title 'Top 50 identities in terms of self spent proportion'\n",
    "# with the figsize (15, 10)\n",
    "# with the x axis title 'identity'\n",
    "# with the y axis title 'self spent proportion (in %)'\n",
    "\n",
    "fig = px.bar(df_self_spent_prop_sorted.head(100), title='Top 50 identities in terms of self spent proportion', labels={'index': 'identity', 'value': 'self spent proportion (in %)'}, height=600)\n",
    "fig.show()\n"
   ]
  },
  {
   "attachments": {},
   "cell_type": "markdown",
   "metadata": {},
   "source": [
    "We can observe the nature of the actors in terms of spending. As we can see here, for some actors the proportion of self_spending is very high.\n",
    "\n",
    "It is difficult to predict what are the intentions of such actors. Some might manage exchange platforms, that opper intern transactions for several reasons.\n",
    "\n",
    "Others might use mixing techniques to hide their transactions, or to dissimulate the origin of their funds."
   ]
  },
  {
   "cell_type": "code",
   "execution_count": 278,
   "metadata": {},
   "outputs": [
    {
     "data": {
      "text/plain": [
       "-0.049798379838131165"
      ]
     },
     "execution_count": 278,
     "metadata": {},
     "output_type": "execute_result"
    }
   ],
   "source": [
    "df_mean_fee_per_transaction = df.groupby('identity')['mean_fee_for100'].mean()\n",
    "\n",
    "df_self_spent_prop_raw = df.groupby('identity')['self_spent_proportion'].mean()\n",
    "\n",
    "df_mean_fee_per_transaction.corr(df_self_spent_prop_raw)\n"
   ]
  },
  {
   "attachments": {},
   "cell_type": "markdown",
   "metadata": {},
   "source": [
    "Il n'y a donc pas de relation linéaire claire entre ces deux variables. En d'autres termes, le fait qu'un acteur émette une proportion plus élevée ou plus faible d'auto transactions n'a pas d'impact direct et prévisible sur les frais moyens qu'il paie par transaction."
   ]
  }
 ],
 "metadata": {
  "kernelspec": {
   "display_name": "dev",
   "language": "python",
   "name": "python3"
  },
  "language_info": {
   "codemirror_mode": {
    "name": "ipython",
    "version": 3
   },
   "file_extension": ".py",
   "mimetype": "text/x-python",
   "name": "python",
   "nbconvert_exporter": "python",
   "pygments_lexer": "ipython3",
   "version": "3.10.10"
  },
  "orig_nbformat": 4
 },
 "nbformat": 4,
 "nbformat_minor": 2
}
